{
 "cells": [
  {
   "cell_type": "markdown",
   "metadata": {
    "slideshow": {
     "slide_type": "slide"
    }
   },
   "source": [
    "# Going deeper with Tensorflow\n",
    "\n",
    "In this video, we're going to study the tools you'll use to build deep learning models. Namely, [Tensorflow](https://www.tensorflow.org/).\n",
    "\n",
    "If you're running this notebook outside the course environment, you'll need to install tensorflow:\n",
    "* `pip install tensorflow` should install cpu-only TF on Linux & Mac OS\n",
    "* If you want GPU support from offset, see [TF install page](https://www.tensorflow.org/install/)"
   ]
  },
  {
   "cell_type": "code",
   "execution_count": 1,
   "metadata": {
    "collapsed": true
   },
   "outputs": [],
   "source": [
    "import sys\n",
    "sys.path.append(\"..\")\n",
    "import grading"
   ]
  },
  {
   "cell_type": "markdown",
   "metadata": {},
   "source": [
    "# Visualization"
   ]
  },
  {
   "cell_type": "markdown",
   "metadata": {},
   "source": [
    "Plase note that if you are running on the Coursera platform, you won't be able to access the tensorboard instance due to the network setup there. If you run the notebook locally, you should be able to access TensorBoard on http://127.0.0.1:7007/"
   ]
  },
  {
   "cell_type": "code",
   "execution_count": 26,
   "metadata": {},
   "outputs": [
    {
     "name": "stdout",
     "output_type": "stream",
     "text": [
      "/bin/sh: 1: killall: not found\r\n"
     ]
    }
   ],
   "source": [
    "! killall tensorboard\n",
    "import os\n",
    "import matplotlib.pyplot as plt\n",
    "os.system(\"tensorboard --logdir=/tmp/tboard --port=7007 &\");"
   ]
  },
  {
   "cell_type": "code",
   "execution_count": 5,
   "metadata": {
    "collapsed": true
   },
   "outputs": [],
   "source": [
    "import tensorflow as tf\n",
    "s = tf.InteractiveSession()"
   ]
  },
  {
   "cell_type": "markdown",
   "metadata": {},
   "source": [
    "# Warming up\n",
    "For starters, let's implement a python function that computes the sum of squares of numbers from 0 to N-1."
   ]
  },
  {
   "cell_type": "code",
   "execution_count": 6,
   "metadata": {
    "collapsed": true
   },
   "outputs": [],
   "source": [
    "import numpy as np\n",
    "def sum_sin(N):\n",
    "    return np.sum(np.arange(N)**2)"
   ]
  },
  {
   "cell_type": "code",
   "execution_count": 7,
   "metadata": {},
   "outputs": [
    {
     "name": "stdout",
     "output_type": "stream",
     "text": [
      "CPU times: user 336 ms, sys: 324 ms, total: 660 ms\n",
      "Wall time: 824 ms\n"
     ]
    },
    {
     "data": {
      "text/plain": [
       "662921401752298880"
      ]
     },
     "execution_count": 7,
     "metadata": {},
     "output_type": "execute_result"
    }
   ],
   "source": [
    "%%time\n",
    "sum_sin(10**8)"
   ]
  },
  {
   "cell_type": "code",
   "execution_count": 7,
   "metadata": {},
   "outputs": [
    {
     "data": {
      "text/plain": [
       "190"
      ]
     },
     "execution_count": 7,
     "metadata": {},
     "output_type": "execute_result"
    }
   ],
   "source": [
    "temp = 0\n",
    "for i in range(20):\n",
    "    temp = temp+i\n",
    "\n",
    "temp"
   ]
  },
  {
   "cell_type": "markdown",
   "metadata": {},
   "source": [
    "# Tensoflow teaser\n",
    "\n",
    "Doing the very same thing"
   ]
  },
  {
   "cell_type": "code",
   "execution_count": 8,
   "metadata": {
    "collapsed": true
   },
   "outputs": [],
   "source": [
    "# An integer parameter\n",
    "N = tf.placeholder('int64', name=\"input_to_your_function\")\n",
    "\n",
    "# A recipe on how to produce the same result\n",
    "result = tf.reduce_sum(tf.range(N)**2)"
   ]
  },
  {
   "cell_type": "code",
   "execution_count": 9,
   "metadata": {},
   "outputs": [
    {
     "data": {
      "text/plain": [
       "<tf.Tensor 'Sum:0' shape=() dtype=int64>"
      ]
     },
     "execution_count": 9,
     "metadata": {},
     "output_type": "execute_result"
    }
   ],
   "source": [
    "result"
   ]
  },
  {
   "cell_type": "code",
   "execution_count": 10,
   "metadata": {},
   "outputs": [
    {
     "name": "stdout",
     "output_type": "stream",
     "text": [
      "CPU times: user 444 ms, sys: 140 ms, total: 584 ms\n",
      "Wall time: 468 ms\n"
     ]
    },
    {
     "data": {
      "text/plain": [
       "662921401752298880"
      ]
     },
     "execution_count": 10,
     "metadata": {},
     "output_type": "execute_result"
    }
   ],
   "source": [
    "%%time\n",
    "result.eval({N: 10**8})"
   ]
  },
  {
   "cell_type": "code",
   "execution_count": 12,
   "metadata": {
    "collapsed": true
   },
   "outputs": [],
   "source": [
    "writer = tf.summary.FileWriter(\"/tmp/tboard\", graph=s.graph)"
   ]
  },
  {
   "cell_type": "markdown",
   "metadata": {},
   "source": [
    "# How does it work?\n",
    "1. Define placeholders where you'll send inputs\n",
    "2. Make symbolic graph: a recipe for mathematical transformation of those placeholders\n",
    "3. Compute outputs of your graph with particular values for each placeholder\n",
    "  * `output.eval({placeholder:value})`\n",
    "  * `s.run(output, {placeholder:value})`\n",
    "\n",
    "So far there are two main entities: \"placeholder\" and \"transformation\"\n",
    "* Both can be numbers, vectors, matrices, tensors, etc.\n",
    "* Both can be int32/64, floats, booleans (uint8) of various size.\n",
    "\n",
    "* You can define new transformations as an arbitrary operation on placeholders and other transformations\n",
    " * `tf.reduce_sum(tf.arange(N)**2)` are 3 sequential transformations of placeholder `N`\n",
    " * There's a tensorflow symbolic version for every numpy function\n",
    "   * `a+b, a/b, a**b, ...` behave just like in numpy\n",
    "   * `np.mean` -> `tf.reduce_mean`\n",
    "   * `np.arange` -> `tf.range`\n",
    "   * `np.cumsum` -> `tf.cumsum`\n",
    "   * If if you can't find the op you need, see the [docs](https://www.tensorflow.org/api_docs/python).\n",
    "   \n",
    "`tf.contrib` has many high-level features, may be worth a look."
   ]
  },
  {
   "cell_type": "code",
   "execution_count": 13,
   "metadata": {
    "collapsed": true
   },
   "outputs": [],
   "source": [
    "with tf.name_scope(\"Placeholders_examples\"):\n",
    "    # Default placeholder that can be arbitrary float32\n",
    "    # scalar, vertor, matrix, etc.\n",
    "    arbitrary_input = tf.placeholder('float32')\n",
    "\n",
    "    # Input vector of arbitrary length\n",
    "    input_vector = tf.placeholder('float32', shape=(None,))\n",
    "\n",
    "    # Input vector that _must_ have 10 elements and integer type\n",
    "    fixed_vector = tf.placeholder('int32', shape=(10,))\n",
    "\n",
    "    # Matrix of arbitrary n_rows and 15 columns\n",
    "    # (e.g. a minibatch your data table)\n",
    "    input_matrix = tf.placeholder('float32', shape=(None, 15))\n",
    "    \n",
    "    # You can generally use None whenever you don't need a specific shape\n",
    "    input1 = tf.placeholder('float64', shape=(None, 100, None))\n",
    "    input2 = tf.placeholder('int32', shape=(None, None, 3, 224, 224))\n",
    "\n",
    "    # elementwise multiplication\n",
    "    double_the_vector = input_vector*2\n",
    "\n",
    "    # elementwise cosine\n",
    "    elementwise_cosine = tf.cos(input_vector)\n",
    "\n",
    "    # difference between squared vector and vector itself plus one\n",
    "    vector_squares = input_vector**2 - input_vector + 1"
   ]
  },
  {
   "cell_type": "code",
   "execution_count": 14,
   "metadata": {
    "collapsed": true
   },
   "outputs": [],
   "source": [
    "my_vector =  tf.placeholder('float32', shape=(None,), name=\"VECTOR_1\")\n",
    "my_vector2 = tf.placeholder('float32', shape=(None,))\n",
    "my_transformation = my_vector * my_vector2 / (tf.sin(my_vector) + 1)"
   ]
  },
  {
   "cell_type": "code",
   "execution_count": 15,
   "metadata": {},
   "outputs": [
    {
     "name": "stdout",
     "output_type": "stream",
     "text": [
      "Tensor(\"truediv:0\", shape=(?,), dtype=float32)\n"
     ]
    }
   ],
   "source": [
    "print(my_transformation)"
   ]
  },
  {
   "cell_type": "code",
   "execution_count": 16,
   "metadata": {},
   "outputs": [
    {
     "name": "stdout",
     "output_type": "stream",
     "text": [
      "[ 0.  1.  2.  3.  4.]\n"
     ]
    },
    {
     "data": {
      "text/plain": [
       "array([ 0.        ,  1.62913239,  2.09501147,  2.62899613,  0.        ], dtype=float32)"
      ]
     },
     "execution_count": 16,
     "metadata": {},
     "output_type": "execute_result"
    }
   ],
   "source": [
    "dummy = np.arange(5).astype('float32')\n",
    "print(dummy)\n",
    "my_transformation.eval({my_vector:dummy, my_vector2:dummy[::-1]})"
   ]
  },
  {
   "cell_type": "code",
   "execution_count": 17,
   "metadata": {
    "collapsed": true
   },
   "outputs": [],
   "source": [
    "writer.add_graph(my_transformation.graph)\n",
    "writer.flush()"
   ]
  },
  {
   "cell_type": "markdown",
   "metadata": {},
   "source": [
    "TensorBoard allows writing scalars, images, audio, histogram. You can read more on tensorboard usage [here](https://www.tensorflow.org/get_started/graph_viz)."
   ]
  },
  {
   "cell_type": "markdown",
   "metadata": {},
   "source": [
    "# Summary\n",
    "* Tensorflow is based on computation graphs\n",
    "* The graphs consist of placehlders and transformations"
   ]
  },
  {
   "cell_type": "markdown",
   "metadata": {},
   "source": [
    "# Mean squared error\n",
    "\n",
    "Your assignment is to implement mean squared error in tensorflow."
   ]
  },
  {
   "cell_type": "code",
   "execution_count": 18,
   "metadata": {
    "collapsed": true
   },
   "outputs": [],
   "source": [
    "with tf.name_scope(\"MSE\"):\n",
    "    y_true = tf.placeholder(\"float32\", shape=(None,), name=\"y_true\")\n",
    "    y_predicted = tf.placeholder(\"float32\", shape=(None,), name=\"y_predicted\")\n",
    "    # Your code goes here\n",
    "    # You want to use tf.reduce_mean\n",
    "    mse = tf.reduce_mean((y_true - y_predicted)**2)\n",
    "def compute_mse(vector1, vector2):\n",
    "    return mse.eval({y_true: vector1, y_predicted: vector2})"
   ]
  },
  {
   "cell_type": "code",
   "execution_count": 19,
   "metadata": {
    "collapsed": true
   },
   "outputs": [],
   "source": [
    "writer.add_graph(mse.graph)\n",
    "writer.flush()"
   ]
  },
  {
   "cell_type": "markdown",
   "metadata": {},
   "source": [
    "Tests and result submission. Please use the credentials obtained from the Coursera assignment page."
   ]
  },
  {
   "cell_type": "code",
   "execution_count": 21,
   "metadata": {
    "collapsed": true
   },
   "outputs": [],
   "source": [
    "import submit"
   ]
  },
  {
   "cell_type": "code",
   "execution_count": 23,
   "metadata": {},
   "outputs": [
    {
     "name": "stdout",
     "output_type": "stream",
     "text": [
      "Submitted to Coursera platform. See results on assignment page!\n"
     ]
    }
   ],
   "source": [
    "submit.submit_mse(compute_mse, \"", \"1lvVZO0QniHG0o85\")"
   ]
  },
  {
   "cell_type": "markdown",
   "metadata": {},
   "source": [
    "# Variables\n",
    "\n",
    "The inputs and transformations have no value outside function call. This isn't too comfortable if you want your model to have parameters (e.g. network weights) that are always present, but can change their value over time.\n",
    "\n",
    "Tensorflow solves this with `tf.Variable` objects.\n",
    "* You can assign variable a value at any time in your graph\n",
    "* Unlike placeholders, there's no need to explicitly pass values to variables when `s.run(...)`-ing\n",
    "* You can use variables the same way you use transformations \n",
    " "
   ]
  },
  {
   "cell_type": "code",
   "execution_count": 20,
   "metadata": {
    "collapsed": true
   },
   "outputs": [],
   "source": [
    "# Creating a shared variable\n",
    "shared_vector_1 = tf.Variable(initial_value=np.ones(5),\n",
    "                              name=\"example_variable\")"
   ]
  },
  {
   "cell_type": "code",
   "execution_count": 21,
   "metadata": {},
   "outputs": [
    {
     "name": "stdout",
     "output_type": "stream",
     "text": [
      "Initial value [ 1.  1.  1.  1.  1.]\n"
     ]
    }
   ],
   "source": [
    "# Initialize variable(s) with initial values\n",
    "s.run(tf.global_variables_initializer())\n",
    "\n",
    "# Evaluating shared variable (outside symbolicd graph)\n",
    "print(\"Initial value\", s.run(shared_vector_1))\n",
    "\n",
    "# Within symbolic graph you use them just\n",
    "# as any other inout or transformation, not \"get value\" needed"
   ]
  },
  {
   "cell_type": "code",
   "execution_count": 20,
   "metadata": {},
   "outputs": [
    {
     "name": "stdout",
     "output_type": "stream",
     "text": [
      "New value [ 0.  1.  2.  3.  4.]\n"
     ]
    }
   ],
   "source": [
    "# Setting a new value\n",
    "s.run(shared_vector_1.assign(np.arange(5)))\n",
    "\n",
    "# Getting that new value\n",
    "print(\"New value\", s.run(shared_vector_1))"
   ]
  },
  {
   "cell_type": "markdown",
   "metadata": {},
   "source": [
    "# tf.gradients - why graphs matter\n",
    "* Tensorflow can compute derivatives and gradients automatically using the computation graph\n",
    "* True to its name it can manage matrix derivatives\n",
    "* Gradients are computed as a product of elementary derivatives via the chain rule:\n",
    "\n",
    "$$ {\\partial f(g(x)) \\over \\partial x} = {\\partial f(g(x)) \\over \\partial g(x)}\\cdot {\\partial g(x) \\over \\partial x} $$\n",
    "\n",
    "It can get you the derivative of any graph as long as it knows how to differentiate elementary operations"
   ]
  },
  {
   "cell_type": "code",
   "execution_count": 22,
   "metadata": {
    "collapsed": true
   },
   "outputs": [],
   "source": [
    "my_scalar = tf.placeholder('float32')\n",
    "\n",
    "scalar_squared = my_scalar**2\n",
    "\n",
    "# A derivative of scalar_squared by my_scalar\n",
    "derivative = tf.gradients(scalar_squared, [my_scalar, ])"
   ]
  },
  {
   "cell_type": "code",
   "execution_count": 23,
   "metadata": {},
   "outputs": [
    {
     "data": {
      "text/plain": [
       "[<tf.Tensor 'gradients/pow_1_grad/Reshape:0' shape=<unknown> dtype=float32>]"
      ]
     },
     "execution_count": 23,
     "metadata": {},
     "output_type": "execute_result"
    }
   ],
   "source": [
    "derivative"
   ]
  },
  {
   "cell_type": "code",
   "execution_count": 22,
   "metadata": {},
   "outputs": [
    {
     "data": {
      "image/png": "iVBORw0KGgoAAAANSUhEUgAAAXYAAAD8CAYAAABjAo9vAAAABHNCSVQICAgIfAhkiAAAAAlwSFlz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\nAABJRU5ErkJggg==\n",
      "text/plain": [
       "<matplotlib.figure.Figure at 0x7f3a3f582f60>"
      ]
     },
     "metadata": {},
     "output_type": "display_data"
    }
   ],
   "source": [
    "import matplotlib.pyplot as plt\n",
    "%matplotlib inline\n",
    "\n",
    "x = np.linspace(-3, 3)\n",
    "x_squared, x_squared_der = s.run([scalar_squared, derivative[0]],\n",
    "                                 {my_scalar:x})\n",
    "\n",
    "plt.plot(x, x_squared,label=\"$x^2$\")\n",
    "plt.plot(x, x_squared_der, label=r\"$\\frac{dx^2}{dx}$\")\n",
    "plt.legend();"
   ]
  },
  {
   "cell_type": "markdown",
   "metadata": {},
   "source": [
    "# Why that rocks"
   ]
  },
  {
   "cell_type": "code",
   "execution_count": 24,
   "metadata": {
    "collapsed": true
   },
   "outputs": [],
   "source": [
    "my_vector = tf.placeholder('float32', [None])\n",
    "# Compute the gradient of the next weird function over my_scalar and my_vector\n",
    "# Warning! Trying to understand the meaning of that function may result in permanent brain damage\n",
    "weird_psychotic_function = tf.reduce_mean(\n",
    "    (my_vector+my_scalar)**(1+tf.nn.moments(my_vector,[0])[1]) + \n",
    "    1./ tf.atan(my_scalar))/(my_scalar**2 + 1) + 0.01*tf.sin(\n",
    "    2*my_scalar**1.5)*(tf.reduce_sum(my_vector)* my_scalar**2\n",
    "                      )*tf.exp((my_scalar-4)**2)/(\n",
    "    1+tf.exp((my_scalar-4)**2))*(1.-(tf.exp(-(my_scalar-4)**2)\n",
    "                                    )/(1+tf.exp(-(my_scalar-4)**2)))**2\n",
    "\n",
    "der_by_scalar = tf.gradients(weird_psychotic_function, my_scalar)\n",
    "der_by_vector = tf.gradients(weird_psychotic_function, my_vector)"
   ]
  },
  {
   "cell_type": "code",
   "execution_count": 27,
   "metadata": {},
   "outputs": [],
   "source": [
    "# Plotting the derivative\n",
    "scalar_space = np.linspace(1, 7, 100)\n",
    "\n",
    "y = [s.run(weird_psychotic_function, {my_scalar:x, my_vector:[1, 2, 3]})\n",
    "     for x in scalar_space]\n",
    "\n",
    "plt.plot(scalar_space, y, label='function')\n",
    "\n",
    "y_der_by_scalar = [s.run(der_by_scalar,\n",
    "                         {my_scalar:x, my_vector:[1, 2, 3]})\n",
    "                   for x in scalar_space]\n",
    "\n",
    "plt.plot(scalar_space, y_der_by_scalar, label='derivative')\n",
    "plt.grid()\n",
    "plt.legend();"
   ]
  },
  {
   "cell_type": "markdown",
   "metadata": {},
   "source": [
    "# Almost done - optimizers\n",
    "\n",
    "While you can perform gradient descent by hand with automatic grads from above, tensorflow also has some optimization methods implemented for you. Recall momentum & rmsprop?"
   ]
  },
  {
   "cell_type": "code",
   "execution_count": 30,
   "metadata": {
    "collapsed": true
   },
   "outputs": [],
   "source": [
    "y_guess = tf.Variable(np.zeros(2, dtype='float32'))\n",
    "y_true = tf.range(1, 3, dtype='float32')\n",
    "loss = tf.reduce_mean((y_guess - y_true + tf.random_normal([2]))**2) \n",
    "#loss = tf.reduce_mean((y_guess - y_true)**2) \n",
    "optimizer = tf.train.MomentumOptimizer(0.01, 0.5).minimize(\n",
    "    loss, var_list=y_guess)"
   ]
  },
  {
   "cell_type": "code",
   "execution_count": 31,
   "metadata": {},
   "outputs": [],
   "source": [
    "from matplotlib import animation, rc\n",
    "import matplotlib_utils\n",
    "from IPython.display import HTML\n",
    "\n",
    "fig, ax = plt.subplots()\n",
    "y_true_value = s.run(y_true)\n",
    "level_x = np.arange(0, 2, 0.02)\n",
    "level_y = np.arange(0, 3, 0.02)\n",
    "X, Y = np.meshgrid(level_x, level_y)\n",
    "Z = (X - y_true_value[0])**2 + (Y - y_true_value[1])**2\n",
    "ax.set_xlim(-0.02, 2)\n",
    "ax.set_ylim(-0.02, 3)\n",
    "s.run(tf.global_variables_initializer())\n",
    "ax.scatter(*s.run(y_true), c='red')\n",
    "contour = ax.contour(X, Y, Z, 10)\n",
    "ax.clabel(contour, inline=1, fontsize=10)\n",
    "line, = ax.plot([], [], lw=2)\n",
    "\n",
    "def init():\n",
    "    line.set_data([], [])\n",
    "    return (line,)\n",
    "\n",
    "guesses = [s.run(y_guess)]\n",
    "\n",
    "def animate(i):\n",
    "    s.run(optimizer)\n",
    "    guesses.append(s.run(y_guess))\n",
    "    line.set_data(*zip(*guesses))\n",
    "    return (line,)\n",
    "\n",
    "anim = animation.FuncAnimation(fig, animate, init_func=init,\n",
    "                               frames=400, interval=20, blit=True)"
   ]
  },
  {
   "cell_type": "code",
   "execution_count": 32,
   "metadata": {},
   "outputs": [
    {
     "data": {
      "text/html": [
       "<img src=\"data:image/jpeg;base64,/9j/4AAQSkZJRgABAQAAAQABAAD/2wBDAAIBAQEBAQIBAQECAgICAgQDAgICAgUEBAMEBgUGBgYFBgYGBwkIBgcJBwYGCAsICQoKCgoKBggLDAsKDAkKCgr/2wBDAQICAgICAgUDAwUKBwYHCgoKCgoKCgoKCgoKCgoKCgoKCgoKCgoKCgoKCgoKCgoKCgoKCgoKCgoKCgoKCgoKCgr/wAARCAEgAbADASIAAhEBAxEB/8QAHwAAAQUBAQEBAQEAAAAAAAAAAAECAwQFBgcICQoL/8QAtRAAAgEDAwIEAwUFBAQAAAF9AQIDAAQRBRIhMUEGE1FhByJxFDKBkaEII0KxwRVS0fAkM2JyggkKFhcYGRolJicoKSo0NTY3ODk6Q0RFRkdISUpTVFVWV1hZWmNkZWZnaGlqc3R1dnd4eXqDhIWGh4iJipKTlJWWl5iZmqKjpKWmp6ipqrKztLW2t7i5usLDxMXGx8jJytLT1NXW19jZ2uHi4%2BTl5ufo6erx8vP09fb3%2BPn6/8QAHwEAAwEBAQEBAQEBAQAAAAAAAAECAwQFBgcICQoL/8QAtREAAgECBAQDBAcFBAQAAQJ3AAECAxEEBSExBhJBUQdhcRMiMoEIFEKRobHBCSMzUvAVYnLRChYkNOEl8RcYGRomJygpKjU2Nzg5OkNERUZHSElKU1RVVldYWVpjZGVmZ2hpanN0dXZ3eHl6goOEhYaHiImKkpOUlZaXmJmaoqOkpaanqKmqsrO0tba3uLm6wsPExcbHyMnK0tPU1dbX2Nna4uPk5ebn6Onq8vP09fb3%2BPn6/9oADAMBAAIRAxEAPwD9/KKKKACiiigAooooAKKKKACiiigAooooAKKKKACiiigAooooAKKKKACiiigAooooAKKKKACiiigAooooAKKKKACiiigAooooAKKKKACiiigAooooAKKKKACiiigAooooAKKKKACiiigAooooAKKKKACiiigAorj/AAR%2B0J8A/iZ431n4Z/Dj44eD/EHiTw5JJH4h8P6J4ltbu%2B0t0kMTrcQRSNJAVkBQh1GGG088VZtfjb8Gb74p3PwLsvi54Ym8b2dgL288HRa/btqsFqQpE72gfzljIdPnK7fmXnkUAdPRRRQAUUUUAFFFFABRRRQAUUUUAFFFFABRRRQAUUUUAFFFFABRRRQAUUUUAFFFFABRRRQAUUUUAFFFFABRRRQAUUUUAFFFFABRRRQAUUUUAFFFFABRRRQAUUUUAFFFFABRRRQAUUUUAfIz%2BIrvxH/wUT0j40aVp3xZ1nw/4Z8I6/pWr2XiP4WX%2Bn6b4Ukmn0yMNpUo06CbVWu5bUtJiS%2BRUQyxvbxjbLy/g74f/EGL9qTw98N5fhR4oh17Qf2nfEnj3WvGcvhq6TSpvDt5oWp29tImpmP7NPIVvbDT/sqyGZPszMYxHCr19w0UAeIftr%2BO/wBp34WeFtF8bfAPx94D022ufF/hzw/qFj4v8B3uqyO%2Bq67Y6X9ojlttVsxGIkvDJ5ZR95jA3oDkWf8AhB/%2BChf/AEdB8Gf/AAw%2Brf8AzUUft4f8kQ0P/ss3w4/9TXRK9moA8Z/4Qf8A4KF/9HQfBn/ww%2Brf/NRVbWdA/bz8OaRdeIPEP7W3wQsLCyt3nvb29%2BB2qRQ28SAs0ju3ikKigAkkkAAZrtvhz8ddL%2BIPxC8S/DO58F65oGp%2BHTHIkWuxQx/2nZvJNEt5biOVy0JlglTLBW4UlQHUnwnxj4Y%2BMnh7SfE/w8%2BNujX%2BsaZ8RPFEvhqz8ZS%2BM3nuFS8eQ2EkOlRwrDawQsyQuY2EpCNOwKqSOulhHOfLN2emnVp9tbOyu/6dsZ1Uo3Svv/X3lHxB8b/27NYt/Cy/AD9pj4A%2BOLnxXqV3bWWPhRqtnboLWBp58y/8JHKfNCqAsRUFtwJKoC47H4Paz%2B3j8Zfh1p3xD0P9pT4RWkd4JYrqwvPgJqyz2V1DK8FxbSj/AISjiSKaOSNscbkOOKzfC3wc%2BK/xk%2BI914s8Z%2BCNU8Aatplhpl2de32sscviW1M0TXVtHHI3m272k8sT7wm%2BO5ZPvLlPb/gn8K5vhL4RuNG1LxGNX1PUtYvNV1nU0sVtUuLu5lMkjJCpYRoMgBdzHC5LMSSdcTTwtKlyxfvffvfqtNrbWflrpNKVWUrvb%2BvmeEeBx/wWR8RfFHWNF8XeKPgJ4e8H2FxPDpniCf4dapc32qbWxHMlnF4gKRRuAW/eThxkZTOcegf8IP8A8FC/%2BjoPgz/4YfVv/mor2aiuKclN3UUvS/6tm0U0tXc8Z/4Qf/goX/0dB8Gf/DD6t/8ANRR/wg//AAUL/wCjoPgz/wCGH1b/AOaivZqw/iF8T/ht8JPDsni/4qfEDRPDWlQ/63Ute1SGzgXjODJKyrn8amMZSdoq7K3PNf8AhB/%2BChf/AEdB8Gf/AAw%2Brf8AzUUf8IP/AMFC/wDo6D4M/wDhh9W/%2BaiuQn/4Kh/BjxncPpn7Lfwu%2BInxlulcx/afAPhOX%2BzEkzgB9SvDBaBf9pZH78HFNHiv/gqv8XOfD3wo%2BFXwe0%2BX5Wl8V65ceJtVjH98QWQgtVb2M7jPr1rs/s/ER/i2h/iaT%2B7WX/kpfJLrodj/AMIP/wAFC/8Ao6D4M/8Ahh9W/wDmorK8XH9tXwBpZ1vx5%2B2j8BNEsl%2B9eav8F9Stoh/wOTxUB%2BtYn/DB3xr%2BIH779or/AIKJfFfXc8PpvgZ7TwnYsvdStjGbgj63BODyTWt4R/4JZ/sB%2BE9UGv3H7NOh%2BItT6vqnjiWfX7h267i%2BoyTHOeeMY7Yo9lgYfHVcv8Mf1k1%2BQWgup4x4q/4KMP4T1I6Kf%2BCo37O2tXwyBZeD/gRrmuzE%2BgTTvEs5J7YxWb/w3d%2B3rr//ACSnwjrXi1H/AOPe8tP2O9a022l9CJdT8W2w2%2B/P0r7m8K%2BCvBvgTTRovgjwlpmjWa/dtNKsI7eIf8BjUD9K06Pa4CPw0pP1lb8Ix/ULw7HwPH8av%2BDgjxA4bwj%2BzN8I7OBz8k3jHRfsJx6lLTxNeMv0IzXffCy1/wCC7ev%2BI7T/AIW94p/ZT8N6I%2B77ZLo/hPxHqd9F8jbdsTalBE3z7QcyjAJPJAB%2BuqKieIpSjaNKK/8AAm/xl%2BgnJdjxn/hB/wDgoX/0dB8Gf/DD6t/81FH/AAg//BQv/o6D4M/%2BGH1b/wCaivZqK5STxn/hB/8AgoX/ANHQfBn/AMMPq3/zUUf8IP8A8FC/%2BjoPgz/4YfVv/mor2aigDxn/AIQf/goX/wBHQfBn/wAMPq3/AM1FH/CD/wDBQv8A6Og%2BDP8A4YfVv/mor2aigDxn/hB/%2BChf/R0HwZ/8MPq3/wA1FH/CD/8ABQvt%2B1B8Gf8Aww%2Brf/NRXs1FAHxJ4k1P/g4i8P7pdK0j9kfX0H3E0%2Bw8RW8jD3E96qg/8CNYI/aJ/wCC63hg%2Bd8Sv2XvBot1/wBZP4J8CQ6wf%2BAxyeMLaRv%2B%2BRX3zRXZHE0bWlRi/wDwJflJ/kVzLsfK/wCz98Sv%2BChPx%2B0zUr9/GnhvwRNpk8cU1j8Qf2YtX06WYspO6EjxY6TKMYLIxAJA71pfEvxF/wAFBvh74t8EeC7f9oL4M6he%2BNvEj6Xbr/wpTVYRaxRWNzeTXJ/4qZt4VLbbs%2BXLSKNwr6Wrzbx/%2BzPoHjv4y6D8dU%2BI/jDSdb8O288NhbafrKyaeVmiaKQtZ3EcsIYqeXRVf5R83XMU5Yd13Jq0bOy1lrZ27PfW/QFy3PBf2g/jh/wUO%2BCWpXmmaH8V/hH4kfQPDMniXxhJD8GdStk0nR42kDT5fxOTNKfJmKQqAWELfMOM60Hxz/aoufinb/CGL9rP4VnUrm7SyS7/AOGbde%2BwrfvaC8Wxa6/4SXyluTbETeUWB2%2B4xXb/ABj/AGSvHXxJ8U31xpHxXtLTR/Fvh6w0bx8l1ope9u7e1mkk3WsiSpHCZlkeGRWjZQrFkw2c8PqP7PH7SK6v4g8LaD4b06z0/TfFeu%2BL9B8S/wBqKf7Sv5bcppVsIBmSLySyrK78MLddmRIQnXTo4GpSScrO3e333XR9F038qSg0dT4Q179rv4gavqvh/wACftzfs%2Ba1qGhXAg1ux0r4O6hcTafISQEnRPFZaIkq2AwGcH0rf/4Qf/goX/0dB8Gf/DD6t/8ANRXF/sZeCtWfxvoXiLRPBHiDw54Z8GfCDTvCaQeJdBm0271HUzMJrl3imVXkEIiTE2NjyXc5RnBLH0f4l/ttfsqfBj4q2/wW%2BMHxs0fwr4gu7OO5s4vEbPZW1wjlgoS7mVbdnypygk3jIyBuGeethJKu6dFOVlfRXfntfyfW1yXHWyMz/hB/%2BChf/R0HwZ/8MPq3/wA1FH/CD/8ABQv/AKOg%2BDP/AIYfVv8A5qK9f0vVdM1zTodX0XUoLy0uYxJb3VrMskcqHoyspIYH1FT1x7EnjP8Awg//AAUL/wCjoPgz/wCGH1b/AOaivP8AwGP%2BCyGo/FLVfB/xL8UfATSfDkFvLNo3i/R/h1ql9HeYlVUhltpPEEMsEpRi5wHjGxhvPy5%2BpqKuM1FNOKd/XTzWv53Jaba1Pmf48eIv%2BCh/wV%2BHFx41sPjv8F9d1F7q3sdG0I/BrV7RtRvriVYbeBZB4jl2lpHUE7DhdzHhTV/4ieI/2wPhBo9pr3xY/ba%2BAnh2zvb2Ozgu9W%2BCmqQwtcPnam9/FIAzg8nA47V6B8VvgFqvxB%2BJ3hf4raX8TdStJfCt2bq28M30Edzo93N9nuIVmki2rKkyi5YrIkgA2qSjEDHC/tNQ/EnxB4m8NL4X%2BFfixvF2g3kEnhzWNKeCbQLk3Pl29/HeCQsUiSCSfJliRyozCxc7R10aVCqoQv3bezXZa6WVt9d3poZTnUhzO3a39I2bTwl/wUAv7WK/sP2qvgrPBPGskM0PwK1VkkQjIZSPFOCCDkEVJ/wg/wDwUL/6Og%2BDP/hh9W/%2BaivNdS%2BMuueHtf0z4uRfEy50Hw1a%2BK9StLHwjZ20MenQeGNKW4TULuaLZv377d3VwRtCRqnDkN7F8G/j74n%2BIXjWbwN47%2BFzeFr2Xw3a6/pVrLq4uZ3sppHj23MYjX7NOrpgx5cfNw5KsqzVwVWnHmWq/L/O11e2g4V4SdjjNS8Y/tm/CX40/Crw18Ufi38MPEvh/wAeeNbvQdTtNA%2BF2o6ReW4j8P6vqcc0VxNrl2gPm6dGjK0JysjYKkA19A14z%2B1B/wAlv/Zx/wCyzX3/AKhXiivZq4zYKKKKACiiigAooooAKKKKACiiigDxn9vD/kiGh/8AZZvhx/6muiV0/gH9pT4cfFD4t%2BIvhB4Dg1jUbnwoGj17Wo9HlXS7a8V1VrEXTAJJcru3MibtoByQRiuY/bw/5Ihof/ZZvhx/6muiV7KiJGCI0CgkkgDHJ5Jq4umovmV301tb/P00Jak2rM8u%2BLvwe%2BKHi/41eDviZ8MfGOkeHP7Ds72013Ubqwe8ub%2BynMTGzSHckajfEsgmdm2OgxGwZs9XafB34fJ4nsPHus%2BHrbV/EemWrW9l4i1W2jlvIUZmLBH2gR53EHYFyMA8AV09FW69VxUb2sraaaeb3e//AABKnFNvuFVtY1nSPD2lXOva/qttY2NnA015e3k6xRQRqMs7uxAVQASSTgAVT8bjxq3hHUV%2BHEulprptWGlPrUUj2izY%2BUyrGyuyDuFZSemR1rxI634q/ae/ZI8b/C/4i32k6V430d7vw94oxGYLAalAUeGULIzMltcxtbTKCzER3O3cWXNOlR9ouZvS6T7q/W3b9TRK50PxC/a50a2t/C6/s/aJp3xJufFUeoXGm/2P4khjtpYLKBZpglwFkR52EkYjh%2BXduLFkVGYeLeI/2k/G2seIvHnx48DfE3XI38H2eka/o3gW/mt4dP1fwsSseoRLGU3C/W5ttShLl2MU0duufLlUHV8I/Br4i/Gf40%2BIfGll4M1/4Z3UA0vV5dQ1PTY2iTxVbyPb3Eluqybby2ubGOGOZl2hl2bX3l9nr/gL9kj4Z6b4G0zw78X/AA5oHjjU7DXb3WhqeqeG4hFDfXVzJcubaGQym3iV5SI497lAifMSoNelfA4RWau9L7N66vvHbTRp63NPcid/418PXXjjwNqfhfTfFeqaDNqumy28GtaQUjvLBpEKrPF5qMqyoSGG9CARyp6V4z8Pf%2BCZ37IngzxFH498YeA7r4ieK05bxb8UtVl8QX5bsym7LRwkdvJjjA7CvfaK82nicRRg405OKe9tPxWvyvbyM1KSWgy3t4LSBLW1gSOKNAsccahVVQMAADoBT6KKwEFFFc/8SPiv8Lfg34bk8ZfF34k6B4V0iLPm6p4j1iCxt04zzJMyqPzpqMpOyV2NJydktToKK%2BVbz/gsN%2Byj4lvJdI/Zo8N/Eb4330LlJYvhD4AvNTtUYcfNfyrDYgZ4z5%2BB37UwftEf8FW/iv8Au/hN/wAE/PB3w9tZPmg1f4x/FJJZdnYtY6NDclWxztadT2OOtdX1HEr40o/4mo/g3f8AA6fqWIXxpR/xNL8G7/gfVtFfKY/Z0/4KwfEX/S/iR/wUZ8HeBkk4l0v4VfByGTYO4W61i5ujn38ketL/AMOsh4k/efF//goR%2B0x4saTm5th8UTo1rJ6jydIgtcL/ALJJ%2BtH1fDx%2BKsvkpP8ASKD2FCPxVV8lJ/okfVTukal3YKoGSScACuR8S/tBfAXwYzJ4w%2BN3hDSSn3xqXiW1gK/XfIMV4Kn/AARR/wCCal2wm8Xfs%2BXXimbOZJ/GfjjWtZaRvUi8vJF/IAV13hr/AIJX/wDBNPwkqjRP2BvhAGT7st18PdPuJB/wOWJm/WjlwC%2B1J/8AbsV%2BcmHLgl9qT%2BSX5yZtar/wUO/YB0Jimt/ty/B6zK/eF18TNKjI/wC%2BrgVjzf8ABUv/AIJoQNtf/goJ8Fyf9j4m6W38p67DSv2Nf2QdCULon7Knw2swv3Ra%2BBtPjx/3zCK2If2d/wBn%2B3XZB8DPByD0TwzaD%2BUdF8v7T/8AJP8AIP8AYe0//Jf8jzq2/wCCon/BNS7YJD/wUE%2BCuT0D/FDSl/8AQrgVvaN%2B3p%2Bwz4iYJ4f/AGz/AIT3xb7os/iLpkuf%2B%2BZzXSXX7N/7O96uy9%2BAnguYHqJfC1ow/WOsHWP2HP2KfEKlNf8A2PvhbfBvvC8%2BH%2Bmy5/76hNH/AAn/AN//AMkD/Yf7/wD5Kdn4X%2BK3wu8blV8F/EnQNXLfdGl6xBcZ%2Bnlsa36%2BdPFH/BIn/gl74vDDVv2B/hVFu6nS/BtrYn8DbIhFYB/4Iv8A7BGknz/hr4P8beBrkf6u68DfFnxDphj/AN1Ir7yx/wB8UcmAe05L1in%2BUg5cE9pyXrFP8pH1VRXyp/w7X%2BLPg7/Svgj/AMFR/wBojQrhf9VD4n1/TvE9qvplNTspZG/GWk/4Vb/wWO%2BGf/Im/tY/Bf4oQdfI%2BIPw3vNBuSPT7Rpd1LGD/tfZ8f7NP6tRl8FaPzUo/mmvxD6vRl8NVfNSj%2Baa/E%2BrKK%2BUT%2B2h%2B338Kv8Ak4f/AIJda/qljD8s%2Bu/BXx3p/iFXP95bK7%2BxXQHsFc8dzgVreB/%2BCvP7BfiXxDD4G8efF24%2BGfiWY7T4Z%2BL2gXnhe7V%2BmwHUY4opGyQP3bvycUngcVa8Y8y/utS/Jt/gDweJteMeZf3Wpfk2/wAD6YoqtpGsaR4g0yDW9B1W2vrK5jEltd2c6yxSoejK6khh7g1Zrk2OXYKzfFng3wh4%2B0Kfwt468K6brWmXK4udO1axjuYJR6NHICrfiK0qKabi7oD5r1P/AIJe/A3wrqVx4o/ZU8aeMPglrM8hmkk%2BHGuNDps8nUedpdwJbKRAf4REv1FV28af8FL/ANnH/kffh14Z%2BPfhuD7%2BseCGXQPEiRjlnfT7l2tLlsdFhmiJ7L2P05RXasfWnpWSqL%2B9q/8AwJWl%2BLL5299Txv4E/t6/s0fH/wARv8PNA8ZT6B40gH%2Bm/D/xrp8mka5btjJH2S5CtKB3eLzE/wBqvZK4T48fsxfAD9p3w4nhb48/CjSPEltCd1nLfW%2BLmyf/AJ6W9whWW3f/AG43VvevFn%2BCH7cf7JP%2Bn/syfFR/i/4Og5b4a/FHVNmr28Y/g0/W9uWPQLHeK6gDHmjrR7LCYj%2BFLkl2lt8p/wDySXqFoy20PqSivHP2eP24fgz%2B0D4hufhkU1Twd8QdNi36x8N/Gtl9g1i1UdZEjYlbqHjImgaSMgg5GcV7HXLVo1aE%2BSorP%2BvvXmm15ktNOzPOPHX7K3wb8WeG/GGmaH4K0nQNT8a2jRazrul6TCtxNIWDrLJ8uJT5gV2DcOR82au/CL4O6j4C1zXPH3jbxmfEfirxILWPVdXWw%2ByQrb2yOsFtBAHfyokaWeTBdiXnkJY547qiqeIrOm4OV0/%2BB13totPJGfs4KV7HjH7TrF/jb%2BzkShX/AIvPfjB9vBXijmvZ68Z/ag/5Lf8As4/9lmvv/UK8UV7NWJYUUUUAFFFFABRRRQAUUUUAeD%2BFPjN%2B0Fof7Z9v%2Bzp8QvEHgjxJpes%2BEdV8RLF4V8OXlje%2BFbaC9toLFb6Wa9uI7oXQmuFR1jtSXsZiiSKshiwvhX%2B1P8Xdd/bS8V/A34seJtE8M6Lb%2BJ7nTfAGgX/wn1u0ufE9tFpdvdm4tdenuxp93IrtdlreCBpBHauSAEZx0Xwm/YlvPg58QvG/xG8OftZfE27uvH2uT6rrcGrW3h2cLO7IIljm/sgXHlW8KLbwxPK6RxcBS3z1v337LUHiL45aL8a/Hvxv8a%2BIofC2tXOr%2BEfB2pHTI9J0W%2Bms7iyaeL7NZRXUxW2u7qNBc3EyqJ2IG5UZQDjP%2BChfxc%2BFHhrwf4M%2BFHiP4neHtP8AFPiD4w/D2XQfDV7rUEWoakkfjPRmka3t2cSTBVVixRSAFJOMGvoevGf28P8AkiGh/wDZZvhx/wCprolezUAFcT8ff2h/hD%2BzH8PZviZ8Z/F8OlaakqwWsexpbm/uX4jtraFAXuJnPCxoCx5PQEjH/an/AGpPBn7LXge11zV9Ivde8Ra7fLpvgvwXowD6h4h1Fx8ltAvYD7zyt8kaAs3YHhP2dv2RfGep/EGD9rX9tPVbLxL8UXiYaDpFsS%2Bj%2BBbZ%2BtppyNw05GBLeN%2B8kIwpVOG7KOHgqftq7tDolvJ9l2S6yei2V3oqUVa72PRP2afih8YvjD4JuvHvxb%2BBs3w%2BjvdRZvDWhanqaz6kdO2J5ct9Gi7LWdm3kwB3KKVViGBFJo37LXwo0z40678ftSt9Q1bxJrwgSWTVdQaS1tYoVVYo4bVdsClduRKyNNyQZCOK9GorF1pKcnT91S0sr7dtdenz/AV9dAooorEQUUV4H%2B1B/wAFAfh78BfGlt8Bfhr4M1b4o/F/VbYTaR8L/BpRrtIjgC6v53Pk6ZaZK5nnIyD8iuQRWlKlUrT5YK7/AK1fRLzdkaU6VStLlgrv%2Bt%2By82e9SyxQRNNNIqIilndjgKB1JPYV8w%2BP/wDgqp8FLjxfe/CX9kbwN4l%2BP3jayk8m70n4YWyT6bpsx6LfavKyWNoM5BBlZ1I5SsC0/YK%2BP/7YEi%2BKf%2BCnXxm%2B3aJMwktvgR8Nr%2Bew8M2y9Vj1G6UpdazIMKWDtHb7gcRFTX1L8Pfhx8PvhL4Qsvh/8LfA%2BkeHNC06Ly7DR9D06O0tbdfRIolVV/AV08uEofE%2BeXZaR%2B/d/JJeZvy4Wh8T532Wkfv3fySXmfMq/CH/AIKp/tN/6R8Z/wBofwz8AvDVx97wp8IrJdZ19om6xzazqEfkQyD%2B9bWp9nrovht/wSX/AGGvAviSP4g%2BMfhTN8S/Fy8yeMvi7q8/ifUXfOd6tftJHCfTyUjA7CvpKipljcRblg%2BRdo6fe1q/nITxle1oPlXaOn4rV/NkVlZWWm2cWn6daRW9vCgSGCCMIkagYCqo4AA7CpaKK5DlCiiigAooooAKKKKACiiigAooooAKKKKACsjxx8PvAXxO8OzeEPiV4I0jxDpNwMXGl65psV3by/70cqsrfiK16Kabi7oabTuj5W1n/gkN%2BzT4Z1OfxV%2ByV4t8cfAPXJpDK9x8JPE0llp88nUedpUwlsJUz1XyFyO44Ipv4k/4K0/stjd4r8JeDf2lvC0H%2Bs1DwwE8K%2BLI4%2BpdrSZ30%2B8YD%2BGOW3Zj0XkCvrWiutY2tLSraa/vav8A8C0l%2BLOlYyrLSraa/vav79Jfizwn9nX/AIKOfst/tH%2BLX%2BFWk%2BKdQ8I/EG3TN98MviJpUmieILfgk4tLjBuFwM%2BZA0seP4q92rzr9o79kr9nD9rfwmngv9or4QaP4otIH8ywnvYCl3p8uQRLa3MZWa1kBA%2BeJ0b3rwGb4c/8FBP2BR/afwV8Wap%2B0Z8LLUZuPAfjDUI08aaNAOT/AGfqb7Y9VVRki3u9sxCqqzMTT9lhq/8ACfLLtJ6fKWn3SS9R%2Bzw9f%2BG%2BV9pPT5S/%2BSS9T7DorzL9lz9r/wCA/wC2F4MuPF/wU8WvcTaZc/ZPEfh7VLR7PVtBvBndaX1nKBLbSqQwwww20lSy816bXLOnOlNxmrNdGc04TpycZKzQUUUVBJ5z%2B0Z%2Byj8Dv2p/D1tonxd8ICe702Xz9B8Q6dcNaarotwMFZ7O7iIlgcEA/Kdp2gMGHFeKj42/tJfsAzppH7W9/efEf4So4js/jJp2n/wDE18Px5wq65aQjEsQHH26BccZljUtur6wplxb293bva3UCSxSoUkjkUMrqRggg8EEdq66OLcIeyqrmh2fTzi94v8H1T3KUrKz2KvhvxL4d8Y6BZeK/CWu2eqaXqNslxp%2Bo6fcrNBcwuMrJG6Eq6kEEEEg1dr5I8Y/CT4if8E5NevfjV%2Byv4bvtf%2BEF3cveePvg5YL5kuhhjum1TQkP3ccvLYjCONxj2tgD6a%2BGPxN8A/GbwBpPxT%2BF3im01vw/rlkl1pWqWUm6OeJu47gg5BUgMrAqQCCKWIw6pxVSm%2BaD2fVPtJdH%2BDWqdtiUbarY82/ag/5Lf%2Bzj/wBlmvv/AFCvFFezV4z%2B1B/yW/8AZx/7LNff%2BoV4or2auUkKKKKACiiigAooooAKKKKACiiigDxn9vD/AJIhof8A2Wb4cf8Aqa6JXoXxh%2BLfgP4D/C7XvjH8T9cTTtA8OabLfapduMlY0GdqjqzscKqjlmZVHJFee/t4f8kQ0P8A7LN8OP8A1NdErg/2h7YftXfts%2BDv2S5P3/gz4c2Nv4%2B%2BJUA5ivrzzmj0XTpexXzYp7x42BDC2iz1rpwtGNar7%2BkUm5ei3t5vRLzfkVFXepe/Y4%2BC3jz4i%2BNLj9vT9qPQXtvHXiayMPgrwrd/Mvgbw%2B53RWaKeBeTLtkuZcBizCIbVQg/SlFFTiK8sRU5notklsktkvJfjq3q2KTcmFFFFYCCiivnH/goV%2B0B8UPCGmeE/wBlX9mPUYrb4t/GPUZtL8MalJF5ieG9OhQPqWuyp0ZbWFhsUn555YVw2SK1o0pV6ihHr9yW7b8ktTSlSlWqKC/4ZdW/JLU539oD9qD42/tFfGTVf2I/%2BCf2r21hq2iMsPxY%2BMdzai5sPA6uM/YrWM/JeauyHIiJ8uAENLydo9e/ZT/Y7%2BCH7HXgq48KfCXRLmW/1a5%2B2eKfFuuXRvNZ8R3xyXu7%2B7f57iViWPOFXcQiqvFaX7L/AOzR8Lf2Rvgro/wM%2BEemSxaZpaM9ze3kvm3eqXkh33F9dSnma4mkLO7nqTgYAAHoFbVq8eX2VHSH4yfd/otl5u7Nq1ePL7KlpD8Zeb/RbLzd2FFFFchyhRRRQAUUUUAFFFFABRRRQAUUUUAFFFfOHwx/4KNfCHxX%2B0B8T/hP458b%2BEvDuj%2BB9Vs9P0XX9S8QxWqapcMri5ixcMmXilTZ8gZe%2B4gqT1YbBYrFwnKjByUEm7a6NpLRJ31ey830ZyYnH4TBzpxrzUXNtK%2BmqTk9W0lot35Lqj6Poqj4e8TeG/F2mJrXhTxBY6nZyHEd3p92k0TH2ZCQfzq9XM04uzVmdSlGSundBRRRSGFFFFABRRRQAUUUUAfPH7WH7BenfF/xlB%2B0r%2Bzv42f4ZfHDRbby9H8faXbhotVhXBGnavbDC6hZNtA2v%2B8iwGjZSMG3%2Bxp%2B2hf/AB31XXPgJ8efAyeA/jV4HijPjPwS1yZILm3Y7YtW0yVsG60%2BYj5XHzRMfLkAYAt75Xzz%2B31%2Byj4t%2BMugaP8AH39nO9t9G%2BN3wwkk1L4da3J8sd%2BCP9I0W8OR5lleIDE4JGxykikFDntpVY14qjWf%2BGX8vk/7vdfZ3XVPspVY1oqlVfpL%2BXyf93y6brqn9DUV5t%2ByJ%2B0x4R/a%2B/Z48N/H7wfp9xp6a1asup6LejFzpGoQu0N3YzggESwTxyRNkDOzI4Ir0muScJ05uElZrRnLOEqc3GSs1oFFFFSSFfI/iuw/4drfH1fib4eX7P8AAj4na/HB4y0teLfwT4huXCRapEOkVldSFY514WOVkkBAZlr64rB%2BKHw08GfGT4c658KPiLoseo6F4i0ubT9VspRxLBKhRgD/AAtg5DDkEAjkCurC11Rm4zV4S0kvLuvNbp99Nmyouz12PN/2oP8Akt37OP8A2Wa%2B/wDUK8UV7NXy/P8ADTx98G7X9kv4U/Ez4jDxbq/h74qXthJ4iNoYXvYYvBnipYGkUsxMohEau%2BfndWbA3YH1BWFSMYTcYu6T37%2BfzE9GFFFFQIKKKKACiiigAooooA5DwL%2B0H8A/ih4y1n4dfDT43%2BEPEXiHw67J4g0LQvEtrd3mmMrmNluIIpGeEhwVIcDDAjrVi1%2BNvwZvvinc/Auy%2BLnhibxvZ2AvbzwdFr9u2qwWpCkTvaB/OWMh0%2Bcrt%2BZeeRXzX8NfivpnxY/bf1b4p%2BLPhJ8RfCWk/CzSda8L%2BBdNuPg14hh/tr7VeWZ1HVmuhYfZ3gkltIEtYIpGZ41muXB3xiHmfB3w/wDiDF%2B1J4e%2BG8vwo8UQ69oP7TviTx7rXjOXw1dJpU3h280LU7e2kTUzH9mnkK3thp/2VZDMn2ZmMYjhV6APe/28P%2BSIaH/2Wb4cf%2Bprolch/wAE7ov%2BE28Q/HP9oq/Hm3fjL406rYWl1/e0zRwmlWqD/ZBtp3HvKavf8FC9N%2BK8/g/wZqPhzxp4etfC0Pxh%2BHo17Rr3wxPcaheOfGejeW1veLexx2wVtpYPbTFgCAUyCK//AASxmji/Zf1Hw69skN5ovxS8ZWGpRIWO24TxBfM2dxJ3EOrHnvwAMCu2jpgazXVwXyvJ/mkWvgfyPo%2BiiiuIgKKKKACvkv8AZFs2%2BOv/AAUS/aH/AGptZYXFt4IvtP8AhT4I3jmzhtLaHUdWK/8AXW9vYlLdSLRRnjA%2BtK%2BVP%2BCW7LYah%2B0l4Uu/lv8ATv2pfFUt3G3DbLpLO8gcj0MM8eD/ALPtXZh/dw1aS3tFfJy1/JI6qHu4erJb2S%2BTlr%2BSR9V0UUVxnKFFFFABRRRQAUUUUAFFFFABRRRQAUUV%2Bf8A/wAHAfwT/a5%2BNXwK8Iad%2Bzh4e17XtCstWun8aeHPDcMk91dllh%2BySGCIF5o4ys%2BVAODIjEcZHBmmNnl2AqYmFN1HFX5Vu9Uuz23ej06H1vAnDOF4y4uwmS4jGQwkK8uV1qluSFoyet5RV5W5YpyinJq8ktT9AK848Y/sf/sq/ELxTdeN/HX7OngvWNXvU23moaj4ct5pZv8AaYsh3N/tn5unPArxT/gi/wDDP9p34R/sOaf4V/ajttTt9VXWbmbw9pGsOftmnaUY4RDbyK/zRnzVnYRtyiyKDtxtHhvjn9qf4qfF3416t4c/bR%2BKvxQ/Zr8FzTi08LaXpfh97SPUkG7zGl1by2xIRjO0GEA8NwS3v8L0cfnOGWJouVF8qlJXlzq/2VGLU5PS9ktFq7HyviPhcq4N4hxGUSqQxkaVWVOFSPL7KfL9vnnzQgne13J3kpKLkrN/RPiT/gmv4d8EeI5PiB%2BxR8XNY%2BDOuTLi9tdGhF9o9/joZrCdthYdAVIABPyknNc540/az/bW/Yt0xtd/a6%2BF/hbxv4PtCv2vxl8P9UW0vbeJnVBJLYXJXzGLMAfKKoMjn10/DH/BLL9ibxP4ftPEvgXxL4tu7O8gWW31jSPiLdypdg/8tQ6SFGz1yvGat6j/AMEdf2BtV8P3uk6h8KtRmvr2FkbX5/FN/LexOVIEqs8xTcpOQChUkfMrDivoY5hlMpqGPqyrRWj5qVppf4/aKWnS/N2t0Ph55dnEYOeX0o0ZPVcta9Nv/r37Nwd%2BtuS%2B9%2Bp9KWWvaZe6Fb%2BIzcCC0ubZJ0kuf3e1HUMN2funBHBq2rKyhlIIIyCO9fHXgr/ghh%2Bwv4Znkn8S23jDxXvVVRdf8SbBEAAAFNnHAcAADkmvqT4T/CrwJ8EPh3pfwq%2BGejNp%2BhaNAYdOsnu5ZzEhdnI3yszt8zMeScZwOABXgY6jlVJf7JWlN36w5Vb/AMCk7/JH0WArZvVf%2B2UY01b7NTnd/wDwCKt832OiooorzT0wooooAKKKKACiiigD5N/ZgtV%2BAH/BTL46/s16ePK0D4gaFpXxW8PWUf8Aq7a8uJJdN1jHvJcWtrOR/euGP8VfWVfKk7Lqn/Bb20%2Bwnd/Yn7K9yuplf4Te%2BJLc24b3IsbkgfWvquuzGazhJ7uEW/WzX5JHVi9ZQk93GLf3NfkkFFFFcZyhRRRQB4z%2B1B/yW/8AZx/7LNff%2BoV4or2avGf2oP8Akt/7OP8A2Wa%2B/wDUK8UV7NQAUUUUAFFFFABRRRQAUUUUAFFFFAHjP7eH/JEND/7LN8OP/U10SuM/ZOmHwb/bP%2BO37Mmo/uodf1i2%2BJfhMP1ubXUYkttQ2%2B0d/asSP%2BnpT/FXZ/t4f8kQ0P8A7LN8OP8A1NdErl/2/fAnjTwkfCn7b3wb0GfUvFfwhuZ7jVdFs1/e6/4auFVdTsFH8coREuYQc4ltwACXrtwTU5SoSdudWX%2BJO8fx0/7eLhrp3Po6isT4bfEbwX8XvAGj/FH4c%2BIINV0LX9OivtK1C2bKTwSKGVvUHBwQeQQQQCCK2645RlGTi1ZojYKKKKQBXyLfX4/Y/wD%2BCqcur6032fwR%2B0/otpaQ30nEVn410iBo44GPCob3TQoTPLyaftGSwr66rzb9rP8AZh8Bftf/AAM1f4IePrm6skvDFdaNrumyeXe6HqUDiW01C1kHMc8Mqq6kHnBU5VmB6cNVhTm4z%2BGSs/8AP5NJ/eup0YepCE3GfwyVn/n8mk/v7npNFfNP7E37XPjvX/FN9%2Bxf%2B2LBa6N8cvBtkJLpok8qy8baWp2R69pmcB45MDzoV%2Ba3l3IyqNtfS1Z1qM6FTll/wGujXdP%2BtbpZ1aU6M%2BWX/Aa6NeT/AK6oKKKKyMwooooAKKKxfiL4MHxE8Cat4FbxTrGiDVrCS1Or%2BH737NfWgcY8yCXa3lyDs2Dg1UFFzSk7Lvvbzt1Jm5Rg3FXfRbX8r9L9x3jL4h%2BAPh1YpqnxB8c6PoVtIxWO41nU4rWNiOSA0rKDXn/ij9u39jfwh4Wl8a6r%2B0t4Om0yG9W0lutL1qO%2B2zsjOsZW2MjZKoxHHO018Y/tTf8ABEJovCvif4p%2BDPj7448Y3%2Bl%2BHp5dF8Oa5bJfX93LGhZIRc5GcsOESIM33QQTmvlP9hrw9afCb9qbSvEnxC/Zz%2BI/ii48HlH1jwp4d8GTS3NrePGfJkmjklBBBZiFZUVtvAxmvvcu4WyPH4CeIpYqVRwV3FRjB7XS9%2BV1fRcz0v8AcfnmZcW5/l%2BYU8NWwkaam7KTlKaWtm/cjZ21fKvea%2B8/SaL9tT9pP9qHXTY/8E%2B/g9pE/h2zi8y9%2BIfxUtL6y0u8Y52w2kMQWeU45L4wOjKuVJvTaN/wWJ1hG%2B0%2BM/2fNHZFJiGmWGsT%2Ba3ZX877oPQkZI9K%2BnIGV4UdYygKghGXBXjoR2pZI1ljaJwdrKQcHHH1FfMPNKFN8tDDU1FfzR55erk5K79IpLofVrKa9Vc2IxVRyf8AJL2cfRRUW0vWTb6n5O6Z/wAFOv8AgqxP478bfD/4f%2BCdG%2BI03hvVJLDUdR8JeBbvULWwdJHjEkT24Q7JDFIUaZTuCkgccaH7Jn7V/wASvB/x1j/aD/aW/am%2BIerXF/HP/wAJH8N9I%2BH2pSWQcxNHFCAwSKJoiUYmOP7yFdzBi5%2ByvgZ/wS//AGXv2bPjja/Hf4Kx%2BJdEvbWwntDo0fiCSWwnSUEMZVlDSSYyCFMmwMqtt3KDX0TX0mP4kyJRlSweEjyzilKSShLazWqqJaq6cLb76Xfy%2BX8McQSlGtjcZLnhJuMXJzgtbp6Om3o7NTvttrZfL0n/AAU8sEH/AAkA/Ys%2BOq%2BGIzi68STeAykcYPSQR%2BZvaL1ft6GsQftrfGn9rux1ey/ZK/Y2sPGvgSOc6fc%2BJfiBrMVhZ30wAMka2cqGSRFyASe%2BQVBGK%2BvKRESMYRAoJJIAxyetfORzDLKXvU8IuZbXqTkvVr3W32tJLy2PppZdmtX3amMfI97U4Rfon7yUe6cW333Pir9ib9gD9o34FftNy/HrXr3wJ4G8N6hps8Wq/D7wDdahc214752eYLtikTI2x90Rx8mxUUMxr7WoormzLMsTmuIVava6SWitoturbfm235nXlmV4XKMM6GHvytuWrvq97aJJeSSXkFFFFeeeiFFFFABRRRQAUUUUAFQarqmmaHplzretahBaWdnA893d3MoSOGJFLM7seFUAEkngAVPXxX8fvG%2Bsf8FPvitqf7D3wH1i5j%2BD3hvUhb/tAfETTpikWqMhDN4U0%2BZf9ZJJwLyVDiGImLdvkK1vh6DrS1dorVvsv83sl1fztvQoutLV2itW%2By/z6JdX87dD/wAEyodS%2BO3if4qf8FGtdsZoLf4ya/b2vw9guoijx%2BENKSS206baw3Rm6ke7vCvdbiM9MV9Z1V0LQtF8L6JZ%2BGvDmlW9hp2nWkdrYWNpCI4reGNQiRoq8KqqAABwAAKtUsRV9vWc0rLZLslol9y%2B%2B4q9X21VySsui7JaJfcvzCiiisTEKKK8i/bT/aTuf2a/g62qeD9HXWfHPiW%2Bj0L4c%2BGlOX1XWrjKwIR2ij5mlYkBYonJI4rSjSnXqqnBav8Ar7urfRJsaTbsit%2B1B/yW/wDZx/7LNff%2BoV4or2avl6f4UeJPgfa/sl/C/wAZ/EHUvFet6X8VL0a34i1a8knmv72TwZ4qlnkDSEssfmu4ROiRhEGAor6hpVIxjNqLuk9%2B/n8wejCiiioEFFFFABRRRQAUUUUAFFeL/sc/F344fEq6%2BKXg74/XvhS71n4f/ExvD1tfeD9FubC1uLVtG0rUkLRXN1cuZFbUHjLhwriNWCJkiuS/Yn/an%2BLvxo%2BIXiPwR8e/E2iaPrtrc6xLpPw/Pwn1vw/qCaba6tJaQ38d9qN3JDq8DQ/ZWeW0hWNXuo8su9VIB1/7eH/JEND/AOyzfDj/ANTXRK9mr54/4KF/Fz4UeGvB/gz4UeI/id4e0/xT4g%2BMPw9l0Hw1e61BFqGpJH4z0ZpGt7dnEkwVVYsUUgBSTjBr6HoA%2BQr%2BS8/4Jc/FO814W0r/ALOXjfWWuNQEMZZfhtrNxJ8820fc0q5kbLY%2BW3mcnCo/P1xZXtnqVnDqOnXcVxb3ESyQTwSB0kRhlWVhwQQQQRwQaj1rRdH8SaPdeHvEOlW1/YX1s9ve2V5AssNxE6lXjdGBDKykggjBBxXyc3hf4x/8Ex7uS/8AhloGs%2BP/ANnxpWku/CdmHu9b%2BHykktJYqSXvtNXJLW%2BTLAPmTeoZa9H3cwWrtV/Cfz6T9dJd1L4r%2BP1/P/gn11RXO/Cn4t/DT45eAtP%2BKHwh8bad4h8P6rD5ljqmmXAkjkHcHurA8MjAMpBDAEEV0VcEoyhJxkrNEbBRRRUgeSftc/sbfC79sDwjp%2Bm%2BLrvUdB8TeG7w6h4G8feG7j7PrHhm/wAYFxazAcAgASRNmOVfldTgEeOeB/26fix%2ByR4lsfgT/wAFSLCx0gXNwtn4V%2BPmjWpi8LeJSTiNL7qNFvmH3opT5DsHMUmMLX19Wd4t8I%2BFPH3hm%2B8F%2BOvDOn6zo%2Bp2zW%2BpaVqtmlxbXUTDDRyRyAq6nuCCDXVSxCUPZVVzR6d1/hf5p6Pyep0066UPZ1VzR/Fej/NPR%2BT1LtrdWt9ax3tlcxzQzRh4ZonDK6kZDAjggjkEVJXyFJ%2BwV%2B0L%2ByFcyeIP%2BCZHxtt9N8PiQyz/AAL%2BJs1xfeGWycsunXSlrvRycsQiGWDcw/dACtPwl/wVX%2BGvg3xDafDX9u/4W%2BIP2e/Fd1KILd/HOybw7qMv/TlrsGbOUdOJWhk55QVTwbmuag%2Bddl8S9Y7/ADXMinhXNXoPnXb7S9Y7/NXR9VUVX0nV9J1/TLfW9C1O3vbK6iWW1u7SdZIpkIyGR1JDKRyCDg1Yrj2OTYKKK%2BM/%2BCo/xsa4%2BIvwv/YsvfEN1oWhfEvXI/8AhK9b0wySXZs450VbKOOH94PPkKoXxgDsw3gd%2BW4CpmWMjQg7aNt72jFOUnbrZLRdXZHn5pmFPK8FLETV9Ukr2vKTUYq/S7au3srs90%2BO/wC3B%2By5%2BzgxsPih8W9Oi1UkLD4f01jeajK54VRbwhnXceAWCrnvXmH7Geg/Er4p/tU/Eb9s/WvhdrXgLwz4s0PTtK0TQNegEN7rBtx/yEbmHcTEyqBGg7o564yfWfgb%2Bxn%2By7%2BzafP%2BC/wV0XRrvGDqflNcXhHcfaJy8uD6bse1enV0yxmAwuHqUcJGTc1yuc2lpdO0YRuldpauUn2tucsMFmGLxFOtjJRSg%2BaMIJvWzScpys3ZN6KMU%2Bt9gooorxz2gooooAKKKKACiiigAooooAKKKKACiiub%2BK3xj%2BEvwJ8HXHxC%2BNPxL0LwnoVqP3%2BreIdVis7dTjO3fKygsccKOT2BpxjKTtFXY1GUnZK7Okrnfit8XPhh8C/AWo/FL4yePtJ8M%2BHdKhMuoazrV8lvbwr2BZyAWJ4CjJYkAAkgV8zzf8FEvjV%2B0%2BTof/BND9mS/wDFtjMdi/F74lQ3Gg%2BEYB/z1gEiC91UAgjFvEqHg%2Bbjmtj4Yf8ABNPSde8e6d8e/wBu/wCLF78cfH%2BmzfaNGj1yxS18NeG5ex0zR0JhjdeB9omMs52ht6muz6rGjriJcv8AdWsvu2j/ANvP/t06vq0aWtd8vktZfdsv%2B3n8jjb7xp%2B09/wVQU%2BH/hEniT4Ofs9XXGpePLy3ex8VePLY9YtLgcB9LsZF63koE8isvlogLNX1d8HPg18Lv2fPhno/wc%2BC/giw8OeGdBtBbaVpGmxbIoUBJJ7l3ZiWZ2JZ2ZmYliSemorKtiHUioRXLBbL9W%2Br836JJGdWu6kVCK5Yrp%2BrfV%2Bf3JIKKKK5zAKKK8y/aY/a0%2BEn7LHh%2BzvPHd5d6hrmtTG28K%2BDNAtjd6xr912gtLZfmc5xuc4RMgsyirp0qlaahBXb6DSbdkdD8cPjh8MP2cvhhqvxg%2BMHimHSNC0iHfc3MuWeRicJDEg%2BaWV2IVI1BZmIAHNeK/ss/CD4nfGn4sn9vL9qfwxNo%2BuTWEll8LPAF6QzeDdHlxvlmHQaldAKZmHMaBYQeGFN%2BDv7Mnxa%2BOvxM0v9qz9u62tF1bSJjc/Dz4UWN0LjS/BxI%2BW5ncfLfantODPjy4iSIh0YfTFds508JTdKm7zekpLZL%2BWL6/3pddlpdyptRVlueM/tQf8AJb/2cf8Ass19/wCoV4or2avGf2oP%2BS3/ALOP/ZZr7/1CvFFezV55AUUUUAFFFFABRRRQAUUUUAeL/An9jzWPgT408X%2BNbT9rL4leI5PHHiuHxBr1j4htPDoge7S1t7MhPsmkQOkb29pbRMA%2BcQhlKuzs2p8P/wBlqDwn8aF%2BPPjb43%2BNfHWvWWh32jeHf%2BEqOmRwaJY3lxbXF1Dbx6fZWu8yPZWYMlwZpAtuoDjc%2B/1SigDxn9vD/kiGh/8AZZvhx/6muiV7NXjP7eH/ACRDQ/8Ass3w4/8AU10StTwz%2B2B8Gta%2BNOo/s8%2BIr2/8LeMLS7kj03SPFdkbI65CpwLnT5GPl3cTc4CMXGDuRcVpClUqpuCvbV26Lv8A187EynGNru1z1Kiiisyj5x%2BKH7DniHwd491D9oH9hPx/a/DjxtqM32jxD4eurVpvDHiyTub%2BzQgwzN0%2B12%2B2UZYsJM1L8L/%2BCgnhy38Z2nwQ/a/8B3Xwd%2BIN0/lWFl4gulk0bXnHG7TNTAENxnK/uXMcwLBTGSM19E1gfEz4V/Db4z%2BDbv4efFrwJpXiPQ79Nt3pWs2KXEEnodrggMOoYYIPIINd0cXCrFQxK5rbSXxL57SXlL5SRfMnpI36K%2BXV/ZA/aa/Zd/0z9hH49C88OQ8r8I/ixcz6hpkSD/lnYaiC15YAAYVHM8eTyoAq9oX/AAUp8D%2BB9Wt/BX7a3ws8QfA7XZ5RDDeeLFW48PXkh7W2s2%2BbZhjnExhcZ5UUPAyqK%2BHl7RdlpJesXr/4DzIOS/w6n0pRVXRNc0TxNpNvr/hvWLXULC7iElre2NwssMyHoyOpKsD6g4q1XC007MgKz/FPhTwt458P3fhLxt4a0/WNKv4TFfaZqtmlxb3EZ6pJHICrr7EEVoUU02ndAm07o%2BbvBH/BLr9nv4J/FPTfih%2By54p8a/CiG21dL7WPBngfxPJF4b1sB8vDcaXOJbaNWGVzbrC4zkMDXWfty%2BLdd8PfCDS/DWg%2BKb3QW8YeNtF8OXevafKYptOtru7RJpUkH%2BqYxhkD8bTICCDivZazfGHg/wAH%2BPvDN54Q8f8AhfTNa0a%2Bi2X%2Bl6xZR3NtcJkHbJHICjjIBwQRxXQsTUnWjOq3K3ff/g/O/wBx0fWJzqxnVfNbvv8A8H53Pln4e/Er4l/Dn9hn41/ED4EXOv8Ai1PDN74hk%2BER1C9uNaubu3gtl8hI5bmR5buJbkSqm%2BRyQhUHAAHz3/wTA%2BNfgibwFp/xL8OXGm/GP9ozxp4iuNP8QXHiq3utBvNBlitJ7i5ivZ5xd%2BRBGsGwPbQ/P5sSeX8p27H7f3ii8/bA8ISfAv8A4Ju%2BE/iDNc%2BH9dt11zxN8P55NM0NorSCWFbGO4WaONtvmAhUGxgoxvG0r237MP8AwSQuvgn8JPCnjn4T6vZ/DL4sXfh%2B9tfH1/fC68RR3b30YWWVVe8jSG8jIDpIheFHeVDHNGVI%2BtdGhgMmqPES5KlaS93RSSS0VRJ83JL4tEru11rp89SzDBZzniUIKUKd3zyi3G7VvdmlyuSaSdrvWVnbU9v0b/gov8Frnwp4T8Qa9oHiG1n8QaJZ6nrtvZaW93F4Vgubh7WOTUZkwsEZuIp4g%2BD/AKiRiFVSR7/Xx14t/YM%2BI9hrXib4HfDzRdNb4c/EG28L2mu%2BKbzXmXUNN0vSdi3Om/ZhDib7SqTEShwA9/cFlAC5%2BlPjtovx0134b3enfs4%2BO/D3hzxWZ4nsdT8U6DLqVkqBwZEeCKeFzuXKhg42k5wcYr5WvTw3NH2T37vZdL6aduu1%2Bp9JXp4e8fZvfu9vXt267XOxor5V%2B2/8FtvDnzTaB%2By94tjT732fUfEOhyyD2Vo71Qfq2Kktf2jv%2BCrWkyG28Sf8EzPBephI3Y3fhv4/w4kYKSFEd1psRGSABlsc84ApfU5v4Zwf/by/WwvqkntOL/7eX62PqaivlX/htH/goXYn/ic/8EePGbKOr6V8XvC1wPwD3kbfpS/8N7/tgQjF3/wSD%2BMSt3EPizwvIPzGp0fUcR05f/Aof/JB9Tr%2BX/gUf/kj6por5W/4bx/bMuPl07/gkB8XGbsLnxp4WhH5nUjSf8Ni/wDBR6%2B/5BX/AAR98QQg/dbWfjX4agH4%2BTNMR%2BVH1Gv15f8AwOH/AMkH1Ov1t/4FH/5I%2BqqK%2BVT8d/8Agrz4n/c%2BH/8Agnr8LPDJPCz%2BKfjxLdAe5Sy0lvyDGj%2Byf%2BC2fij9xe%2BNP2Y/BsT/AH5dO0TxBrs0Y/2TLNZoT9Vo%2BpyXxTgv%2B3k/yTD6o18U4r/t5P8AJM%2BqqK%2BU/wDhjH/goX4z/c/Ff/grT4htbWT/AF9n8NfhRouikD0Se7W9lXHru98UH/gj7%2Bzd4t5/aG%2BLnxp%2BLY/59/iH8XtUltc/9elnJbW%2BD/d8vb7U/YYWPxVb/wCGMn%2BfKg9jho/FV%2B6Lf58qPUPjn%2B3z%2BxP%2BzRHN/wAL3/ap8CeGbiD7%2Bnaj4kt/tpPcLbKxmc%2Byoa8r/wCHqNv8UR9l/Yx/Yv8AjJ8W2m4stdTwofDegyn1Ooa0bYFfeOOT2ByM%2Bu/BH9h39jj9mzypPgN%2By74D8KXEQ%2BW/0bwvbQ3Te7XATzXPuzE16nRz4Gn8MHL/ABOy%2B6Ov/kw%2BfBw%2BGDl6uy%2B6Ov4nyafBP/BXj9oc58a/Fv4b/s%2BaDP8AMdO8C6c/irxCEPBje%2BvkhsoWx/FHbS46g%2BnQ/Cv/AIJUfskeBfGNv8VviZout/FzxzbcxeN/jHrcniC9hOcgwRz/AOjWmD0%2Bzwx46DoK%2BkaKUsbXtywtBdoq33vd/OQni61uWFor%2B6rfe9382IqqqhVAAAwAO1LRRXIcoUV5x4u/az%2BAHhTQfGOrwfEnS9ZufAmnzXfiTRtC1CG5vbYRAbkMYcbXBZVO4qFZ13lc5rzrxh%2B1P8RfGes%2BGfhF4UsJPhl4s1jxcdH10%2BKdMg1NtMzpt3fWwjEFwIZftItJESQOygxyJt3lK6aeDxFTpZeenS/rt2T6dylFs%2BjKpeI/Enh3wfoV34o8W69ZaXplhA019qOo3SQQW8Y6u8jkKijuSQK5D9m/4tax8Y/hkPEHivRrfTdf0zWNQ0XxHp1q5aKC/sruW1lMZbny3MQljySTHKhyc5rz7xL/AME/vAHxg%2BK958T/ANqP4g%2BIPibZx6q114X8D%2BIZY4vD2hx7sxqLCBVju5FB2%2Bdc%2BaSMcA80Qo0o1ZRry5bdldvyWy%2Bbdrd9gSV9TmNR/bT%2BMH7U95N4M/4J0eAYdS0vzGg1D41%2BMbSWHw5ZYO1zYRfLNq8y4YDy9sAYLulIOK779m79in4f/AXxBefFfxN4i1Px78TdZgEev/EnxWVkv506m3t1UeXY2oJO23hCqBjcXIBr2GysrPTbOLTtOtIre3gjWOCCCMIkaKMBVUcAADAA6VLV1MXaDp0Y8kXv1b/xS/RWj5MHLSy0CiimXNzbWVvJeXlwkUMSF5ZZXCqigZJJPAAHeuMk8c/ag/5Lf%2Bzj/wBlmvv/AFCvFFezV4V8ePFXhjxv8UP2aPFfgzxFY6tpd78Y797PUdMu0ngnX/hC/FI3JIhKsMgjIPavdabTTswTTCiiikAUUUUAFFFFABRRRQAUVzPws%2BNPwc%2BOeiXfib4J/Fnwz4x02w1KTTr7UPC2vW%2BoQW95GFaS3kkgd1SVQ6FoyQwDqSORSeDvjb8GfiJ4v134e/D/AOLnhjXdf8LTiHxNoej6/b3V5pEhLAJdQxuz27EqwAkCnKn0NAHAft4f8kQ0P/ss3w4/9TXRK7n4zfAj4QftC%2BD5PAfxn%2BH%2BneINMdt8cN7F89vJ2lhkUh4ZB2kjZWHY1w37eH/JEND/AOyzfDj/ANTXRK9mqoTnTkpRdmuqE0pKzWh82L8L/wBtT9lT978DPGn/AAuLwXD93wR481MW%2BvWUf9yz1UjZcgdo7tc4UDzq7D4N/tzfAj4t%2BJx8M9Tv9Q8FeOVA8/wH48sTpmqAn/nkkh2XSnGQ8DyKRzmvY65L4xfAb4M/tBeGD4O%2BNXw00jxLp4JaKHVLNXaBj/HFJ9%2BF/wDbQqw9a7PrNGv/AB46/wA0bJ/NfC//ACV%2BZj7OcP4b07Pb5PdfijraK%2BcV/ZW/ac%2BAv7/9kT9pue%2B0mL/VfD/4u%2Bbq1iq9BHb6ghF7bKBwoYzqP7uOKeP29da%2BEx%2Bw/tm/s3eK/hysfEnirTITr3h5h0Dm8s1MluD1xPDHgdTwTS%2BpSqa0JKfktJf%2BAvX7nIftlH%2BIuX8vvX62Pouqut6HoniXSbjQPEej2uoWF3EY7qyvbdZYZkPVXRgVYH0IxWP8M/i98KvjP4fXxX8JPiPoniXTWx/puh6nFdRqT/CxjY7W/wBk4I7iuirklGdOVmmmvk/0NU01dHzbrX/BMn4Q%2BF9XuPF/7JnxB8W/A/Wp5DNIPh5qYTSLmXsZ9JuFkspFHosaH/aquPFP/BUX4EHyfFHw38CfHXRYflGo%2BFL8%2BGddKjq72l20lnK2P4Y54s%2Bg7/TVFdax9aStWSqL%2B8rv/wACVpfizTnfXU%2Bb9J/4KmfswaXqUPhz9oC38W/BzV532R2PxX8Lz6VC57lL3D2br7rOc/nXvfg3x14I%2BIuhx%2BJ/h94y0rXdNm/1OoaNqMV1A/0kjZlP4Gruq6RpWvadNo%2BuaZb3tpcIUuLW7hWSOVT1DKwIYexr4y/aq%2BCX/BIL4H%2BIZde8brpfw28YyKGhk%2BFWr3mjazvP3WEGkuhJYnhpYypJznvW9DD4bH1FTowmpPpFe0/DSX4mGIxODwtJ1K81CK6tpL8Wv1PtOWWK3iaeeVURFLO7tgKB1JPYV8geKPG3xa/4KVeLta%2BFHwR8VTeFPglo9%2B%2Bm%2BK/Hdg3%2BneKpVGJrOwYjCW/O15uQwPG5SUb58vv2ev28P2w4ofhv8JfiL8W4Pg5PfRz3N98fL%2B0Et6qE8eXaRQahcW5BJCPNtf5SWRlDr9MeAj/wUm/Zo8H6f4B0X9lP4L%2BMvD2lQeRp9l8PPGN34eliQEkn7PqEE0e4klj%2B/wDmYklsnJ9eOCo5PDnjUhPEPZNq1Pzad059k3aG7vKyXhtzz%2Bq6cG44ZWu/ei6t18KuotU19pqznflTUbt/R3wx%2BGXgT4N%2BA9M%2BGfw08N2%2BkaJpFsILGxtlwqKOSSTyzMSWZiSzMSSSSTW9XzX/AMPB/G/hH/R/jX/wT5%2BOnhyZP%2BPi50Tw1beIrNB3Il0u5mcgevljiprD/grT/wAE/wCS7TTPE/x7XwreOdrWfjfw7qOiOjf3T9ut4l49iR714c8DmNSbm4OTera96/neLkfQQoezgoQjZLRJbJLZKx9HUV574M/a3/ZU%2BIwQ/D/9pj4f64X%2B6uk%2BMbK4J9sRyk59q7%2B3ube8gW5tLhJY3GUkjcMrD1BHWuOdOpTdpxa9U1%2BaQ2mtx9FFFQIKKKKACiiigAooooAKKqaxr2h%2BHbQ6h4g1q0sYF6z3lysSD8WIFeZeNv28f2JfhyHHjf8Aa4%2BG%2BnSJ963n8aWXnfhGJS5/AVpTo1qrtTi36Jv8kxpN7HrFFfNjf8FZf2L9YJt/hd4m8WeP7o/6u18AfDrWdVMn%2B7JDamI/990h/bh/aM8a/L8Ef%2BCaXxUvx/z9eO9Q0vwzB9cT3Mk%2BP%2B2O7/Zrp/s7Gr4ocv8Aiaj/AOlNfkVyS7H0pRXzVv8A%2BCs/xJ%2B7b/BH4WWU/d31LxRqNuPoBZW5b/voH2pD%2BwN8WfiF%2B8/aR/4KDfFnxMrcS6V4QubXwpp8i90ZNOjFwy9ubgnHUmj6pSh/ErRXpeT/AASX4hypbs%2BlBLG0jRLIpZQCyg8jPTP5V4t8K/FfxA%2BF3x78X/B/40fFi88Q2N9o0HinwprWs2lpaiC2Ehtb2yBgiijEcD/ZHBYFyLz5mY11H7Pn7KnwD/ZY0nUdH%2BBXw/TRU1i4SfV7iTULi7ub6VFKrJNPcySSysASMsx61oeJP2ePgl4z%2BKenfGvxn8NtN1jxPo1obbRdV1aI3J01CSWNskpZLd2z80kaq7AAMxAAERnh4SnHVxa0dle%2Blurtre%2Buwk4q580W3wS8TeJ/FPhL4OXHw71S/wBOs/EfiGSXxxZ7G0vUfCWrrdTyqblCQLlrj7E/l7Tuki342ksPSPAf7HPi7W59Tn/aT8a6brkp8P6RpGj3vhuC4sbpJNOeSSLVmlMhaK9MkgP7s7E8sYzvYV9BdOlFa1MxryVo6fnve9%2Bl%2By0G5s534XfC/wALfCDwhF4M8JG%2Bkt1uJrm4u9U1GW7uru4mkaSWeaaVmeR3dmYknAzgAAADoqK88%2BNf7WP7OH7Osaj4y/GLRNEupcfZ9KkufNv7jPQRWkQaeUn0RD1FcsY1sRUtFOUn21f4Gcpxirydj0Oo7q6trG2kvb24jhhiQvLLK4VUUDJYk8AAd6%2Bd2/ai/ar%2BOA%2By/srfso3ekadLxH43%2BMcj6RaAdni06Pde3CkcjeIAfUdadbfsD3PxWuY9b/bZ%2BOuvfFGRXEi%2BFYx/ZHhqBgcqBp9s2bjaeN1zJLkdQK6PqkaWteaj5L3pfcnZfOXyMfbOX8ON/PZfjq/kiz4p/wCCgPg/xHr1z8PP2RPAGqfGPxNbSGK6bwxKsWiadJ/096tJ/o8ff5YzLJxjZms%2BD9jj4sftE3Eevft6fFePWtO3iSH4VeCXmsvDsJByBdSEi41MggH96UiyD%2B6wa%2BgvDHhXwx4J0G28K%2BDPDlhpGmWUYjs9O0yzSCCBP7qRoAqj2Aq/T%2Btxo6YaPL/eesvv2j/26r/3g9k5/wAR38tl/wAH5/ceGfH7w54e8IfFL9mfwx4T0Kz0zTbH4wXsNlp%2Bn2yQwW8Y8E%2BKMIiIAqqPQACvc68Z/ag/5Lf%2Bzj/2Wa%2B/9QrxRXs1cTbbuzfYKKKKQBRRRQAUUUUAFFFFAHyr%2Bwt8UvDUPxZ%2BO2nQ/C/4i6FaeIPjLb33ht9b%2BD3iHSbW6sm8O6JYrNHJdWEUYjFxY3KE5AQRhmwjozcR%2Bwp8P/iDpfxh%2BFPhjVvhR4o0PUPhP8M/GOg/ErXtZ8NXVlZ6nqd/rOlzQta3Usaxamty9nd33nW7yrGHHmFJJitfcNFAHzx/wUL034rz%2BD/Bmo%2BHPGnh618LQ/GH4ejXtGvfDE9xqF458Z6N5bW94t7HHbBW2lg9tMWAIBTII2vHKftz/DLxjqXiz4fy%2BF/id4Xu7t54fCOoAaLq2nRk8Q212u6C4VR/z3VGPTf3qf8Abw/5Ihof/ZZvhx/6muiV7NWlKp7N7Jp9Gv8AhmvkzGvR9tFJScWtmnb/ADT9GmjxLwb%2B3z8CtT1%2BHwL8WDq3wx8TzHamgfEawOmmZun7i5Ym2uATwDHKxPoM4r2uGaG4hW4t5VeN1DI6NkMD0II6is3xj4I8GfEPQZvCvj7wlpmt6ZcDE%2BnavYx3MEn%2B8kgKn8q8Wl/YJ0PwBM%2Bpfso/Gnxd8K59xddJ0q9/tHRGc9S2nXm%2BNQf%2BmRi9iK2thKuzcH5%2B8vvXvL7mc18wobpVF5e7L7neL%2BTie%2B0EAjBGQeorwEfEP9vr4Qfu/iF8EvDPxR0uLrrHw91T%2BzNSCDqz2F8xjdyOcR3H0Har/hv/AIKF/syX2rxeFviJ4l1H4da5KcDRfiVo82iy59FkuAIJM9tkjZ7dRQ8HXavBcy/uu/4LX8BrMcKnao3B9prl/F%2B6/lIsfEr/AIJ/fsrfEnxA3jmH4cnwt4oOSni3wHfzaJqSuf4zNZtH5p/66Bx7cVzo%2BBv7enwhGfgr%2B1lpXjvTo%2BIdA%2BMPh8GcJ6DU9OEchb3kgk9819A6Vq2la7p8WraJqdveWs6boLm1mWSORfVWUkEfSrFVHG4mK5ZvmS6SXN%2Beq%2BTR0expP3o6ea0/LR/cfO4/bG%2BP/wANv3P7Rv7CvjWyiXhtd%2BG91D4nsmA6yGOHy7uNe%2BDASPfrXu1l4t0G78IweOZr37Fpk2npem41NDa%2BTCyB90qyhTEQp%2BYOAVwQcYNc18a/2kvgR%2Bznon9v/Gz4p6R4ehZC0MV7cjz7gDr5UK5klPsik18w6D4X8Vf8FUPiRrXiP4lyeKdB%2BBXh97dfB/h19Ol04%2BLZ2j3Pe3DP80sMbj5EA2nKdCHDd9DARxdJ4ipD2VKO8/eafRRgnvJvopNJXcmkjzMXmSw1VYai1VrS2hdK3Xmm1flil1au3ZRTbKmoftm/tIfthfEnxf8Aso/smXGgC2s9aEGpfGTw9NLLY6RpEkSufLLcS3xLNGpjbaSjMu0fPH3/AOxx8O/2T/gzY6vqvgH4D6vpMeitf/2p8WfF8NpN/arWcrxXdz9t8%2BSSNd8cjEMsK/KxCgCu9/Zo/Zh8S/steFtT8GeDvHGjanpt/rV1qccE3hSLT5I3khRFjzZukIVWjjGVgGEGMZANed%2BMf2Yfi5L4c8fa5pXws8JeH08QaPY2974K8C6kZYddmTUBcXt67S21qn2iS3aWFEZfmZm3y4YEdVXG4WpCWFwz9nS02dnN6Xc9r6bR%2BCOumtzKjl9RVli8V%2B8q9NLxgu0L3trvL45aapKx794J%2BNvwq%2BIfha68a%2BFPGtpLpljcm3vrq5DW32aUbTtkWYI0ZIdCNwG4OpGQQT1EUsU8SzQyK6OoZHU5DA9CD3FfIvjexkg8eaV8Zf2iPBF3o/gjxL40vNQ1jQNU037Wc2umG00xL2GASKWlzLLg7lVobZCd20D3L9knw14q8D/s1%2BFtF8c6W%2Bn38OnPPJpRj502KSWSWKzCjp5ETxwhe3lYryMThadKmpxe720fqrrdp79NUevTqynLla/r/gnpVQ3%2Bn2GqWj2Gp2MNzBIMSQzxB0YehB4NeBxf8FRv2KLSRbXxl8UNQ8J3OcPbeMvCGqaUUPoWubZE/JjXb%2BE/2zv2Q/HYUeDv2ovh9qLv0htfGFk0g9inmbgfYis5YLG01eVOS%2BT/ADSf5lKvRk9JL70Q%2BM/2If2M/iIXfx1%2Byf8ADfVpH%2B9PfeCrGSXPqHMW4H3Brgbj/gkb/wAE7Xme50r9myy0aRzkv4a13UdKOfb7HcRY/CvoXSdb0XXrUXuh6va3sJ6TWlwsin8VJFWqcMbjqStGrJf9vS/K/wChupytoz5t/wCHXPwM03jwN8Zfjd4YUfdTQvjbrqKv0Ety/wCtH/DuW/tuNH/4KBftJWYHQf8ACxoLnH/gVZy5/GvpKiq/tHHdZ39VF/nFj559z5t/4YM%2BM1pxpH/BTX47IB0%2B2z6FcH820wZo/wCGJv2m04g/4KifFoD/AKaaD4eY/n/Z1fSVFH9oYruv/AYf/IBzy/q3%2BR82/wDDEf7SkvF3/wAFQvi6w7%2BTovh6M/mNOo/4YC%2BKV6Ma3/wUv/aBk9RY6roltn/vnSzivpKij%2B0MX0a/8Bh/8gHPL%2Brf5Hzaf%2BCb0F1/yG/27P2kr0H7w/4Ws9rn/wABIYsfhij/AIdU/su6p/yPniX4q%2BKs/e/4SL4z%2BIZQ31CXiA19JUUf2jjulRr0svyig559z530f/gk3/wTl0e7F%2B37JXhfUpx/y28QJNqbH6m7kkz%2BNem%2BCf2XP2ZvhoyN8Of2dvAugGP/AFbaL4Ss7Ur9DFEtd3WX4j8c%2BCfB8Rn8W%2BMNK0tAMl9R1COAY%2BrsKieLxtfSVSUvK8n%2BF/0Jc5W1ZqABQFUAADgCivIvF37f37EHgYMPEv7Wnw9hkT79vB4rtZ5R/wBs4nZ/0rmD/wAFOf2W9Y/d/DIeOfHM38MPgv4a6xfbvpILYRn8HojgcbNXVOVvRpfe7L8TF16CdnJff/w59CUV89/8NkftAeLePhH/AME7fiZeD/n48Z6jpfh%2BL64muZJcf9s8%2B1IdX/4KieOvnsPBvwZ%2BHttLwRqeraj4hvIR67YY7SEkf75HtVfUasfjlGPrKP5LmYvbwfwpv0T/AFsfQtUvEHiTw74T0uTXPFWvWWmWUIzNeahdJDEg93cgD8TXg/8AwyL%2B01444%2BNX/BQrxtLAeTYfDzQNP8Oxg9x5oSe4x/21B9CKuaB/wTQ/Y20/VI/EXjH4WS%2BONWQ5bVviNrV3r8zt/eIvpZIwf91AKPY4OHx1b/4Yv85cq/AOetLaNvV/5XF8S/8ABSr9j/S9Vk8M%2BCPiRP4%2B1pOF0T4a6Nc6/O7f3d1kjxqf951FZ5/aF/bi%2BKx8r4H/ALGEPhSyl/1PiD4w%2BJo7QqPU6dYefOT7O8f4dvefDfhbwz4O0mPQfCHhyw0qxhGIrLTbNIIk%2BiIAB%2BAq/T9vhKf8Olfzk7/hHlX4sOSrL4pW9F%2Bruz52P7In7RvxX/fftN/tseJJbST5pPC/wtsU8N2Iz96NrhWlvZkxx/rkz6dc%2BhfBX9kP9mj9niRrz4P/AAa0XSL%2BXP2jWjbm41CcnqZLuYvPJnn7znqfWvR688v/AI36/onxS07wR4k%2BE%2Boafo%2BtaxJpWj%2BIZ9Rtm%2B1Xa28tx/x7oxdYmSCXa5O4lDlFGDSeJxdeLgnaPZWivuVr/O5Elh6DUpbt2u7v8dbfgeh1leMPG/hfwF4av/F3ivVRbWGmxh72VInlZASAAEjDOzEsAFUEkkAA5rw34h/Fr4leFPiR4s8aj4gTw6X4O8S6RZ3fhKW2g%2ByzaReRW6SXYcR%2Bd5oln8wP5m1VhZNnUny7wx8NzqUdr8Dvhvt0jx2NJvo/GEZtjEr6lpl4t1pur3YUASGe4Cnz8HzkllXJ24F08EmuactNP83f5Na67nFWzNxk4U4Xeq16vVK3fVPRtOy%2B7698A/EXwj8TdEbX/B2pPPDHO0FzFPayW89tMoBaGaGVVkhkAZSUdQwyMjmvN/id%2B1Z4i0bxxf8Awl%2BB/wCzx4u8eeJtOZEvpEtf7M0eyd0WRRNqN0FjJ2OrYhWU4OMZ4rU%2BBHhzx3H4/wDHXxI8XeB7rwxF4nvNPkj0S61K3uS1xb2gt5bsNA7KokVIIwCQxW3VmVSxUen1g/Y0aruuZevXztvbbRo6l9YxGHVpcju7u2trtaKW19HqnbtseA/GG48eXXjz9mG5%2BJ%2BmaXZ6%2B/xevTqlrol3JPaxS/8ACFeKfljkkRGYYxyVHOa9%2Brxn9qD/AJLf%2Bzj/ANlmvv8A1CvFFezVg3d3OuK5YpXuFFFFIYUUUUAFFFFABRRRQAUUUUAeM/t4f8kQ0P8A7LN8OP8A1NdEqbxla/tseCPFeoeI/h/qfg3x34fuLp5rfwxrEMmj6hZxE8QQ3cfmxS4H8Usak929Yf28P%2BSIaH/2Wb4cf%2BproleyRyxSgmKRW2sVO05wR1H1q4T5Hsn6nNisMsTFLnlBrVOLs/yaa8mmjxGH9unwP4RlXTv2jfhr4u%2BGN1uCNdeJNIM%2BmO/omoWnmwEe7sn06V614N8eeB/iJo6eIfAHjHS9csJPuXukahHcxH/gcbEVqTQxXETQTxK6OpV0dchgeoIPUV5L4x/Ya/Zn8V6w/irS/h//AMItrrZK6/4HvptGvFb%2B8XtGQOf98NV3oS3Tj%2BK/Gz/FnFyZzh/hlCqv7y9nL7480H84xPXKo%2BI/C/hnxjpEugeLvDtjqthOMTWWpWiTwyD/AGkcFT%2BIrxz/AIUh%2B138OPm%2BEX7V0XiKzj/1Oi/FHw8l2SPQ31mYJvxZX/Hv6T8JNV%2BL%2BqeGJH%2BN3hDRNH1mG8eJY/D2sSXlrcwhVKzK0kUbx5YsNjAkbQc84ClDkXNGSf3p/dubUMZOvP2VahODt1SlF/8Ab0W18mlfseZap/wTr/ZtttQl134S2fiD4Z6nM25774a%2BI7jSVJ97dGNsw9miI7dK%2BeLHU/8AgpH8ZviX8QPgR%2Byz%2B1LBfeE/BV8NIv8Ax9410mzhvDqCoDNZQSWls29k3BWlaMMpBIIO3Pb/ALQXx/8Aiv8AGn9oRv2ff2C/ilqk2uRxCDxz4jUQXPh/wzbFXUkZiJe9ycgJIAGTaQSG2dp8DPD0n7J/jDSv2TPhiNNn01LNNS1TWfFkt3Ff%2BINRuZJnuporhYnhklVYgxjPzAMgyAM19DQqVMDh3Ur2nVaXJGa5uVbucrrtZQi273cmrJX%2BYxFTCY3FeyoKVOlGbjOdN2U5NWUIuLS3u6jSXLZRUnJtLyP4KfADxD%2By5rp8dfGv/gnzrvxF8T%2BZ5l98SdO8a2vim/nlH/LVIL4W0kR9PLTdjgk17vaf8FH/ANliyuU0z4leItd8AX7sFNj8QfCd9pBU%2B8s0QhP4Oa7Dw5%2B0t4Q17xJNpd3oWpaZpZg1GbTfEuoNAtlfJYS%2BVdspEhkjCNlg0iKHQFlJAOOh8D/Ej4e/GLSLyTwxdPe29vKIL221DS5rdlLIrruiuI0YqyMrK2CrA5BIrzsXjamNn7TFxbfdSenkk7xS8lZeSPWwFDDYWCpYCtFJ30cVd23d1yyl/ifNe97sf4F%2BL/wm%2BKFuLv4afE/w94hiK7hJoetQXYx65idq6KvJ/HX7Cn7HPxIuDfeK/wBm3wi92W3G/sdHjs7kn1863CSZ991c7/w7%2B8DaB8vwn%2BPnxe8FRL/qrTRPiJdXNsh/643/ANoTH4VycmDltNr1jf8AGL/Q9P2mYw%2BKnGX%2BGTX4Sj%2Bp71RXgw%2BAP7bHhnnwX%2B3gupxR/wCqtPGvw3sbrcPRprN7Z/xwTR9v/wCCmPhz57nw58FPFcSdVs9S1XR5pB7CSO5QH/gWKPq0X8NSL%2BbX5r9Q%2Buzj8dGa9Epf%2Bky/Q93lijmjaGaNXRhhlYZBHoRXEeLP2Yv2a/HpY%2BOf2e/A%2Bsl/vnVfCdncE/jJGa8//wCGiv2zNF58Vf8ABPu%2BuY1/1k3hb4k6XefiEuPszn6Yo/4bm1DTvk8WfsW/HPTWX/WND4Ij1BB9DZXExI/Crhh8XB3pv/wGS/SSE8wwTXv3X%2BKEl%2BcGGrf8EwP2AdWuTe/8MteGbGY9JdEil09h9DavHj8Kq/8ADsr9mXTufBmp/Ebw2R0Og/FrXodv0DXbAfgKt/8ADx/9mew%2BTxevjnw6/ePXvhhrcG36kWjKPxNSWv8AwUv/AGEbqYW8v7S3h%2B0kP/LPU/OtGH1E0akV0c%2Bdpbzf3v8A%2BSMvreTX%2BOC%2BaX58pQH/AAT6tLXjRf2zv2grID7oHxQlucf%2BBUUv60f8MP8AxOsf%2BQH/AMFEPjhF6C%2Bv9Husf996cK6/Tf25/wBi3VwPsP7Wfw4JPRZPGllGx/B5Qa27L9p/9mrUgDp37Q3gafPTyfFtm2fylqHiMzXxJ/OC/WmbRqZdL4Zx%2BU1/8mebf8Mj/tP2/Gnf8FJ/iKoHT7T4W8PzfzsRSf8ADLP7Yy8Rf8FMvGAH%2B38O/Djf%2B2deuQfG34MXQza/F3wxIP8Apnr9sf5PVhfit8LnGV%2BJOgH6axB/8VUfW8Yt4r/wCP8A8gaKOFe0v/Jv/tjxv/hlb9sGTi4/4KY%2BMyP%2Bmfw/8Op/Kzpf%2BGP/ANpC641T/gpH8TnB6/ZNB0GD%2BVgcV7E/xa%2BFcQzJ8TPD6j1bWYB/7PVS5%2BO/wPswTefGXwpEB1MniK2X%2Bb0LFY17RX/gEf8A5AGsKt5f%2BTf/AGx5P/wwr44vPm1v/goN8eZz3W11/S7VT/3604EfnR/w7x8NXnHiD9rD4%2B6mp%2B9HP8W72FG%2Bq23lCvRL79q79lvSwTqX7SfgC3A6%2Bf4xsUx%2BctYWqft9fsRaQCbv9rP4etjqLbxZazH/AMhu1Wq%2BaS%2BFP5QX6UzKVXLYfFUj85r/AOTOY/4dffsf33z%2BK/Dfi3xBIfvP4g%2BJeu3W76q15sP/AHzWp4c/4Jr/ALA3heUTad%2ByP4FncHO/VNBjvmJ9SbgPk1Xf/gpp%2BwwXMdh%2B0BYaiwONuj6Xe3p/AQQvmm/8PE/gdqXHgjwL8UfExP3f7C%2BFGsvu%2BhktkFW5Z01ZuaXq1%2BsTJYvJ09JwfpZ/kpHqfhH4K/BvwAVPgP4S%2BGdEKfcOkaDb2236eWgxXTV4Mf21PHWsfuvBH7Cfxnv5D9xtU0aw0uI/Vrq8Vh%2BK0f8AC8P27td/deHv2F9L0jf9248VfFS0XZ7tHZQXGfoGrmlhsTJ3m185L/5Js1WYYRK0FJ%2BkJv8A9tSPeaK8G/s3/gph4l/dXfij4LeE4n6vY6ZqmsTxj2MklshP1Wk/4Ze/ak8UfuviT/wUD8VeQ337fwT4R0vR8f7sjx3Eo/77NT9Xpr4qsV6Xf5L9R/XKsvgoTfryx/OV/wAD3quE%2BIn7UP7N3wkEg%2BJnx48I6HJHndbaj4gt45ifQRl97H2AJrgP%2BHc/wC1z5/ix4k%2BIHj5/%2Bpz%2BIepXMf8A35jljhx7bMe1d38O/wBlP9mb4SmOT4a/AHwfos0eNt1YeHrdJ8juZdm9j7kmjlwcd5Sl6JL82/yDnzKe0Ix9ZOT%2B6KS/E4M/8FE/gx4j%2BT4K%2BAfiL8R26CTwZ4EvHt89s3NysMGP9rzMe9H/AAtv9vr4hfu/h/8Asp%2BGPBVu3MepfEfxoLiTb6m001JMH2My%2BhxXvdFHtqEfgpr/ALebf4e6g%2BrYup/ErP0ilH8XzM4b4I%2BFvj74es9Quvj78WdF8S3t7LG9nbaB4ZOnW2mqA2%2BNC00skwYkHc5BG3pzWV8TvhX8X/GPxu8N%2BOvCvjLw5pui%2BH9LuEjj1LRp7y6F3PIiyyxhZ4o1P2dDGrtv2%2BbIdhyK7Dxz8VPhj8MbP%2B0PiR8RdD0CDbuEus6tDaqR7GRhmvL5/wBv34FaxK1n8ItN8W/EW5RirReBPCd1eRA%2B9yypbge5kxSg68pupGO/lp28l%2BJhicTleFgqFesk007Od5uzvsuab/8AATu9Y%2BAvw38Waxpfifx3ow1vV9Il8y01S8xHIcSCVFdYAiSojqrKrqwUqD15rs68PPxN/bk%2BIfyeAf2c/Dfgi1blNR%2BIfib7VOVPf7Hp4bDezTr74pD%2Byz8Z/H/7z49ftf8Aiu%2BhbltF8C20Xh6zweqM8W%2B5kXtzMM/pSlBtL2k1p8/wWn4mcMe5N/VMNOV%2BrSpp%2BrnaT/8AAGeh/FL4%2B/BP4J2f234s/FPQ9ABXdHDqOook0v8A1zizvkPsqk151/w1942%2BI37j9mj9mXxZ4oif/VeIfEkX9gaSVPSRZLtfPmX2jhOfX07D4Xfsnfs5fBm8/tb4efCHR7TUi259ZuYDdX7t3LXU5eYn6vXodTzUI7Jv10/Bf5l%2BxzjEfxKsaS7QXNL/AMDnovlA8E%2BNEnjeX4g/sxyfEi10uDXW%2BL96dTi0SaSS0SX/AIQrxTkRNKquy4xywBr3uvGf2oP%2BS3/s4/8AZZr7/wBQrxRXs1ZN3dz1IR5IKN27dXu/XbX5BRRRSKCiiigAooooAKKKKAPl34DftjfG34gfGLwtJ420zwsvgP4ma14u0zwVZ6XptzFqulyaLdyxQyXlw9y8V0t3b21zMVjhgNu3lx5nyZBd%2BFf7U/xd139tLxX8Dfix4m0Twzotv4nudN8AaBf/AAn1u0ufE9tFpdvdm4tdenuxp93IrtdlreCBpBHauSAEZx0Xg79gzwN4C%2BJM3xG8L/F3xvALa61m68KaE8%2BnS2HhafVr1bzUpbFHsi7NPKHH%2BkvOIUmljgEKvit%2B%2B/Zag8RfHLRfjX49%2BN/jXxFD4W1q51fwj4O1I6ZHpOi301ncWTTxfZrKK6mK213dRoLm4mVROxA3KjKAcZ/wUL%2BLnwo8NeD/AAZ8KPEfxO8Paf4p8QfGH4ey6D4avdagi1DUkj8Z6M0jW9uziSYKqsWKKQApJxg12vi/9kP4U%2BIfEt7468L3/iHwf4g1Cdpr7WvB%2BvzWUlxIeS0keWhlJPXfGc96y/28P%2BSIaH/2Wb4cf%2BproldN4i%2BK3xP8H67dxaz8A9V1HRo52FpqvhrUIbuV48/Kz2zGORTjqF3/AI1lWr06CTne3km/vsnb7jzcypZdVpRWMp80U9HyyfK7b3j70dOqa7XOc/4Qv9tD4fc%2BEvi94Y8d2a9LPxlo7afdhR/CLqyyjN7tD9fWj/hqHx94O/d/Gr9lrxnoyr9/UvDaR67ZKvdi1qfOUf70I966LRP2o/gdq96ukX/jaPRNQPDad4ltpNOmU%2BmLhUBP0Jqj8av2zv2Xv2fdKbU/ij8aNDs5dgaDTLa8W5vbjPTy7eHdI2eBnbt55IrXB/8ACjU5ML%2B8l2j7z%2B5Xa%2BaR5fLhKFF1cLj3CK35pxqRXqqjU16c9/IseE/2vf2Y/GiyjRvjd4filgUtcWmqXwsbiIAZYtDc7JFAHXK8d68C8S%2BPfHf/AAU08cP8Mfgjrus%2BHvgdo108fjHx5p8jW0/iuZflOn2D/e%2Bz5z5kuMMMjpgPneOPBPxo/wCCo%2Bo2OmeI/gy/w3%2BDtveR3F1qnibT4x4k8RxxuHWKCMgtYwtjl85YEEFgWSvb7X9hj4PeFbdLf4O%2BIfGHgBY1wkXhDxXcwwDHT/R5mlhI9tmK96Kp5JHmlaWIeyumqfm7XTqdldqG7vKyjwSq59m0eXkjPDp6tOVGVVdkp81oX3d4860TUbt7Pwt/ZA%2BAvwO0z%2Byfgz4XvfC8JgEUi6Rrt4iy4AAkkQylJZMKB5jqz44zgkVoeIvgpqXi7x5p3iTxN8TtVvdG0nWE1XT/AA5JZ2qxw3aKyxkTJGsrRrvZgjEndt%2BbAweb/wCFYftg%2BEPn8GftL6N4jiTiOy8ceEEDY9DcWMkRJ9zGfxo/4Wj%2B2B4U/deL/wBmHSPECJzJe%2BCvGkYJHqIL6OE/hvJrxpV605ucpXb6vV6%2BbPQjXwNCkqVXB1KUVrZQ5o6a/wDLqUla6vZxtpdo5DWv2Vfitc/C288JaxqOmakuieHn0vw5Y6bMyS6pG9yJbp53lCJDNPAvkbQSimR2L4IC%2Bn/Bvw34sl8Y%2BLviz4y0G50efxLdWkOn6LeTxSTWlnawlE80wu8fmPLJO%2BEdgFZBuOK5/wD4bP8ABmi/8lL%2BEvxH8JKv%2BsuNY8FXE0Cn/rrZiZD9c1s%2BFv2wP2XPGUgg0L49eFzMTgW15q0drNn08uYo%2BfbFOVec4tMzwlbhyliYuniUpL7MpKLbSaWk1CWibSVrerV3V%2BI3x8%2BKvw58ZXmlj9k3xj4i8Pw%2BX9k8Q%2BFr/T7lrjMas/8AoslxHKm1iy9Dnbkdaw/%2BG/fgjo/y/Enwx4/8GN/1NHw81KFB/wBtI4ZI8e%2B7HvXs2m6rpes2q3%2Bj6lb3cD/dmtplkQ/QqSKsUlOlazh9zf8AwT1pYfMXJzo4nR6pShGS9E4yi7dt/Vnl3hb9tv8AZB8ZMI9B/aU8GNIxwsF1r8FvKT6bJmVs/hXoWheKfDHiiD7V4a8R2GoxYz5ljeJMuPqhIql4p%2BGHw18cBl8a/DzQ9YDDDDVNJhuM/XzFNee67%2BwJ%2Bxh4gn%2B1XX7NvhW1lzkS6TpwsWB9QbYoR%2BFP/Z33X3P/ACJvnkOlKfzqQf5TR69RXiQ/YC%2BBumc%2BB/EvxC8MHt/wj/xL1eID6B7hwPpjFH/DHXinTvn8L/to/GOzYfdW81%2BzvkH1FzaOx/76o5KL2n96f6Nh9azaPxYVP/DVj/7dGLPbaiu7Kzv4jb31pFNGeqSxhh%2BRrxf/AIZ%2B/azsPl0b9vXVnQfdXWPh9pNxj6mNIifzo/4Vj%2B3lpnNh%2B1b4K1PHQan8MHiz9TDf/wBKPZQ6TX4/5B/aOKXxYSp8vZv8qiPSdS%2BDnwi1kk6v8K/Dd0T1%2B06Hbvn/AL6Q1iXv7KP7LepEnUf2bPAFwT187wdYvn84q5H%2By/8AgozafLF40%2BC98B0abw7q0DH/AL5u3H6Uef8A8FHIf%2BYX8Erj/t/1iHP/AJCetF7WO1Vf%2BBMxljaEvjwlT/wVF/8AtzNyf9iD9jC5O6b9kj4ZknqR4F08H9Iart%2BwZ%2BxK5yf2Sfhz%2BHg6zH8o6y/7b/4KLw/6z4cfBqb/AK5eLtVX/wBCsaP%2BEp/4KGLwfg38J2918cagP52FXz4pf8vv/J3/AJmbxGXPfBz/APBBqx/sH/sTRnK/sk/Dg/73gyyP846t237FP7G9md1r%2ByZ8NIyP4l8CaeD%2Bfk1z/wDwk/8AwUOfhfg/8JU938b6if5WFH9rf8FGZvueA/gtB/108U6s5/SyH86HPFPet/5O/wDMFiMvW2Dn/wCCEdpY/sw/s1aWQdN/Z58DW%2BOnkeErNMflFW7pnwx%2BG2iEHRvh7odoR0NrpMMeP%2B%2BVFeXbv%2BCjs3/LH4JW3/bXWJ8f%2BOpR/YP/AAUTv/lufiZ8HtPB/is/COpzsP8Av5eqD%2BVQ1Ul8VRf%2BBNmscbRj8GEqf%2BC4r/29HtiRpEgjjQKoGAqjAFLXiX/Co/25tQ%2Ba/wD2x/DVhnqml/CtGx9GmvW/lR/wzh%2B0zqfyeJf29vFRjPVNG8H6NZ/kxt5GH5ms/ZQ6zX4/5Gv9oYt/DhKnzdNfnNnttFeJH9i24vefEn7Xfxq1At95V8bJZKfoLOCIgfjVOH9hT9kjWNXm0PxO%2BueJ9Tt41kurbX/iNql5MiN0Z4musAH1K80clBbz%2B5f5sl4vNXZLDxjf%2BarH/wBtgz13xN8Tfhv4KVm8ZfEHQ9JC/eOp6tDBj672Feea9%2B33%2Bxp4eufsVx%2B0X4avZ84EGiXh1FyfQLaiQk%2Bwqt8Lv2Xf2CL2Ga9%2BFvwW%2BG%2BrCyuDDPdWumWl%2B0MoAJUyMHKtg%2Bua9Z0Hwr4X8K232Pwv4bsNNhxjyrCzSFfyQAUf7Ou7%2B5f5ipzznEQUoSopPquep%2BN4xZ5B/wAN1eCdZ5%2BG/wAD/iv4tRv9XcaP8PbqCFv%2B2t6IEH4mj/heX7Yfij5fBH7FY0uKT/VXvjbx7Z220erQ2i3L/hkGvbqzfEXjHwh4Qt/tfizxVpulxYz5uo30cC4%2BrkCj2lJbQ%2B9t/wCQ54XHcvNXxbiv7sacF98ud/ieRf8ACIf8FA/GI2a98Zvhx4KiPOPDHhW51Wce3mXk0afj5X4Gj/hjLVPFH7z4xftV/FHxOX/4%2BLK219NGs5R6eTp0cJx7FzW3rf7bv7KWiXf9nj426RqVz2tvD5k1ORj6BbRZCapf8Na3%2Bv8A7v4Z/sz/ABM15n/1FzP4fXS7Z/fzb6SI49wpo9vUXw2Xol/wWeVKrw05ctTEOs%2B3tJ1f/Jad1%2BBoeB/2KP2UPh3ef2p4a%2BA3h5r7du/tLVLP7fdbvXz7oySZ991enwww28SwW8SoiKFREXAUDoAB0ryD/hLv24PFv/IB%2BDngbwhF/wA9PE3iebUpsevlWcSJn2838aT/AIUR%2B0Z4t/5KT%2B13qlrA/Mlh4G8O2umBfYTzCeXHuCKzlOc3eTb9Tsw%2BLo0IcmAwU7eUI0o/fNxf/krZ65qGpadpFnJqOq38NrbxLmWe4lCIg9SxIArzHxD%2B2p%2BzZomotoWl/EeLxFqY4XSvCFpNq07N/dxaLIFP%2B8RVGx/Yv/Znj1mF/HOj3PjDWCpkSbxx4guNUlkA6sIriRo8fRAK7v4faz8KIZrnwV8NodNs/wCz2Il0/TrAW0a7WKMUAVVcBhtJTIB4JBrJ1IKSTauzR1s6qyUW6VG%2Biu3Ul6WXs4Xt6nB/8L0/aL8dDZ8Jv2Vr%2Bwgk4j1b4iaxFpiIfU20PnTkexVD/Kg/Bb9pr4gfP8WP2mm0W1k/1mj/AA30dLLHt9suTLMfqoT/AA9V1/xN4b8K2R1LxR4gsdNth1uL%2B7SFB/wJyBXCXP7Vnwou53sfAf8AbHi%2B6RsNB4T0aa8UfWUAQge5esquKw1B2qTSfa%2Bv3av8DCvhcJTdswxcpt/Z5lBP0hStJ/fI5D44eFrPwV8R/wBmXwpp%2BoX93DY/GC9jS51S%2Be5uJP8AiivFB3SSyEs7HPUmveK8L%2BPerXuu/FD9mjWNR0C60ue4%2BMN88mn3rIZYD/whXij5W2My5%2BhNe6VvGSlFNdT36SpxpRVNWjZW32tpvrt317hRRRTNAooooAKKKKACiiigAooooA8Z/bw/5Ihof/ZZvhx/6muiVU/aZ/bc8M/BPVdL%2BGHw08JT%2BP8A4jeIrqa10LwZo15Gjh4hl5bqRji2hXuxBzg44VmW3%2B3h/wAkQ0P/ALLN8OP/AFNdEry39lHwJ4Q/ab/ae%2BOH7Tnjnw5aarZW/idfBXhL7XCHFvbacgFzJEeoEszq%2B4dww9a68NQqOnVxKjGUaUb8snKKnKTUYR5o3cVzXcmk3yxsrN3PJzTEYmLpYbDS5Z1W1e1%2BWMVzSkk9L2slfS8k2nazmn/Yp/an/agshqX7av7UV/pen3T%2Bafh38MoksrS1XqIpLx1aW444YEEZztYjBrsPBX/BL79jT4ZyWuqfDX4cXehazZndb%2BIrDXbo36P3cSSSNgn2GPbHFekXXwc0Pw7bve%2BFvH%2Bv%2BHYohu2Q6uZbZPcx3G9QPpipE0v48aOobTPGXh/XoiMganpz2shH%2B/CzL%2BOyvCxXFec1VLC4rCSjGybjQlTlG2ybhCVGq1e6TkpddW7owjkGVxftK1D2kv55tzl/4E2mu9oqNuiRk/8ACrPjz4Z58EftEy38Kf6uy8YaDDd7vYzQGGT8Tml/4TL9qLw38uv/AAa0DxCg63HhnxIbd8f9crtFGfbzK1v%2BFjfEXSP%2BRp%2BCuosg4M%2BhahDeA%2B4RjG/6Usfx%2B%2BGsLiDX7%2B90WYnBi1vS57bH/AnTb%2BteOs5yKm7SxMqD7VOeH/p6HL90zo%2BpUofwq04f9vNr7pqS/EyP%2BGndC0njx98L/G/hwLxJcX3hqS4gU/8AXW181ce/Favhz9pH4CeK3EOi/FzQWmJwLe41BIJc%2BnlylW/Suk0Xxl4R8SAHw94p06%2Bz0%2Bx3qSf%2Bgk0zxH4E8EeMIzF4t8HaVqikYK6jp8c4x/wNTXsUZ4itTU6FaFSPeyt/4FCTRap5pBe5VhNf3otfjCX6Gja3drewLdWVzHNE4yskThlP0I61leKfh18PvHEZh8a%2BBNG1hCMFdU0uK4BHpiRTXI3X7JXwBedrzSfAp0edjkT6BqVxYMp9QIJFH5io/wDhnnXdK/eeD/2iPHtgy/cjvdTh1CIf8BuYnY/99Vr7XHR%2BKkn/AIZL8pJfmTUnjpQ5a2HjNeU4tfdOKKOpfsMfsoX921/afBqw0q4b/lv4euZ9NYfQ2skeKg/4Y%2BsdM/5Ev9oj4raGq/6qCDxm93EnsEvEmGPatX/hCP2odG%2BfSPjroOr46Ra74P8ALz9Xtp0/RRR/bX7W2kfPe%2BA/AutKO2na9dWbt%2BEsDgf99Gj6418dKa%2BV/wD0mT/I8t4DJk7ywEoPvGFvxo1I/kZX/Ckv2o9J%2BXw3%2B2bdTxr9yLxF4FsLrj0LweQx%2BuaP7M/bz0j93beLPhTraL0e80fUbCRvqY5plH4LWr/wuD416d83iD9lvWNg%2B8%2Bj%2BIrC7/JWkjY/lS/8NK29t/yGvgd8R7ED7zP4UadV/G3eQUf2hhV8Ta9YyX/tovZZTD4a9an/ANv1l/6XCaMn/hPv22NF%2BXVP2dPBms46vovxAkgz9BcWY/Uij/hfn7RWn/Nr/wCxP4iCDq%2Bk%2BLNKuvyBmjY/kK1v%2BGt/gbB8ur65qumv3TU/DF/Bj6loMfrVmx/au/Zu1A7YfjT4fQ%2BlzfrDj6%2BZjFNZhgG7e1j/AOBJfm0NTw17U8za8pSov/0qEWYH/DWWr2vy6x%2Byb8XLYj7xi8N21yv4GC5cn8qX/hs7wTb/APIa%2BEHxT04dzefDbUcD8UjYH8K7ex%2BN3wY1PB074u%2BGLjPTydft2/k9a1p4z8H3%2BDY%2BK9Nmz08q%2BjbP5Gt416E/hmn6NP8AJnVCGPn/AA8fGX/cOk//AEmojzL/AIbp/Z1h41PVvEti3dbzwDrCY/H7KRR/w3p%2Bygv%2Bv%2BKbQ/8AXzoF/F/6HAK9dinhnXfBMrj1RgadWpt7DPemIpv/ALhP9Kp4/wD8N9fsfD7/AMddKT/rrDOv84xSj9vn9jg/83BaB%2BMrj/2WvX6Qqp6gH60B7HP/APn9S/8ABc//AJaeQn9vr9jgdP2gdBPsskh/ktH/AA3x%2ByEf9X8btOk/65Wlw/8A6DGa9fAA6CigPY5//wA/qX/guf8A8tPIP%2BG8/wBlZv8AUfEi6n/69vDGpS/%2BgW5o/wCG5PgNP/yCF8X6gewsvh7q7Z/76thXr9RXF9ZWgzdXkUQ9ZJAv86G0twdDPba4mmvSk/1qnN/Cz4taN8W9OutU0Twx4j02K1mEZHiPw9cae0uRndGs6qXX3HGeK4j45WV74X%2BJXhr4h6RqUkMQ1u0g1jy/E10Z5FkbyVgisCTbsrbwXYbX%2BUkAnmvSbz4geA9Pz9v8baRBjr52pRLj82rk9X%2BIf7KkHiWPxprfjXwB/bUCBIdUn1CyN2ijOFWQneAMngHufWsZYjDw%2BKaXq0v1M8bGNXBRpVa8OdNPmbUNne6Sk/S17PW7VzzT9oS%2B8PHxxrGu6nc20usyaTpz/DW6idWllnjuv38Fm/UzOxCuqHcyOQcqDiCbwneal48vfA2n6LdW3iyfxDrrXepiykUPpt3aOUlM%2BNpj3mNEXdlWjAAAXI9Mf9q/9mXS1WztfixorBBhIdPLTYHsIlP6Un/DWHwjuvl0CLxLq7dl0zwdqEmfoTCAfzrF5jgP%2Bfsfk0/yueNVwuU1cRKpPFw1d2lZvXfVNvm6Rla6jpqY3wG0/wAR3fj6DW7jwpqekQ6b4CsdF1mPUNNktkl1CCVv9TuUCZFXePMTKkMmD6dV8U/hR42%2BIurW02ifHzxN4U0%2BK28u4sPDtvZhp33E%2BZ500EjqcEDA44zjOazv%2BGi9QvPl0L9nn4jXbH7pm0KO1U/U3EyEflSf8LR/aE1D/kD/ALMMkCt92TWfGFpDj3KwiU/hS%2Bv4Z/C2/SMn/wC2o9Gj/ZkcF9WlKdRN3fLGor7fyKNlorpSs9W97LK/4Yt8A6p8vjz4pfEnxOh%2B9DrPj69WI/8AALZolH4AVo%2BHv2Lf2UvDE/2vT/gJ4bnnzn7RqlgL2TPrvuN7Z985qT7R%2B17qnzRab8PNGRugmub2%2BkX8FWFSfxo/4Vr%2B0Zqvza5%2B0lDZK334dA8IW8eB6B7h5T%2BOBR9bnL4KM38lH/0qX6EQwOUqXNTy9yfeUI3%2B%2BrObO/0Tw74f8NWgsPDmhWenwDpDZWqRIPwUAVb3Lu2bhuIyBnnFea/8M02Wo/8AI3/GX4gayrf6yGbxM9tE/tstViGK3/h/8DfhX8LtSm1rwP4SS0vbmDybi9kuZZ5pI9wba0krsxGQD17VcKmLnNc1NRXnK7%2B5K34nsUKmNclH2MYQ/wAabS8lGNvxRS%2BNfiD4geEdKj8TeELxpIbcjztPh0Q3JkIyzNLIHzFEEByVQtnGCchag%2BKPh/X/ABXcaJ4r8N39rdaXbW80l5aXPiO5sLaZWCNHKTACJcFeA%2BFwx5q58VpdN1PUNI8HajfavFDqU7R3Y0u8EIMTYjAlOCxVmYLhSDk9cVmeOtO0eza50iDwbo97pmiadDqNzYatZG4Dqu6MCLe22LakbHO05IxgZzXjY7McLSdfmk2ouKaV21Kznt25U3LfRNWb0MMRh6tWpVTfuvltq9JLXSydl3XXscbfaxa6/rMfjlPDl3FrPiA6JqfhWR7N3lTcvlTW3mAfKsa7mkUkAiQtg7q6XwN4J8X6R4t8PaHc6BdQ2/hWXU0OstLGYLyynY%2BREoDby/8AqS2VwDCeTuFaUfiHxSl/Ne2OtERPq8mlW%2Bm%2BRGsUAMQaB1AXduGQzZJBBOAAKd8K9QX%2B1LG30zUJpodQ8OpealBPdvM9veBkVtxckqW3OCOBmI8V5uGzTDVMfClyyvKW/uq/vOzsr3vKLb1UoRtdNXtjRy2MaqnKbbunokr63133kr33SstjqPE3w98CeNbyz1Dxh4O0zVZtO3mxfUbJJvIL7dxXeDgnavPsK1IYbTT7UQwRRwQxLhURQqoo9hwBWL4w0LxD4int7LQPiDPoqorG7js7WGSWYHG0hpAfLxzyAc5HTHOQnwF8D3bibxbdat4hkByG1zVZZlH/AGzBWP8A8dr26%2BKzFYmcMHhVLo5yqQjFuy6RU6jttqo/dZnrezUKjlGCTe70V/XS7%2BZxf7TFxb3fxo/ZvubWdJY3%2BMt8UkjYMrD/AIQrxR0I617TXiX7R2mabo3xg/Zt0vSLCG1toPjJfLDb28QREH/CFeKOAo4Fe2169P2ns17S3NZXte1%2Btr62vtfXubK4UUUVYBRRRQAUUUUAFFFFAHMeHPjb8GPGPxB1n4SeEfi74Y1XxX4cRX8Q%2BGdN1%2B2n1DS1bG1ri2RzJADuXBdRnI9aLX42/Bm%2B%2BKdz8C7L4ueGJvG9nYC9vPB0Wv27arBakKRO9oH85YyHT5yu35l55FfHH7PHh7xn4L%2BNXgPQ/EHwg8a6dqXwx8T/ABJv/H/iY%2BB9Ra11K21jWJJLQWtykBXUjevPa3rJbmUwi0bzxE8YWrvg74f/ABBi/ak8PfDeX4UeKIde0H9p3xJ491rxnL4auk0qbw7eaFqdvbSJqZj%2BzTyFb2w0/wCyrIZk%2BzMxjEcKvQB7h/wUPfWI/wBnOwfw7FE%2BoL8W/h6bFJzhGm/4TPRdgY9huxn2rkP%2BCQ2jaJD%2BxH4V17T9Qv31C6n1M%2BIIruU/8hD7fN5zMnQMNoAPdcZ5rsP22fg/%2B0/8YfCui6Z8AfFPgJbbSfGHhvXtQ8OeMNNvYX1VtL16x1Mxx6pbSyCxDJaFcmxutzED5A25fHP%2BCfs37a/gL9ny48MeAv2dfhbe2Fh498U2MlxrHxv1KKZrm01y9srghY/DLL5ZmtpChzuKFSwViVHU1g62WSo1VeaqU5x33iqkW9GtufRO612fTz6lGv8A2tSrx%2BFQqRe32nBq3rytN9l9/wBY%2BPdI1zU4B/Z6QzxFPLFs4YEOxC%2BZkZBwCeo45NM8Zy6bPp9s099Zp9n3TCyuiR5%2B1Su1eVOQehweQOOa8%2B/4Tj/goX/0a/8ABn/w/Grf/MvSP40/4KDyACT9lv4LsAcjd8d9WOD/AOEtXxGY8K0sXLGTp1PexMYqSneUVyO6ataVr2fK24aWtyylf3KeLcORNfDfbz/rff8AA7%2B41G%2BMzS2V1NbraPawwWe4EOzgMyvnJJ2sB14xmrOna9f6hfWxuhC9nqLTiCDyjuVEzhyxOCGA6Y/iFeXyeIP295dRXVpP2UfgsblBhZT8d9WyOCP%2BhX64J596g03Vf2/NLujdw/sx/B9yFZYUk%2BPerFYVY5KoP%2BEW4BIHr0Arho5HxFh8fGUa96bnd2k0uVNWbi01rC9P2cLQT5ZO9lbSVfDSptOOtu36%2But3ruj1PWvhB8LfELGTV/h/pMrnrMtkiSf99KA361m/8KJ8LWX/ACLPiLxHow7JpviCfZ/3xIzr%2BGK8Ym%2BOX7dnjL4y638Drb9mj4Z2Oq%2BGPDGk67dXlr8ftUjglg1K41K3hRT/AMIwSzq2lTlgygASR4LEsF6/TPFn/BRCwsY7Of8AZu%2BD90yA5nn%2BPGq735J5x4WA9unavVnkuXYnMpxq5dBRtdVU4Jyel01BU6kXvq5NO3mjglRoOCldX7Wa/HY7j/hX3xQ07jQ/jfdug%2B7Hq%2BjW9x%2BbII2/Wjb%2B0Lp/Ak8Iamq92W5tHb8vMGa47/hOP%2BChf/Rr/wAGf/D8at/8y9H/AAnH/BQv/o1/4M/%2BH41b/wCZeuj/AFew0P4FatT/AMNabX3T9ojL2a6N/f8A8Odj/wAJx8XrL/kJfBIzAfefTPEMEmfcLKIzR/wuWS241f4T%2BMbUj7zLo4nUfjC71x3/AAnH/BQv/o1/4M/%2BH41b/wCZeuX1b9o79u3R/jPoHwOuP2UPhI2qeIvC%2Br67Z3KfHXVPIjg065023mRyfDG4OzapAVAUghJMlSFDH9l5tT/hY%2Bf/AG/Toz/JU2HLPpL8j1r/AIaC%2BF0Xy6nq17YN3XUNGuocfUtHj9a2vCnxE8DeOWlTwh4ps9QaFQ0yW0wZkB6EjqK8z/4Tj/goX/0a/wDBn/w/Grf/ADL0xPF//BQKKVp4/wBlf4LK7j5nX466qCfqf%2BEWrfDUc9p117evTnDranKMvk1UlH70NKonq193/BPQ/HvjbUvDskFj4f0%2BO6uDNAbvzQ2yGGSURgnH8TEkKPbnioPiDrkNrcNYW/hSw1OSCwkvb0X%2BAqQJkYX5Gy5wcA4HHJFeT%2BLtL/bY8azRXmt/sh/BB7mOaJ/tf/C8NU81ljcMELHwtnacYI9CcVB4lg/4KL%2BICJIvgH8G7eSaxksb%2BRfjbqjGe2c52r/xTACMASA3ONx4NedjaXEXNiXTd1Jx5OVq6SUrq01ZNvkbbck1zWtZJxOM5Jp6r%2Bu5395pfwn1rVo4rj4H%2BHrqwa4t7e5vbrTbcuksyBkAQxkMo3KGO4EE8A8mqWj/AAp/Zw8W6pFZzfs9%2BG7eC%2Bill0u7XR7ZRdpGwDkKigp94HnqDXknxe%2BJP7eXwXsLTxxrf7Nfwil0W%2B8b%2BHdP/syy%2BNeqNN9tv9Qs9Jtm8xvDaqIVmuYZZBtLYRyueEPU%2BF7X/god4eu9Nln/AGd/gvcQ6PYTWmnRL8btXRlSRkJLt/wjJ3MBGoyAvc9%2BOWlhc8lio%2B2pxcObW8aVrXs7aXUOXWP2ufR6HLLA4Wo/fpQfrGH/AMieiS/shfs0ytv/AOFO6Qh9YY2j/wDQWFN/4ZB/Z2H%2Bq%2BHnl/8AXHVrtP8A0GUVxfi67/4KIeLIoI4fgZ8MdJMDMd%2BkftA6pGZM44bd4UbIGOPqaw/%2BEc/4KTR/6jwX4IH/AF0/aAvW/n4Pr0MVSnRruNLLo1I/zKVGN/8At2STVttyJZTll9MND/wGK/RHqH/DIvwCH3PCmoJ/1z8Uaiv8rij/AIZG%2BBPbw/rA%2BnjDVP8A5Jry/wDsb/gp0v8Aq/CHw9H%2B98c7tv8A3UK5f42/EL/gpN8B/gx4u%2BOPinwJ4DutL8GeGL/XdStbD403DXE1vaW0lxIkYfwmqlysZChmUZIyQOa5%2Bav/ANCp/wDgdD/5JE/2Vlv/AEDR%2B6J7x/wyN8CO/h3Vz9fF%2BqH/ANuaP%2BGRPgB0fwfev/108S6g38568v8A7K/4Khn73hP4c/h8bbof%2B6jR/Yn/AAU2b/W%2BD/h%2Bf9z463a/%2B6hRzV3tlT/8Dof/ACTD%2Byst/wCgaP3RPUP%2BGQP2cm/1vw0hl/676hcyf%2BhSmpbf9kj9mm1OY/gxobH/AKa2u/8A9CJryr/hGf8AgpC/M/gjwU3sn7Qt8n8vCFH/AAiP/BQt/wDX/DXwa/8A3crqyf8AoHhQUL650yqPzqUP/kGNZVlq2wsP/AYf/Is9ms/2cv2frDBtvgj4UBHRm8P27H8yhNa9j8MPhppeP7M%2BHmhW%2BOnkaRCmPyWvAv8AhBv265P%2BP34IeBbn1E/7UHiD%2BnhkVy/wRvf2m/j38GPCHxy0H9jv4aDTfGfhfT9d0631n9pPX2nit7u2juI0lVfDzIHCyAMFLDIOCRzW0ZZyv4eApR9asf8A2ygzeGEw9P4KMF6KK/KB9dImlaPDtRbe1jHYBUX%2BlUL34geA9Nz/AGj420i3x18/Uokx%2BbV8/wAHw2/ajgfzB%2Bw18CJG9bj46avKf/H/AAwa07LRv2v9OwbD9hz9n2EjvH8Y9QB/P/hFa2U%2BJ5bU6EPWdWX5QgdK9olZJL7z1a8%2BPXwasm2SfEjSpD2FvciUn6bM5qA/HzwBccaNFrWpN2XT/D13Jn6HywD%2BdcPZ%2BJv2%2BdPXbYfsn/BKAekPxz1Vf5eFqn/4Tj/goX/0a/8ABn/w/Grf/MvR9X4lqfFiKUf8NKUvxnVX4oLVe6%2B7/gnY/wDC3NavPk0T4M%2BLJ2PQ3VrDaqfxllBH5Uf8JZ8bdQ%2BTT/hHYWWekmqeI1OPqsMb/wA68m8A/tHft2/ETxX438IaP%2Byh8JIbjwH4oi0LVZLn466oEnnk0rT9TDxbfDBJTydRhUlgp3o4xgBm6j/hOP8AgoX/ANGv/Bn/AMPxq3/zL0f2VmdT%2BLj6n/bkKUP/AGyb/EOST3l%2BR2P9n/tA6l8l14l8LaUp72emz3Tj8ZJEB/Ktfwj4a8YaNdy3fin4iXGs%2BZHtSBtOht44jnO4BBuJ7csa83/4Tj/goX/0a/8ABn/w/Grf/MvR/wAJx/wUL/6Nf%2BDP/h%2BNW/8AmXrfD5Lh6FaNaVWrOS256s2v/AVywfzixqCTvd/ed743%2BGMfi%2B7fUofEuo2c7C3wkFxti/cyF0JCgNkFmxhhgnNRfEDwl/aOnvdG/n%2B2TRvaKlrtQXMDEkwSBg%2BVC7iWGG%2B8QRk159e%2BKf8Agojd3NvPH%2Bzl8IIFgcs8UPx41TbN7NnwqTj6Y61yw%2BOn7bfjL4x658Cbn9kn4StqXhrw1pGv3Ny/x51Zbd4NRuNTtoUQr4Z3F1bTJy4KhcSR4LEsF83M8kWLwuMhh6KhUqWSk56SdviSXNyuPNJK8dXrZxbT2pwoRqRlPVdVr/mvwse16r4UsL1tO8YaFpUy3bNC8htXXcUMe0NtkPllwpChyNwXgGoLn%2ByTdSalau1k5spZDIMRu9zDJhzJswJG7c5GOnWvPNP1L9v3TtKTRrf9mb4QLAibVWL4%2B6vGRyTkFPCwIPOOtTx67%2B3pFaJY/wDDJ3wUeKN96LL8dtWfDZzuy3hcknPfrXiV%2BF8zxy53yU5TjBzV24%2B1jFJuPJyyim3KUpJpycYaaM7KdfDUX7qvZu2iTs%2B976209LnoMQkGqo0lsU1GXVIp43ERy9uyLvBbH3VG8YJ6qK6bVLO6v7B7S01OW0kbGLiFVLKM843AjkcfjXkX/Ccf8FCh0/Ze%2BDP/AIfjVv8A5l6P%2BE4/4KF/9Gv/AAZ/8Pxq3/zL19FlXD1PLsPXozqOcau9rwe0rtuMk%2Bd8zvNOLdo9Y3eNXEupKMkrW%2Bf59NNtepD%2B0jaNY/GL9m20e7muDH8ZL4GadgXf/iivFHJIAGfwr2yvlf4n%2BJf2rdX/AGk/2dLX41/Bf4e%2BH9HHxc1Fo77wt8Tr7WLkz/8ACF%2BJtqGCfRbJQhBYl/NJBAGw5JX6or3qVKFGlGnBWUUkt3olZattv1bb7tvU523J3YUUUVoIKKKKACiiigAooooAKo%2BKPENh4S8Naj4r1UObXTLGa7uREuW8uNC7YHc4U1eqO7tLW/tZbG9t0mhmjaOaKVQyupGCpB4II4xQB83/ALGv7Uvx8%2BKnjDRvCvx/03wkj%2BN/hPp3xA8Lr4T0%2B5t/7Lt7iUJPpl009xMLqSETWm27jECyl5f3EWwbvK7D/go98Zfh18MD8afEvw/8GXXhvx38L/Ffjr4Z6BoWnXFjc2Utje2gt7TUrh55UuXvF1OGeSeKGDyXSZSk25Xr3n4AfsL%2BEP2dNVt9X8J/GXx1qcunaLp2gaGNfudOuBpXh%2ByeV4NGhK2SE2%2BZfnmkL3kgii33LeWuMbSf%2BCZ3wGtrTxB4e8SeKvFuv%2BHtW8Ja54Y0Pwxq2o2y2nhbSdXuEuL%2B105re3inQPJDblHnlnkhW2iSJ41XaQDpv2ZPi58Y/Efj7x/8C/j/AHfhnUPE3gW60yZdc8IaPcadY6hY39p5sTfZri5uXhlSWK5iYec4ZY45Bs3mNPYq87%2BAH7OelfAY%2BIdYuPiR4m8aeIvFeow3fiDxZ4wkszfXfkW0dtBFtsra2t44o4owFWOJcs8jtueR2b0SgAr5d%2BA37Y3xt%2BIHxi8LSeNtM8LL4D%2BJmteLtM8FWel6bcxarpcmi3csUMl5cPcvFdLd29tczFY4YDbt5ceZ8mQfUVeGeDv2DPA3gL4kzfEbwv8AF3xvALa61m68KaE8%2BnS2HhafVr1bzUpbFHsi7NPKHH%2BkvOIUmljgEKvigCnrnxU%2BOPw8/bU8I/DPWtR8A67pXxEbU0XSND8L3Vtrug6PYWs08Wo3d695LHdW4unitSgt4As2qR7GbD7sj/gnD%2B1P8Xf2j/AvnftF%2BJ9EsvHf/CM6Rqus/Dy3%2BE%2Bt%2BFL7w411HKZFkXV7uZ9RgMqPFHdQJHEWtpeXJwnW%2BBv2NP8AhAf2lPFn7S%2BnftKfEK7vfGk6nWfD2pRaHNYrbxW7w2tlDL/ZgvYLW3MjzRwpchfOeSR95ll8zY%2BDf7L9t8LfiLqnxf8AFvxp8ZfEHxTqWiW%2BjJrfjI6bG9np8Mskwt4YtNsrSBQ0srO7tG0jEIC%2B1FUAHqNFFFAHy7%2B01%2B2N8bfhX8U/GL/DzTPCzeDfhNovhvU/HdtrOm3M2o6xHql9cRTR2M0dzHHaNbWtv54aSK4E8koixCFMhm/bI/aV%2BJnwK/aF8HWdtq/h7wl4Gk8I6leeJfiL4j%2BEWs%2BIrbTZFvbBFtJb2wu7eDSIZI2llee7byv9GUnhK7b4z/sQ/Dj43fFI/EzXPHPirS4tRtdItfF/hrRrq1TTvFMGl3sl7YxXyy28kwWOaaXP2eWAyxyGKYyxhUE/x0/ZJuv2hPBMvwx8eftLfEOLwxqmj3Gk%2BLtB0xdFhi8SWU5cTQ3Mv9mmeENE7QFrSS3byz13/PQB55qX7Y3xttf2gLuWDTPC3/CsdP8AjNZ/DS5sH025Oty3lxpsE41Nbr7T5CxLeXMVt9lNuWMavP54OIa%2Boq8XuP2HfhrP8e/%2BF4Dxt4pjtH8Uw%2BKJ/AcdzaDQ5tei05dOi1Nk%2BzfafNW2SMCIXAt/MiSYwmUeZXtFABXz1%2B15%2B0T%2B0B4D%2BIEHwu/ZwtfCK6np/wANdd8b6zceMtNubqG6gsJLWKHTYRb3EBgkuHuJM3TGVYBCP3Exkwv0LXkf7S/7Hng/9pnULLWtR%2BJPi/wjqFv4f1Pw/faj4NvLWGbUtF1DyDeafMbm2nCxyNbQsJYhHcRFCYpo977gDmv2nPjv4yg/Yr/4a6%2BF/izwnoejab4LHjK8s/GvgO415rqFLVL22ggit9SsjHc%2BYECHMhMmwKobBrhr39rH9q34ffHXwH8NP2htc8H%2BCNIu/h94QvPFuu/8Kh17UdL1HxLqF7e22o6Vb6tFfrZ6QFaC0SD7YZmL3sf%2Bt4Q%2B4%2BPP2YfBfxH%2BGll8H/E/iTWW8Oad4o0nV7TSrUWkMaw6beW93a6YQluN1kJLWIMjZkdAUaQqxFVPjp%2By1B%2B0Frlsnjb43%2BNbfwks1jNqfw90w6ZHpWqyWtytzGZ5WsmvgGkSPekV1GjrGFK4Zw4B6pRRRQB4v/wUF%2BLvxw/Z%2B/ZH8afHr4BXvhSPWPBOhXeuXUHjDRbm%2Btru0tbaWZ7dEtrq2ZJXZEUSFyqAsSj8Crv7YPxP8XeBPB3hrwL8PdM0G4174j%2BMrXwppsvirTZL3TLVZ4Z7i5mubaOWFrlFtLW5xCJY/McopdQSRqftY/s42X7WnwI179n3Wvir4p8I6T4nspbHXL/wgunfa7mylieKa23X9pdRojq/LIiyAqNrrznO8b/srSfEr4dWfgjx5%2B0F461HU9J1PTtU0DxiYtHg1PSdSsySt5CINOS2Z5AzrIksEkLJI6eWFYqQDwST9u79q3xlof8Awhnwz0bwBbeNvCeheOtS8cXOs6RezabqT%2BHNYGlR21lHHdpJaC%2BbdOJpJLj7IoCGO5J3D62%2BF/j3TPip8NPDvxP0S2lhsvEmhWmqWkM%2BN6RXEKSorY7gOAfevEPEP/BNL4T6x4F0nwfo3xc%2BIGg3lnpviHTtd8T6LqViupeJLTXbtb3WIr15bN4wbm6UTeZbRwSwNkW7wKSp%2BgtD0TSPDOiWfhvw/p8VpYafax21laQLtSGGNQqIo7AKAAPQUAWq5r4xSfE2H4ZaxP8ABzWtB07xLFa79MvfE2lTX1jEVYFzLBBPbySjyw%2BFWWP5iuWxmulrC%2BJng7VPiD4D1PwXo3xB1nwrcajb%2BSniDw/DZyXlmCQWaJb23uLckgFT5kLjDHABwQAcF8BPij8YP2hv2I/h/wDGvw/c%2BGtH8a%2BOPhxomuNLeaVcXGl2d5eWUFxKfsy3CTSRKZH2x%2BerEBQZOrV4Be/tmftRaD8HNPXwHpHhW6g0f453fgTUPHng74Na7r%2BjyaFZ6JdXL6jaaJpt611GsWowppLkXMsSSwStnaVC%2BxeEv2Gp/Bn7JafseaT%2B1v8AFddBtfBCeFdK1%2BGfRLbWNNsY0SKJ4Li20uNVmSBBCspQnaS5zLiUaPg/9kbxN8PfghpPwN8A/tefEbRLXQrhF0nV9L0TwrDcWtglusEempCuifY1tk2h1It/ODHHm7MIAD0L4O%2BN9N%2BJXwn8NfEDSPHGkeJrfWdDtbtPEPh%2B0a3sdSLxKxuIInllaGNySyxtJIyAhWdiCT0lcv8ABX4Q%2BDfgH8KdB%2BDnw/iuV0jw9p6Wlm19ctNPKBktLLI3LyOxZ2buzE4HSuooAK8X/Y5%2BLvxw%2BJV18UvB3x%2BvfCl3rPw/%2BJjeHra%2B8H6Lc2FrcWraNpWpIWiubq5cyK2oPGXDhXEasETJFe0V4v8AAn9jzWPgT408X%2BNbT9rL4leI5PHHiuHxBr1j4htPDoge7S1t7MhPsmkQOkb29pbRMA%2BcQhlKuzswB4Z4I/b/APir4N%2BG/wAYviJ8XoPDVt4u8NaX4g1jRPhg3wo1rwzfX8dlfvp9leNqV/dSRatbyRrp6yXNrDsi%2B0xcgbEPvP7Mnxc%2BMfiPx94/%2BBfx/u/DOoeJvAt1pky654Q0e406x1Cxv7TzYm%2BzXFzcvDKksVzEw85wyxxyDZvMaZmufsEeBviJqviDVfj18YPHPxDOueCdX8JWkHiSfTrZNF0nU5IHvYbT%2BzbK1PmObS0xPMZZk%2BzJtdSXLdj8AP2c9K%2BAx8Q6xcfEjxN408ReK9Rhu/EHizxhJZm%2Bu/Ito7aCLbZW1tbxxRxRgKscS5Z5Hbc8jswB6JRRRQB4v8Ffi78cNa/a4%2BLPwF%2BKl74UutH8MaF4e1zwhP4f0W5tbmK01K51mH7PePNdTLcSoumRN5kaQLmVxsOAa5/xJ8RP2lvCv7fngv4QaZ4q%2BHOq%2BHPF2kaxrHiGzg%2BH15b6zpeg6ciRW%2B/Uf7VeKWQ6hqNuqq1oqsjXRVVKk10Gi/seaxoH7RfjD9pLTv2sviUNQ8Z6VZaZe6E9p4dOn2dpZz3U1pFAP7I88eUb26UNJNIzLMd5cqhXtNL%2BBfhXS/jh4l/aBTVtTm1/xJ4Y03QG8%2BaMw6dZWUt3Mi2yiMFGeW9leRmL7ykQ4EagAHjv/BOH9qf4u/tH%2BBfO/aL8T6JZeO/%2BEZ0jVdZ%2BHlv8J9b8KX3hxrqOUyLIur3cz6jAZUeKO6gSOItbS8uThPpavLvg3%2By/bfC34i6p8X/Fvxp8ZfEHxTqWiW%2BjJrfjI6bG9np8Mskwt4YtNsrSBQ0srO7tG0jEIC%2B1FUeo0AFeD/ta/Gb9oL4DeJPC/i7wZ4g8EXvh7WvF2heHbbwLfeHLyTXNcub2%2BWG5a0vY71YoTBatJdbGtJh5dpMzvGgLx%2B8V4z8Sf2OV%2BIn7TuiftTW/7R3xA0LVfD%2BhjStM0DTIdEuNLggebzblo0vtMuJoZbkCOOaWKVHaOGNFZAOQDhf22P2ofjN8LfGXiCz%2BDXhzwddJ8J/hTdfErxMPFmlT3M2owq11DFp9hJFcQixnlhtdQU3bidU3Rr5Lq7kVY/22fjFqHxrOvaVp3hc/CuL4vWHw6exl0u5/tyW5u9Mt7hdUW5%2B0%2BSkS3l1FbG1NuWMavN54OIa7j46fsI%2BCv2g2im8bfGDxxbTXfhe78MeL59IuNOgbxXoVzMJZNMvh9iKrF99Fkthbzok0oWUeY5Nqf9hz4aTfHr/hd6%2BNfFEVo3imHxRP4CiubQaHNr0OnLp0Wpsn2b7SJVtkjAiFwLfzIkmMJlHmUAe0UUUUAFFFFABRRRQAUUUUAFFFFABRRRQAUUUUAFFFFABRRRQAUUUUAFFFFABRRRQAUUUUAFFFFABRRRQAUUUUAFFFFABRRRQAUUUUAFFFFABRRRQAUUUUAFFFFABRRRQAUUUUAFFFFABRRRQAUUUUAFFFFAH/2Q%3D%3D\">"
      ]
     },
     "metadata": {},
     "output_type": "display_data"
    },
    {
     "ename": "KeyboardInterrupt",
     "evalue": "",
     "output_type": "error",
     "traceback": [
      "\u001b[0;31m---------------------------------------------------------------------------\u001b[0m",
      "\u001b[0;31mRuntimeError\u001b[0m                              Traceback (most recent call last)",
      "\u001b[0;32m<ipython-input-32-428d12fdc8a1>\u001b[0m in \u001b[0;36m<module>\u001b[0;34m()\u001b[0m\n\u001b[1;32m      1\u001b[0m \u001b[0;32mtry\u001b[0m\u001b[0;34m:\u001b[0m\u001b[0;34m\u001b[0m\u001b[0m\n\u001b[0;32m----> 2\u001b[0;31m     \u001b[0mHTML\u001b[0m\u001b[0;34m(\u001b[0m\u001b[0manim\u001b[0m\u001b[0;34m.\u001b[0m\u001b[0mto_html5_video\u001b[0m\u001b[0;34m(\u001b[0m\u001b[0;34m)\u001b[0m\u001b[0;34m)\u001b[0m\u001b[0;34m\u001b[0m\u001b[0m\n\u001b[0m\u001b[1;32m      3\u001b[0m \u001b[0;31m# In case the build-in renderers are unaviable, fall back to\u001b[0m\u001b[0;34m\u001b[0m\u001b[0;34m\u001b[0m\u001b[0m\n",
      "\u001b[0;32m/opt/conda/lib/python3.6/site-packages/matplotlib/animation.py\u001b[0m in \u001b[0;36mto_html5_video\u001b[0;34m(self)\u001b[0m\n\u001b[1;32m   1154\u001b[0m                 \u001b[0;31m# appropriate size for the tag\u001b[0m\u001b[0;34m\u001b[0m\u001b[0;34m\u001b[0m\u001b[0m\n\u001b[0;32m-> 1155\u001b[0;31m                 \u001b[0mWriter\u001b[0m \u001b[0;34m=\u001b[0m \u001b[0mwriters\u001b[0m\u001b[0;34m[\u001b[0m\u001b[0mrcParams\u001b[0m\u001b[0;34m[\u001b[0m\u001b[0;34m'animation.writer'\u001b[0m\u001b[0;34m]\u001b[0m\u001b[0;34m]\u001b[0m\u001b[0;34m\u001b[0m\u001b[0m\n\u001b[0m\u001b[1;32m   1156\u001b[0m                 writer = Writer(codec='h264',\n",
      "\u001b[0;32m/opt/conda/lib/python3.6/site-packages/matplotlib/animation.py\u001b[0m in \u001b[0;36m__getitem__\u001b[0;34m(self, name)\u001b[0m\n\u001b[1;32m    128\u001b[0m         \u001b[0;32mif\u001b[0m \u001b[0;32mnot\u001b[0m \u001b[0mself\u001b[0m\u001b[0;34m.\u001b[0m\u001b[0mavail\u001b[0m\u001b[0;34m:\u001b[0m\u001b[0;34m\u001b[0m\u001b[0m\n\u001b[0;32m--> 129\u001b[0;31m             \u001b[0;32mraise\u001b[0m \u001b[0mRuntimeError\u001b[0m\u001b[0;34m(\u001b[0m\u001b[0;34m\"No MovieWriters available!\"\u001b[0m\u001b[0;34m)\u001b[0m\u001b[0;34m\u001b[0m\u001b[0m\n\u001b[0m\u001b[1;32m    130\u001b[0m         \u001b[0;32mreturn\u001b[0m \u001b[0mself\u001b[0m\u001b[0;34m.\u001b[0m\u001b[0mavail\u001b[0m\u001b[0;34m[\u001b[0m\u001b[0mname\u001b[0m\u001b[0;34m]\u001b[0m\u001b[0;34m\u001b[0m\u001b[0m\n",
      "\u001b[0;31mRuntimeError\u001b[0m: No MovieWriters available!",
      "\nDuring handling of the above exception, another exception occurred:\n",
      "\u001b[0;31mKeyboardInterrupt\u001b[0m                         Traceback (most recent call last)",
      "\u001b[0;32m<ipython-input-32-428d12fdc8a1>\u001b[0m in \u001b[0;36m<module>\u001b[0;34m()\u001b[0m\n\u001b[1;32m      4\u001b[0m \u001b[0;31m# a custom one, that doesn't require external libraries\u001b[0m\u001b[0;34m\u001b[0m\u001b[0;34m\u001b[0m\u001b[0m\n\u001b[1;32m      5\u001b[0m \u001b[0;32mexcept\u001b[0m \u001b[0mRuntimeError\u001b[0m\u001b[0;34m:\u001b[0m\u001b[0;34m\u001b[0m\u001b[0m\n\u001b[0;32m----> 6\u001b[0;31m     \u001b[0manim\u001b[0m\u001b[0;34m.\u001b[0m\u001b[0msave\u001b[0m\u001b[0;34m(\u001b[0m\u001b[0;32mNone\u001b[0m\u001b[0;34m,\u001b[0m \u001b[0mwriter\u001b[0m\u001b[0;34m=\u001b[0m\u001b[0mmatplotlib_utils\u001b[0m\u001b[0;34m.\u001b[0m\u001b[0mSimpleMovieWriter\u001b[0m\u001b[0;34m(\u001b[0m\u001b[0;36m0.001\u001b[0m\u001b[0;34m)\u001b[0m\u001b[0;34m)\u001b[0m\u001b[0;34m\u001b[0m\u001b[0m\n\u001b[0m",
      "\u001b[0;32m/opt/conda/lib/python3.6/site-packages/matplotlib/animation.py\u001b[0m in \u001b[0;36msave\u001b[0;34m(self, filename, writer, fps, dpi, codec, bitrate, extra_args, metadata, extra_anim, savefig_kwargs)\u001b[0m\n\u001b[1;32m   1011\u001b[0m                         \u001b[0;31m# TODO: See if turning off blit is really necessary\u001b[0m\u001b[0;34m\u001b[0m\u001b[0;34m\u001b[0m\u001b[0m\n\u001b[1;32m   1012\u001b[0m                         \u001b[0manim\u001b[0m\u001b[0;34m.\u001b[0m\u001b[0m_draw_next_frame\u001b[0m\u001b[0;34m(\u001b[0m\u001b[0md\u001b[0m\u001b[0;34m,\u001b[0m \u001b[0mblit\u001b[0m\u001b[0;34m=\u001b[0m\u001b[0;32mFalse\u001b[0m\u001b[0;34m)\u001b[0m\u001b[0;34m\u001b[0m\u001b[0m\n\u001b[0;32m-> 1013\u001b[0;31m                     \u001b[0mwriter\u001b[0m\u001b[0;34m.\u001b[0m\u001b[0mgrab_frame\u001b[0m\u001b[0;34m(\u001b[0m\u001b[0;34m**\u001b[0m\u001b[0msavefig_kwargs\u001b[0m\u001b[0;34m)\u001b[0m\u001b[0;34m\u001b[0m\u001b[0m\n\u001b[0m\u001b[1;32m   1014\u001b[0m \u001b[0;34m\u001b[0m\u001b[0m\n\u001b[1;32m   1015\u001b[0m         \u001b[0;31m# Reconnect signal for first draw if necessary\u001b[0m\u001b[0;34m\u001b[0m\u001b[0;34m\u001b[0m\u001b[0m\n",
      "\u001b[0;32m/home/jovyan/work/week2/matplotlib_utils.py\u001b[0m in \u001b[0;36mgrab_frame\u001b[0;34m(self, **kwargs)\u001b[0m\n\u001b[1;32m     27\u001b[0m         \u001b[0muri\u001b[0m \u001b[0;34m=\u001b[0m \u001b[0;34m'data:image/jpeg;base64,'\u001b[0m \u001b[0;34m+\u001b[0m \u001b[0murllib\u001b[0m\u001b[0;34m.\u001b[0m\u001b[0mrequest\u001b[0m\u001b[0;34m.\u001b[0m\u001b[0mquote\u001b[0m\u001b[0;34m(\u001b[0m\u001b[0mbase64\u001b[0m\u001b[0;34m.\u001b[0m\u001b[0mb64encode\u001b[0m\u001b[0;34m(\u001b[0m\u001b[0mimg_data\u001b[0m\u001b[0;34m.\u001b[0m\u001b[0mgetbuffer\u001b[0m\u001b[0;34m(\u001b[0m\u001b[0;34m)\u001b[0m\u001b[0;34m)\u001b[0m\u001b[0;34m)\u001b[0m\u001b[0;34m\u001b[0m\u001b[0m\n\u001b[1;32m     28\u001b[0m         \u001b[0mimg_data\u001b[0m\u001b[0;34m.\u001b[0m\u001b[0mclose\u001b[0m\u001b[0;34m(\u001b[0m\u001b[0;34m)\u001b[0m\u001b[0;34m\u001b[0m\u001b[0m\n\u001b[0;32m---> 29\u001b[0;31m         \u001b[0mclear_output\u001b[0m\u001b[0;34m(\u001b[0m\u001b[0mwait\u001b[0m\u001b[0;34m=\u001b[0m\u001b[0;32mTrue\u001b[0m\u001b[0;34m)\u001b[0m\u001b[0;34m\u001b[0m\u001b[0m\n\u001b[0m\u001b[1;32m     30\u001b[0m         \u001b[0mdisplay_html\u001b[0m\u001b[0;34m(\u001b[0m\u001b[0mHTML\u001b[0m\u001b[0;34m(\u001b[0m\u001b[0;34m'<img src=\"'\u001b[0m \u001b[0;34m+\u001b[0m \u001b[0muri\u001b[0m \u001b[0;34m+\u001b[0m \u001b[0;34m'\">'\u001b[0m\u001b[0;34m)\u001b[0m\u001b[0;34m)\u001b[0m\u001b[0;34m\u001b[0m\u001b[0m\n\u001b[1;32m     31\u001b[0m         \u001b[0mtime\u001b[0m\u001b[0;34m.\u001b[0m\u001b[0msleep\u001b[0m\u001b[0;34m(\u001b[0m\u001b[0mself\u001b[0m\u001b[0;34m.\u001b[0m\u001b[0msleep\u001b[0m\u001b[0;34m)\u001b[0m\u001b[0;34m\u001b[0m\u001b[0m\n",
      "\u001b[0;32m/opt/conda/lib/python3.6/site-packages/IPython/core/display.py\u001b[0m in \u001b[0;36mclear_output\u001b[0;34m(wait)\u001b[0m\n\u001b[1;32m    938\u001b[0m     \u001b[0;32mfrom\u001b[0m \u001b[0mIPython\u001b[0m\u001b[0;34m.\u001b[0m\u001b[0mcore\u001b[0m\u001b[0;34m.\u001b[0m\u001b[0minteractiveshell\u001b[0m \u001b[0;32mimport\u001b[0m \u001b[0mInteractiveShell\u001b[0m\u001b[0;34m\u001b[0m\u001b[0m\n\u001b[1;32m    939\u001b[0m     \u001b[0;32mif\u001b[0m \u001b[0mInteractiveShell\u001b[0m\u001b[0;34m.\u001b[0m\u001b[0minitialized\u001b[0m\u001b[0;34m(\u001b[0m\u001b[0;34m)\u001b[0m\u001b[0;34m:\u001b[0m\u001b[0;34m\u001b[0m\u001b[0m\n\u001b[0;32m--> 940\u001b[0;31m         \u001b[0mInteractiveShell\u001b[0m\u001b[0;34m.\u001b[0m\u001b[0minstance\u001b[0m\u001b[0;34m(\u001b[0m\u001b[0;34m)\u001b[0m\u001b[0;34m.\u001b[0m\u001b[0mdisplay_pub\u001b[0m\u001b[0;34m.\u001b[0m\u001b[0mclear_output\u001b[0m\u001b[0;34m(\u001b[0m\u001b[0mwait\u001b[0m\u001b[0;34m)\u001b[0m\u001b[0;34m\u001b[0m\u001b[0m\n\u001b[0m\u001b[1;32m    941\u001b[0m     \u001b[0;32melse\u001b[0m\u001b[0;34m:\u001b[0m\u001b[0;34m\u001b[0m\u001b[0m\n\u001b[1;32m    942\u001b[0m         \u001b[0mprint\u001b[0m\u001b[0;34m(\u001b[0m\u001b[0;34m'\\033[2K\\r'\u001b[0m\u001b[0;34m,\u001b[0m \u001b[0mend\u001b[0m\u001b[0;34m=\u001b[0m\u001b[0;34m''\u001b[0m\u001b[0;34m)\u001b[0m\u001b[0;34m\u001b[0m\u001b[0m\n",
      "\u001b[0;32m/opt/conda/lib/python3.6/site-packages/ipykernel/zmqshell.py\u001b[0m in \u001b[0;36mclear_output\u001b[0;34m(self, wait)\u001b[0m\n\u001b[1;32m    123\u001b[0m     \u001b[0;32mdef\u001b[0m \u001b[0mclear_output\u001b[0m\u001b[0;34m(\u001b[0m\u001b[0mself\u001b[0m\u001b[0;34m,\u001b[0m \u001b[0mwait\u001b[0m\u001b[0;34m=\u001b[0m\u001b[0;32mFalse\u001b[0m\u001b[0;34m)\u001b[0m\u001b[0;34m:\u001b[0m\u001b[0;34m\u001b[0m\u001b[0m\n\u001b[1;32m    124\u001b[0m         \u001b[0mcontent\u001b[0m \u001b[0;34m=\u001b[0m \u001b[0mdict\u001b[0m\u001b[0;34m(\u001b[0m\u001b[0mwait\u001b[0m\u001b[0;34m=\u001b[0m\u001b[0mwait\u001b[0m\u001b[0;34m)\u001b[0m\u001b[0;34m\u001b[0m\u001b[0m\n\u001b[0;32m--> 125\u001b[0;31m         \u001b[0mself\u001b[0m\u001b[0;34m.\u001b[0m\u001b[0m_flush_streams\u001b[0m\u001b[0;34m(\u001b[0m\u001b[0;34m)\u001b[0m\u001b[0;34m\u001b[0m\u001b[0m\n\u001b[0m\u001b[1;32m    126\u001b[0m         self.session.send(\n\u001b[1;32m    127\u001b[0m             \u001b[0mself\u001b[0m\u001b[0;34m.\u001b[0m\u001b[0mpub_socket\u001b[0m\u001b[0;34m,\u001b[0m \u001b[0;34mu'clear_output'\u001b[0m\u001b[0;34m,\u001b[0m \u001b[0mcontent\u001b[0m\u001b[0;34m,\u001b[0m\u001b[0;34m\u001b[0m\u001b[0m\n",
      "\u001b[0;32m/opt/conda/lib/python3.6/site-packages/ipykernel/zmqshell.py\u001b[0m in \u001b[0;36m_flush_streams\u001b[0;34m(self)\u001b[0m\n\u001b[1;32m     78\u001b[0m         \u001b[0;34m\"\"\"flush IO Streams prior to display\"\"\"\u001b[0m\u001b[0;34m\u001b[0m\u001b[0m\n\u001b[1;32m     79\u001b[0m         \u001b[0msys\u001b[0m\u001b[0;34m.\u001b[0m\u001b[0mstdout\u001b[0m\u001b[0;34m.\u001b[0m\u001b[0mflush\u001b[0m\u001b[0;34m(\u001b[0m\u001b[0;34m)\u001b[0m\u001b[0;34m\u001b[0m\u001b[0m\n\u001b[0;32m---> 80\u001b[0;31m         \u001b[0msys\u001b[0m\u001b[0;34m.\u001b[0m\u001b[0mstderr\u001b[0m\u001b[0;34m.\u001b[0m\u001b[0mflush\u001b[0m\u001b[0;34m(\u001b[0m\u001b[0;34m)\u001b[0m\u001b[0;34m\u001b[0m\u001b[0m\n\u001b[0m\u001b[1;32m     81\u001b[0m \u001b[0;34m\u001b[0m\u001b[0m\n\u001b[1;32m     82\u001b[0m     \u001b[0;34m@\u001b[0m\u001b[0mdefault\u001b[0m\u001b[0;34m(\u001b[0m\u001b[0;34m'_thread_local'\u001b[0m\u001b[0;34m)\u001b[0m\u001b[0;34m\u001b[0m\u001b[0m\n",
      "\u001b[0;32m/opt/conda/lib/python3.6/site-packages/ipykernel/iostream.py\u001b[0m in \u001b[0;36mflush\u001b[0;34m(self)\u001b[0m\n\u001b[1;32m    320\u001b[0m             \u001b[0mevt\u001b[0m \u001b[0;34m=\u001b[0m \u001b[0mthreading\u001b[0m\u001b[0;34m.\u001b[0m\u001b[0mEvent\u001b[0m\u001b[0;34m(\u001b[0m\u001b[0;34m)\u001b[0m\u001b[0;34m\u001b[0m\u001b[0m\n\u001b[1;32m    321\u001b[0m             \u001b[0mself\u001b[0m\u001b[0;34m.\u001b[0m\u001b[0mpub_thread\u001b[0m\u001b[0;34m.\u001b[0m\u001b[0mschedule\u001b[0m\u001b[0;34m(\u001b[0m\u001b[0mevt\u001b[0m\u001b[0;34m.\u001b[0m\u001b[0mset\u001b[0m\u001b[0;34m)\u001b[0m\u001b[0;34m\u001b[0m\u001b[0m\n\u001b[0;32m--> 322\u001b[0;31m             \u001b[0mevt\u001b[0m\u001b[0;34m.\u001b[0m\u001b[0mwait\u001b[0m\u001b[0;34m(\u001b[0m\u001b[0;34m)\u001b[0m\u001b[0;34m\u001b[0m\u001b[0m\n\u001b[0m\u001b[1;32m    323\u001b[0m         \u001b[0;32melse\u001b[0m\u001b[0;34m:\u001b[0m\u001b[0;34m\u001b[0m\u001b[0m\n\u001b[1;32m    324\u001b[0m             \u001b[0mself\u001b[0m\u001b[0;34m.\u001b[0m\u001b[0m_flush\u001b[0m\u001b[0;34m(\u001b[0m\u001b[0;34m)\u001b[0m\u001b[0;34m\u001b[0m\u001b[0m\n",
      "\u001b[0;32m/opt/conda/lib/python3.6/threading.py\u001b[0m in \u001b[0;36mwait\u001b[0;34m(self, timeout)\u001b[0m\n\u001b[1;32m    549\u001b[0m             \u001b[0msignaled\u001b[0m \u001b[0;34m=\u001b[0m \u001b[0mself\u001b[0m\u001b[0;34m.\u001b[0m\u001b[0m_flag\u001b[0m\u001b[0;34m\u001b[0m\u001b[0m\n\u001b[1;32m    550\u001b[0m             \u001b[0;32mif\u001b[0m \u001b[0;32mnot\u001b[0m \u001b[0msignaled\u001b[0m\u001b[0;34m:\u001b[0m\u001b[0;34m\u001b[0m\u001b[0m\n\u001b[0;32m--> 551\u001b[0;31m                 \u001b[0msignaled\u001b[0m \u001b[0;34m=\u001b[0m \u001b[0mself\u001b[0m\u001b[0;34m.\u001b[0m\u001b[0m_cond\u001b[0m\u001b[0;34m.\u001b[0m\u001b[0mwait\u001b[0m\u001b[0;34m(\u001b[0m\u001b[0mtimeout\u001b[0m\u001b[0;34m)\u001b[0m\u001b[0;34m\u001b[0m\u001b[0m\n\u001b[0m\u001b[1;32m    552\u001b[0m             \u001b[0;32mreturn\u001b[0m \u001b[0msignaled\u001b[0m\u001b[0;34m\u001b[0m\u001b[0m\n\u001b[1;32m    553\u001b[0m \u001b[0;34m\u001b[0m\u001b[0m\n",
      "\u001b[0;32m/opt/conda/lib/python3.6/threading.py\u001b[0m in \u001b[0;36mwait\u001b[0;34m(self, timeout)\u001b[0m\n\u001b[1;32m    293\u001b[0m         \u001b[0;32mtry\u001b[0m\u001b[0;34m:\u001b[0m    \u001b[0;31m# restore state no matter what (e.g., KeyboardInterrupt)\u001b[0m\u001b[0;34m\u001b[0m\u001b[0m\n\u001b[1;32m    294\u001b[0m             \u001b[0;32mif\u001b[0m \u001b[0mtimeout\u001b[0m \u001b[0;32mis\u001b[0m \u001b[0;32mNone\u001b[0m\u001b[0;34m:\u001b[0m\u001b[0;34m\u001b[0m\u001b[0m\n\u001b[0;32m--> 295\u001b[0;31m                 \u001b[0mwaiter\u001b[0m\u001b[0;34m.\u001b[0m\u001b[0macquire\u001b[0m\u001b[0;34m(\u001b[0m\u001b[0;34m)\u001b[0m\u001b[0;34m\u001b[0m\u001b[0m\n\u001b[0m\u001b[1;32m    296\u001b[0m                 \u001b[0mgotit\u001b[0m \u001b[0;34m=\u001b[0m \u001b[0;32mTrue\u001b[0m\u001b[0;34m\u001b[0m\u001b[0m\n\u001b[1;32m    297\u001b[0m             \u001b[0;32melse\u001b[0m\u001b[0;34m:\u001b[0m\u001b[0;34m\u001b[0m\u001b[0m\n",
      "\u001b[0;31mKeyboardInterrupt\u001b[0m: "
     ]
    }
   ],
   "source": [
    "try:\n",
    "    HTML(anim.to_html5_video())\n",
    "# In case the build-in renderers are unaviable, fall back to\n",
    "# a custom one, that doesn't require external libraries\n",
    "except RuntimeError:\n",
    "    anim.save(None, writer=matplotlib_utils.SimpleMovieWriter(0.001))"
   ]
  },
  {
   "cell_type": "markdown",
   "metadata": {},
   "source": [
    "# Logistic regression\n",
    "Your assignment is to implement the logistic regression\n",
    "\n",
    "Plan:\n",
    "* Use a shared variable for weights\n",
    "* Use a matrix placeholder for `X`\n",
    " \n",
    "We shall train on a two-class MNIST dataset\n",
    "* please note that target `y` are `{0,1}` and not `{-1,1}` as in some formulae"
   ]
  },
  {
   "cell_type": "code",
   "execution_count": 33,
   "metadata": {},
   "outputs": [
    {
     "name": "stdout",
     "output_type": "stream",
     "text": [
      "y [shape - (360,)]: [0 1 0 1 0 1 0 0 1 1]\n",
      "X [shape - (360, 64)]:\n"
     ]
    }
   ],
   "source": [
    "from sklearn.datasets import load_digits\n",
    "mnist = load_digits(2)\n",
    "\n",
    "X, y = mnist.data, mnist.target\n",
    "\n",
    "print(\"y [shape - %s]:\" % (str(y.shape)), y[:10])\n",
    "print(\"X [shape - %s]:\" % (str(X.shape)))"
   ]
  },
  {
   "cell_type": "code",
   "execution_count": 34,
   "metadata": {},
   "outputs": [
    {
     "name": "stdout",
     "output_type": "stream",
     "text": [
      "X:\n",
      " [[  0.   0.   5.  13.   9.   1.   0.   0.   0.   0.]\n",
      " [  0.   0.   0.  12.  13.   5.   0.   0.   0.   0.]\n",
      " [  0.   0.   1.   9.  15.  11.   0.   0.   0.   0.]]\n",
      "y:\n",
      " [0 1 0 1 0 1 0 0 1 1]\n"
     ]
    }
   ],
   "source": [
    "print('X:\\n',X[:3,:10])\n",
    "print('y:\\n',y[:10])\n",
    "plt.imshow(X[0].reshape([8,8]));"
   ]
  },
  {
   "cell_type": "markdown",
   "metadata": {},
   "source": [
    "It's your turn now!\n",
    "Just a small reminder of the relevant math:\n",
    "\n",
    "$$\n",
    "P(y=1|X) = \\sigma(X \\cdot W + b)\n",
    "$$\n",
    "$$\n",
    "\\text{loss} = -\\log\\left(P\\left(y_\\text{predicted} = 1\\right)\\right)\\cdot y_\\text{true} - \\log\\left(1 - P\\left(y_\\text{predicted} = 1\\right)\\right)\\cdot\\left(1 - y_\\text{true}\\right)\n",
    "$$\n",
    "\n",
    "$\\sigma(x)$ is available via `tf.nn.sigmoid` and matrix multiplication via `tf.matmul`"
   ]
  },
  {
   "cell_type": "code",
   "execution_count": 35,
   "metadata": {},
   "outputs": [],
   "source": [
    "from sklearn.model_selection import train_test_split\n",
    "X_train, X_test, y_train, y_test = train_test_split(\n",
    "    X, y, random_state=42)"
   ]
  },
  {
   "cell_type": "markdown",
   "metadata": {},
   "source": [
    "__Your code goes here.__ For the training and testing scaffolding to work, please stick to the names in comments."
   ]
  },
  {
   "cell_type": "code",
   "execution_count": 85,
   "metadata": {},
   "outputs": [],
   "source": [
    "# Model parameters - weights and bias\n",
    "weights = tf.Variable(np.zeros((X.shape[1], 1)), dtype=\"float32\") \n",
    "b = tf.Variable(1, dtype=\"float32\")"
   ]
  },
  {
   "cell_type": "code",
   "execution_count": 86,
   "metadata": {
    "collapsed": true
   },
   "outputs": [],
   "source": [
    "# Placeholders for the input data\n",
    "input_X = tf.placeholder(\"float32\", name=\"input_X\")\n",
    "input_y = tf.placeholder(\"float32\", name=\"input_y\")"
   ]
  },
  {
   "cell_type": "code",
   "execution_count": 132,
   "metadata": {},
   "outputs": [
    {
     "name": "stdout",
     "output_type": "stream",
     "text": [
      "name: \"GradientDescent_6\"\n",
      "op: \"NoOp\"\n",
      "input: \"^GradientDescent_6/update_Variable_26/ApplyGradientDescent\"\n",
      "input: \"^GradientDescent_6/update_Variable_27/ApplyGradientDescent\"\n",
      "\n"
     ]
    }
   ],
   "source": [
    "# The model code\n",
    "\n",
    "# Compute a vector of predictions, resulting shape should be [input_X.shape[0],]\n",
    "# This is 1D, if you have extra dimensions, you can  get rid of them with tf.squeeze .\n",
    "# Don't forget the sigmoid.\n",
    "# predicted_y = <predicted probabilities for input_X>\n",
    "predicted_y = tf.squeeze(tf.nn.sigmoid(tf.add(tf.matmul(input_X,weights), b)))\n",
    "# Loss. Should be a scalar number - average loss over all the objects)\n",
    "# tf.reduce_mean is your friend here\n",
    "# loss = <logistic loss (scalar, mean over sample)>\n",
    "loss = tf.reduce_mean(-input_y*tf.log(predicted_y) - (1-input_y)*tf.log(1-predicted_y))\n",
    "# See above for an example. tf.train.*Optimizer\n",
    "# optimizer = <optimizer that minimizes loss>\n",
    "optimizer = tf.train.GradientDescentOptimizer(0.01).minimize(loss)\n",
    "print(optimizer)"
   ]
  },
  {
   "cell_type": "markdown",
   "metadata": {},
   "source": [
    "A test to help with the debugging"
   ]
  },
  {
   "cell_type": "code",
   "execution_count": 133,
   "metadata": {},
   "outputs": [],
   "source": [
    "validation_weights = 1e-3 * np.fromiter(map(lambda x:\n",
    "        s.run(weird_psychotic_function, {my_scalar:x, my_vector:[1, 0.1, 2]}),\n",
    "                                   0.15 * np.arange(1, X.shape[1] + 1)),\n",
    "                                   count=X.shape[1], dtype=np.float32)[:, np.newaxis]\n",
    "# Compute predictions for given weights and bias\n",
    "prediction_validation = s.run(\n",
    "    predicted_y, {\n",
    "    input_X: X,\n",
    "    weights: validation_weights,\n",
    "    b: 1e-1})\n",
    "\n",
    "# Load the reference values for the predictions\n",
    "validation_true_values = np.loadtxt(\"validation_predictons.txt\")\n",
    "\n",
    "assert prediction_validation.shape == (X.shape[0],),\\\n",
    "       \"Predictions must be a 1D array with length equal to the number \" \\\n",
    "       \"of examples in input_X\"\n",
    "assert np.allclose(validation_true_values, prediction_validation)\n",
    "loss_validation = s.run(\n",
    "        loss, {\n",
    "            input_X: X[:100],\n",
    "            input_y: y[-100:],\n",
    "            weights: validation_weights+1.21e-3,\n",
    "            b: -1e-1})\n",
    "assert np.allclose(loss_validation, 0.728689)"
   ]
  },
  {
   "cell_type": "code",
   "execution_count": 134,
   "metadata": {},
   "outputs": [
    {
     "name": "stdout",
     "output_type": "stream",
     "text": [
      "loss at iter 0:1.5850\n",
      "train auc: 0.998847167325\n",
      "test auc: 1.0\n",
      "loss at iter 1:1.8786\n",
      "train auc: 0.999094202899\n",
      "test auc: 0.998023715415\n",
      "loss at iter 2:0.3533\n",
      "train auc: 1.0\n",
      "test auc: 1.0\n",
      "loss at iter 3:0.0117\n",
      "train auc: 1.0\n",
      "test auc: 1.0\n",
      "loss at iter 4:0.0109\n",
      "train auc: 1.0\n",
      "test auc: 1.0\n"
     ]
    }
   ],
   "source": [
    "from sklearn.metrics import roc_auc_score\n",
    "s.run(tf.global_variables_initializer())\n",
    "for i in range(5):\n",
    "    s.run(optimizer, {input_X: X_train, input_y: y_train})\n",
    "    loss_i = s.run(loss, {input_X: X_train, input_y: y_train})\n",
    "    print(\"loss at iter %i:%.4f\" % (i, loss_i))\n",
    "    print(\"train auc:\", roc_auc_score(y_train, s.run(predicted_y, {input_X:X_train})))\n",
    "    print(\"test auc:\", roc_auc_score(y_test, s.run(predicted_y, {input_X:X_test})))"
   ]
  },
  {
   "cell_type": "markdown",
   "metadata": {},
   "source": [
    "### Coursera submission"
   ]
  },
  {
   "cell_type": "code",
   "execution_count": 135,
   "metadata": {
    "collapsed": true
   },
   "outputs": [],
   "source": [
    "grade_submitter = grading.Grader(\"BJCiiY8sEeeCnhKCj4fcOA\")"
   ]
  },
  {
   "cell_type": "code",
   "execution_count": 136,
   "metadata": {
    "collapsed": true
   },
   "outputs": [],
   "source": [
    "test_weights = 1e-3 * np.fromiter(map(lambda x:\n",
    "    s.run(weird_psychotic_function, {my_scalar:x, my_vector:[1, 2, 3]}),\n",
    "                               0.1 * np.arange(1, X.shape[1] + 1)),\n",
    "                               count=X.shape[1], dtype=np.float32)[:, np.newaxis]"
   ]
  },
  {
   "cell_type": "markdown",
   "metadata": {},
   "source": [
    "First, test prediction and loss computation. This part doesn't require a fitted model."
   ]
  },
  {
   "cell_type": "code",
   "execution_count": 137,
   "metadata": {
    "collapsed": true
   },
   "outputs": [],
   "source": [
    "prediction_test = s.run(\n",
    "    predicted_y, {\n",
    "    input_X: X,\n",
    "    weights: test_weights,\n",
    "    b: 1e-1})"
   ]
  },
  {
   "cell_type": "code",
   "execution_count": 138,
   "metadata": {
    "collapsed": true
   },
   "outputs": [],
   "source": [
    "assert prediction_test.shape == (X.shape[0],),\\\n",
    "       \"Predictions must be a 1D array with length equal to the number \" \\\n",
    "       \"of examples in X_test\""
   ]
  },
  {
   "cell_type": "code",
   "execution_count": 139,
   "metadata": {
    "collapsed": true
   },
   "outputs": [],
   "source": [
    "grade_submitter.set_answer(\"0ENlN\", prediction_test)"
   ]
  },
  {
   "cell_type": "code",
   "execution_count": 140,
   "metadata": {
    "collapsed": true
   },
   "outputs": [],
   "source": [
    "loss_test = s.run(\n",
    "    loss, {\n",
    "        input_X: X[:100],\n",
    "        input_y: y[-100:],\n",
    "        weights: test_weights+1.21e-3,\n",
    "        b: -1e-1})\n",
    "# Yes, the X/y indices mistmach is intentional"
   ]
  },
  {
   "cell_type": "code",
   "execution_count": 141,
   "metadata": {
    "collapsed": true
   },
   "outputs": [],
   "source": [
    "grade_submitter.set_answer(\"mMVpM\", loss_test)"
   ]
  },
  {
   "cell_type": "code",
   "execution_count": 142,
   "metadata": {},
   "outputs": [],
   "source": [
    "grade_submitter.set_answer(\"D16Rc\", roc_auc_score(y_test, s.run(predicted_y, {input_X:X_test})))"
   ]
  },
  {
   "cell_type": "markdown",
   "metadata": {},
   "source": [
    "Please use the credentials obtained from the Coursera assignment page."
   ]
  },
  {
   "cell_type": "code",
   "execution_count": 143,
   "metadata": {},
   "outputs": [
    {
     "name": "stdout",
     "output_type": "stream",
     "text": [
      "Submitted to Coursera platform. See results on assignment page!\n"
     ]
    }
   ],
   "source": [
    "grade_submitter.submit(\"", \"IFWabF9o5zNNQXnT\")"
   ]
  },
  {
   "cell_type": "code",
   "execution_count": null,
   "metadata": {
    "collapsed": true
   },
   "outputs": [],
   "source": []
  }
 ],
 "metadata": {
  "kernelspec": {
   "display_name": "Python 3",
   "language": "python",
   "name": "python3"
  },
  "language_info": {
   "codemirror_mode": {
    "name": "ipython",
    "version": 3
   },
   "file_extension": ".py",
   "mimetype": "text/x-python",
   "name": "python",
   "nbconvert_exporter": "python",
   "pygments_lexer": "ipython3",
   "version": "3.6.0"
  }
 },
 "nbformat": 4,
 "nbformat_minor": 1
}
