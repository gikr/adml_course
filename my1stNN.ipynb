{
 "cells": [
  {
   "cell_type": "code",
   "execution_count": 2,
   "metadata": {},
   "outputs": [
    {
     "name": "stderr",
     "output_type": "stream",
     "text": [
      "Using TensorFlow backend.\n"
     ]
    },
    {
     "name": "stdout",
     "output_type": "stream",
     "text": [
      "Downloading data from https://s3.amazonaws.com/img-datasets/mnist.npz\n",
      "10952704/11490434 [===========================>..] - ETA: 0s(50000, 28, 28) (50000,)\n"
     ]
    },
    {
     "data": {
      "image/png": "[encoded data removed]",
      "text/plain": [
       "<matplotlib.figure.Figure at 0x7fc2fcc88c50>"
      ]
     },
     "metadata": {},
     "output_type": "display_data"
    }
   ],
   "source": [
    "from preprocessed_mnist import load_dataset\n",
    "X_train, y_train, X_val, y_val, X_test, y_test = load_dataset()\n",
    "print(X_train.shape, y_train.shape)\n",
    "import matplotlib.pyplot as plt\n",
    "%matplotlib inline\n",
    "plt.imshow(X_train[0], cmap=\"Greys\");"
   ]
  },
  {
   "cell_type": "code",
   "execution_count": 3,
   "metadata": {},
   "outputs": [
    {
     "name": "stdout",
     "output_type": "stream",
     "text": [
      "Successfully downloaded train-images-idx3-ubyte.gz 9912422 bytes.\n",
      "Extracting /tmp/data/train-images-idx3-ubyte.gz\n",
      "Successfully downloaded train-labels-idx1-ubyte.gz 28881 bytes.\n",
      "Extracting /tmp/data/train-labels-idx1-ubyte.gz\n",
      "Successfully downloaded t10k-images-idx3-ubyte.gz 1648877 bytes.\n",
      "Extracting /tmp/data/t10k-images-idx3-ubyte.gz\n",
      "Successfully downloaded t10k-labels-idx1-ubyte.gz 4542 bytes.\n",
      "Extracting /tmp/data/t10k-labels-idx1-ubyte.gz\n"
     ]
    }
   ],
   "source": [
    "\n",
    "from __future__ import print_function\n",
    "\n",
    "# Import MNIST data\n",
    "from tensorflow.examples.tutorials.mnist import input_data\n",
    "mnist = input_data.read_data_sets(\"/tmp/data/\", one_hot=True)"
   ]
  },
  {
   "cell_type": "code",
   "execution_count": 5,
   "metadata": {
    "collapsed": true
   },
   "outputs": [],
   "source": [
    "import tensorflow as tf\n"
   ]
  },
  {
   "cell_type": "markdown",
   "metadata": {},
   "source": [
    "\n",
    "\n",
    "Goals:\n",
    "\n",
    "    Code a deep (with at least 1 hidden layer) neural network in tensorflow\n",
    "    Fit it on the train dataset, estimate quality on the test dataset\n",
    "    Plot the train loss and test loss as a function of the training iteration number\n",
    "\n",
    "Long description"
   ]
  },
  {
   "cell_type": "code",
   "execution_count": 6,
   "metadata": {},
   "outputs": [
    {
     "name": "stdout",
     "output_type": "stream",
     "text": [
      "(50000, 28, 28) (10000, 28, 28)\n",
      "(50000,) (10000,)\n"
     ]
    }
   ],
   "source": [
    "import numpy as np\n",
    "print(X_train.shape, X_val.shape)\n",
    "print(y_train.shape, y_val.shape)"
   ]
  },
  {
   "cell_type": "code",
   "execution_count": 7,
   "metadata": {
    "collapsed": true
   },
   "outputs": [],
   "source": [
    "X_train = X_train.reshape(50000, 784)\n",
    "X_val = X_val.reshape(10000, 784)\n",
    "y_train = np.eye(10)[y_train]\n",
    "y_val = np.eye(10)[y_val]"
   ]
  },
  {
   "cell_type": "code",
   "execution_count": null,
   "metadata": {
    "collapsed": true
   },
   "outputs": [],
   "source": []
  },
  {
   "cell_type": "code",
   "execution_count": 8,
   "metadata": {
    "collapsed": true
   },
   "outputs": [],
   "source": [
    "num_input = 784 \n",
    "n_hidden_1 = 200 \n",
    "n_hidden_2 = 300\n",
    "\n",
    "num_classes = 10 \n",
    "\n",
    "X = tf.placeholder(dtype = tf.float32, shape=[None, num_input])\n",
    "Y = tf.placeholder(dtype = tf.float32, shape=[None, num_classes])\n",
    "\n",
    "weights = {\n",
    "    'h1': tf.Variable(tf.random_normal([num_input, n_hidden_1])),\n",
    "    'h2': tf.Variable(tf.random_normal([n_hidden_1, n_hidden_2])),\n",
    "    'out': tf.Variable(tf.random_normal([n_hidden_2, num_classes]))\n",
    "}\n",
    "\n",
    "biases = {\n",
    "    'b1': tf.Variable(tf.random_normal([n_hidden_1])),\n",
    "    'b2': tf.Variable(tf.random_normal([n_hidden_2])),\n",
    "    'out': tf.Variable(tf.random_normal([num_classes]))\n",
    "}"
   ]
  },
  {
   "cell_type": "code",
   "execution_count": 9,
   "metadata": {
    "collapsed": true
   },
   "outputs": [],
   "source": [
    "    #NEURAL NET\n",
    "layer_1 = tf.nn.tanh(tf.add(tf.matmul(X, weights['h1']), biases['b1']))\n",
    "    \n",
    "layer_2 = tf.nn.sigmoid(tf.add(tf.matmul(layer_1, weights['h2']), biases['b2']))\n",
    "\n",
    "out_layer = tf.add(tf.matmul(layer_2, weights['out']), biases['out'])\n",
    "    "
   ]
  },
  {
   "cell_type": "code",
   "execution_count": 16,
   "metadata": {
    "collapsed": true
   },
   "outputs": [],
   "source": [
    "    #PREDICTION\n",
    "prediction = tf.nn.softmax(out_layer)\n",
    "    #COST\n",
    "cost = tf.reduce_mean(tf.nn.softmax_cross_entropy_with_logits(labels=Y, logits=prediction))\n",
    "    #OPTIMIZER\n",
    "starter_learning_rate = 0.003\n",
    "global_step = tf.Variable(0, trainable=False)\n",
    "learning_rate = tf.train.exponential_decay(starter_learning_rate, global_step, 100, 0.965, staircase=True)\n",
    "optimizer = tf.train.AdamOptimizer(learning_rate).minimize(cost)\n",
    "    #VARIABLES\n",
    "train_costs = []\n",
    "val_costs = []\n",
    "hm_epochs = 100\n",
    "batch_size = 128\n",
    "epoch = 0 \n",
    "    #INITIALIZER\n",
    "init = tf.global_variables_initializer()\n",
    "\n",
    "\n",
    "   \n"
   ]
  },
  {
   "cell_type": "code",
   "execution_count": 17,
   "metadata": {},
   "outputs": [
    {
     "name": "stdout",
     "output_type": "stream",
     "text": [
      "Test cost of 1 epochs: 1.67273\n",
      "Test cost of 2 epochs: 1.63728\n",
      "Test cost of 3 epochs: 1.62193\n",
      "Test cost of 4 epochs: 1.6123\n",
      "Test cost of 5 epochs: 1.60768\n",
      "Test cost of 6 epochs: 1.6032\n",
      "Test cost of 7 epochs: 1.60095\n",
      "Test cost of 8 epochs: 1.59531\n",
      "Test cost of 9 epochs: 1.59227\n",
      "Test cost of 10 epochs: 1.58852\n",
      "Test cost of 11 epochs: 1.5888\n",
      "Test cost of 12 epochs: 1.58565\n",
      "Test cost of 13 epochs: 1.58275\n",
      "Test cost of 14 epochs: 1.58046\n",
      "Test cost of 15 epochs: 1.57968\n",
      "Test cost of 16 epochs: 1.57886\n",
      "Test cost of 17 epochs: 1.57674\n",
      "Test cost of 18 epochs: 1.57677\n",
      "Test cost of 19 epochs: 1.57624\n",
      "Test cost of 20 epochs: 1.5747\n",
      "Test cost of 21 epochs: 1.57684\n",
      "Test cost of 22 epochs: 1.57474\n",
      "Test cost of 23 epochs: 1.57281\n",
      "Test cost of 24 epochs: 1.57238\n",
      "Test cost of 25 epochs: 1.5725\n",
      "Test cost of 26 epochs: 1.57129\n",
      "Test cost of 27 epochs: 1.57074\n",
      "Test cost of 28 epochs: 1.57045\n",
      "Test cost of 29 epochs: 1.56932\n",
      "Test cost of 30 epochs: 1.56961\n",
      "Test cost of 31 epochs: 1.5683\n",
      "Test cost of 32 epochs: 1.5677\n",
      "Test cost of 33 epochs: 1.56829\n",
      "Test cost of 34 epochs: 1.56679\n",
      "Test cost of 35 epochs: 1.56718\n",
      "Test cost of 36 epochs: 1.56843\n",
      "Test cost of 37 epochs: 1.56711\n",
      "Test cost of 38 epochs: 1.56625\n",
      "Test cost of 39 epochs: 1.56572\n",
      "Test cost of 40 epochs: 1.56747\n",
      "Test cost of 41 epochs: 1.56592\n",
      "Test cost of 42 epochs: 1.56462\n",
      "Test cost of 43 epochs: 1.56537\n",
      "Test cost of 44 epochs: 1.56437\n",
      "Test cost of 45 epochs: 1.56504\n",
      "Test cost of 46 epochs: 1.56791\n",
      "Test cost of 47 epochs: 1.56461\n",
      "Test cost of 48 epochs: 1.56462\n",
      "Test cost of 49 epochs: 1.56366\n",
      "Test cost of 50 epochs: 1.56336\n",
      "Test cost of 51 epochs: 1.56253\n",
      "Test cost of 52 epochs: 1.56311\n",
      "Test cost of 53 epochs: 1.5636\n",
      "Test cost of 54 epochs: 1.56509\n",
      "Test cost of 55 epochs: 1.56241\n",
      "Test cost of 56 epochs: 1.56257\n",
      "Test cost of 57 epochs: 1.56255\n",
      "Test cost of 58 epochs: 1.56136\n",
      "Test cost of 59 epochs: 1.56198\n",
      "Test cost of 60 epochs: 1.56332\n",
      "Test cost of 61 epochs: 1.56251\n",
      "Test cost of 62 epochs: 1.56061\n",
      "Test cost of 63 epochs: 1.56206\n",
      "Test cost of 64 epochs: 1.56186\n",
      "Test cost of 65 epochs: 1.56079\n",
      "Test cost of 66 epochs: 1.56098\n",
      "Test cost of 67 epochs: 1.56171\n",
      "Test cost of 68 epochs: 1.4914\n",
      "Test cost of 69 epochs: 1.48969\n",
      "Test cost of 70 epochs: 1.48446\n",
      "Test cost of 71 epochs: 1.48234\n",
      "Test cost of 72 epochs: 1.48074\n",
      "Test cost of 73 epochs: 1.48062\n",
      "Test cost of 74 epochs: 1.47723\n",
      "Test cost of 75 epochs: 1.47597\n",
      "Test cost of 76 epochs: 1.4753\n",
      "Test cost of 77 epochs: 1.47867\n",
      "Test cost of 78 epochs: 1.47558\n",
      "Test cost of 79 epochs: 1.47658\n",
      "Test cost of 80 epochs: 1.47492\n",
      "Test cost of 81 epochs: 1.47573\n",
      "Test cost of 82 epochs: 1.47565\n",
      "Test cost of 83 epochs: 1.47451\n",
      "Test cost of 84 epochs: 1.475\n",
      "Test cost of 85 epochs: 1.47348\n",
      "Test cost of 86 epochs: 1.47385\n",
      "Test cost of 87 epochs: 1.47288\n",
      "Test cost of 88 epochs: 1.47218\n",
      "Test cost of 89 epochs: 1.4752\n",
      "Test cost of 90 epochs: 1.47417\n",
      "Test cost of 91 epochs: 1.47211\n",
      "Test cost of 92 epochs: 1.47342\n",
      "Test cost of 93 epochs: 1.47153\n",
      "Test cost of 94 epochs: 1.47278\n",
      "Test cost of 95 epochs: 1.47073\n",
      "Test cost of 96 epochs: 1.47174\n",
      "Test cost of 97 epochs: 1.47246\n",
      "Test cost of 98 epochs: 1.47019\n",
      "Test cost of 99 epochs: 1.47029\n",
      "Test cost of 100 epochs: 1.4717\n"
     ]
    },
    {
     "data": {
      "image/png": "[encoded data removed]",
      "text/plain": [
       "<matplotlib.figure.Figure at 0x7fc2c2ca5f60>"
      ]
     },
     "metadata": {},
     "output_type": "display_data"
    },
    {
     "ename": "ValueError",
     "evalue": "Cannot feed value of shape (10000, 28, 28) for Tensor 'Placeholder:0', which has shape '(?, 784)'",
     "output_type": "error",
     "traceback": [
      "\u001b[0;31m---------------------------------------------------------------------------\u001b[0m",
      "\u001b[0;31mValueError\u001b[0m                                Traceback (most recent call last)",
      "\u001b[0;32m<ipython-input-17-2ea739af5a1c>\u001b[0m in \u001b[0;36m<module>\u001b[0;34m()\u001b[0m\n\u001b[1;32m     22\u001b[0m    \u001b[0maccuracy\u001b[0m \u001b[0;34m=\u001b[0m \u001b[0mtf\u001b[0m\u001b[0;34m.\u001b[0m\u001b[0mreduce_mean\u001b[0m\u001b[0;34m(\u001b[0m\u001b[0mtf\u001b[0m\u001b[0;34m.\u001b[0m\u001b[0mcast\u001b[0m\u001b[0;34m(\u001b[0m\u001b[0mcorrect_prediction\u001b[0m\u001b[0;34m,\u001b[0m \u001b[0;34m\"float\"\u001b[0m\u001b[0;34m)\u001b[0m\u001b[0;34m)\u001b[0m\u001b[0;34m\u001b[0m\u001b[0m\n\u001b[1;32m     23\u001b[0m    \u001b[0mtrain_accuracy\u001b[0m \u001b[0;34m=\u001b[0m \u001b[0maccuracy\u001b[0m\u001b[0;34m.\u001b[0m\u001b[0meval\u001b[0m\u001b[0;34m(\u001b[0m\u001b[0;34m{\u001b[0m\u001b[0mX\u001b[0m\u001b[0;34m:\u001b[0m \u001b[0mX_train\u001b[0m\u001b[0;34m,\u001b[0m \u001b[0mY\u001b[0m\u001b[0;34m:\u001b[0m \u001b[0my_train\u001b[0m\u001b[0;34m}\u001b[0m\u001b[0;34m)\u001b[0m\u001b[0;34m\u001b[0m\u001b[0m\n\u001b[0;32m---> 24\u001b[0;31m    \u001b[0mtest_accuracy\u001b[0m \u001b[0;34m=\u001b[0m \u001b[0maccuracy\u001b[0m\u001b[0;34m.\u001b[0m\u001b[0meval\u001b[0m\u001b[0;34m(\u001b[0m\u001b[0;34m{\u001b[0m\u001b[0mX\u001b[0m\u001b[0;34m:\u001b[0m \u001b[0mX_test\u001b[0m\u001b[0;34m,\u001b[0m \u001b[0mY\u001b[0m\u001b[0;34m:\u001b[0m \u001b[0my_test\u001b[0m\u001b[0;34m}\u001b[0m\u001b[0;34m)\u001b[0m\u001b[0;34m\u001b[0m\u001b[0m\n\u001b[0m\u001b[1;32m     25\u001b[0m    \u001b[0mprint\u001b[0m\u001b[0;34m(\u001b[0m\u001b[0;34m\"Train Accuracy:\"\u001b[0m\u001b[0;34m,\u001b[0m \u001b[0mtrain_accuracy\u001b[0m\u001b[0;34m)\u001b[0m\u001b[0;34m\u001b[0m\u001b[0m\n\u001b[1;32m     26\u001b[0m    \u001b[0mprint\u001b[0m\u001b[0;34m(\u001b[0m\u001b[0;34m\"Test Accuracy:\"\u001b[0m\u001b[0;34m,\u001b[0m \u001b[0mtest_accuracy\u001b[0m\u001b[0;34m)\u001b[0m\u001b[0;34m\u001b[0m\u001b[0m\n",
      "\u001b[0;32m/opt/conda/lib/python3.6/site-packages/tensorflow/python/framework/ops.py\u001b[0m in \u001b[0;36meval\u001b[0;34m(self, feed_dict, session)\u001b[0m\n\u001b[1;32m    604\u001b[0m \u001b[0;34m\u001b[0m\u001b[0m\n\u001b[1;32m    605\u001b[0m     \"\"\"\n\u001b[0;32m--> 606\u001b[0;31m     \u001b[0;32mreturn\u001b[0m \u001b[0m_eval_using_default_session\u001b[0m\u001b[0;34m(\u001b[0m\u001b[0mself\u001b[0m\u001b[0;34m,\u001b[0m \u001b[0mfeed_dict\u001b[0m\u001b[0;34m,\u001b[0m \u001b[0mself\u001b[0m\u001b[0;34m.\u001b[0m\u001b[0mgraph\u001b[0m\u001b[0;34m,\u001b[0m \u001b[0msession\u001b[0m\u001b[0;34m)\u001b[0m\u001b[0;34m\u001b[0m\u001b[0m\n\u001b[0m\u001b[1;32m    607\u001b[0m \u001b[0;34m\u001b[0m\u001b[0m\n\u001b[1;32m    608\u001b[0m \u001b[0;34m\u001b[0m\u001b[0m\n",
      "\u001b[0;32m/opt/conda/lib/python3.6/site-packages/tensorflow/python/framework/ops.py\u001b[0m in \u001b[0;36m_eval_using_default_session\u001b[0;34m(tensors, feed_dict, graph, session)\u001b[0m\n\u001b[1;32m   3926\u001b[0m                        \u001b[0;34m\"the tensor's graph is different from the session's \"\u001b[0m\u001b[0;34m\u001b[0m\u001b[0m\n\u001b[1;32m   3927\u001b[0m                        \"graph.\")\n\u001b[0;32m-> 3928\u001b[0;31m   \u001b[0;32mreturn\u001b[0m \u001b[0msession\u001b[0m\u001b[0;34m.\u001b[0m\u001b[0mrun\u001b[0m\u001b[0;34m(\u001b[0m\u001b[0mtensors\u001b[0m\u001b[0;34m,\u001b[0m \u001b[0mfeed_dict\u001b[0m\u001b[0;34m)\u001b[0m\u001b[0;34m\u001b[0m\u001b[0m\n\u001b[0m\u001b[1;32m   3929\u001b[0m \u001b[0;34m\u001b[0m\u001b[0m\n\u001b[1;32m   3930\u001b[0m \u001b[0;34m\u001b[0m\u001b[0m\n",
      "\u001b[0;32m/opt/conda/lib/python3.6/site-packages/tensorflow/python/client/session.py\u001b[0m in \u001b[0;36mrun\u001b[0;34m(self, fetches, feed_dict, options, run_metadata)\u001b[0m\n\u001b[1;32m    787\u001b[0m     \u001b[0;32mtry\u001b[0m\u001b[0;34m:\u001b[0m\u001b[0;34m\u001b[0m\u001b[0m\n\u001b[1;32m    788\u001b[0m       result = self._run(None, fetches, feed_dict, options_ptr,\n\u001b[0;32m--> 789\u001b[0;31m                          run_metadata_ptr)\n\u001b[0m\u001b[1;32m    790\u001b[0m       \u001b[0;32mif\u001b[0m \u001b[0mrun_metadata\u001b[0m\u001b[0;34m:\u001b[0m\u001b[0;34m\u001b[0m\u001b[0m\n\u001b[1;32m    791\u001b[0m         \u001b[0mproto_data\u001b[0m \u001b[0;34m=\u001b[0m \u001b[0mtf_session\u001b[0m\u001b[0;34m.\u001b[0m\u001b[0mTF_GetBuffer\u001b[0m\u001b[0;34m(\u001b[0m\u001b[0mrun_metadata_ptr\u001b[0m\u001b[0;34m)\u001b[0m\u001b[0;34m\u001b[0m\u001b[0m\n",
      "\u001b[0;32m/opt/conda/lib/python3.6/site-packages/tensorflow/python/client/session.py\u001b[0m in \u001b[0;36m_run\u001b[0;34m(self, handle, fetches, feed_dict, options, run_metadata)\u001b[0m\n\u001b[1;32m    973\u001b[0m                 \u001b[0;34m'Cannot feed value of shape %r for Tensor %r, '\u001b[0m\u001b[0;34m\u001b[0m\u001b[0m\n\u001b[1;32m    974\u001b[0m                 \u001b[0;34m'which has shape %r'\u001b[0m\u001b[0;34m\u001b[0m\u001b[0m\n\u001b[0;32m--> 975\u001b[0;31m                 % (np_val.shape, subfeed_t.name, str(subfeed_t.get_shape())))\n\u001b[0m\u001b[1;32m    976\u001b[0m           \u001b[0;32mif\u001b[0m \u001b[0;32mnot\u001b[0m \u001b[0mself\u001b[0m\u001b[0;34m.\u001b[0m\u001b[0mgraph\u001b[0m\u001b[0;34m.\u001b[0m\u001b[0mis_feedable\u001b[0m\u001b[0;34m(\u001b[0m\u001b[0msubfeed_t\u001b[0m\u001b[0;34m)\u001b[0m\u001b[0;34m:\u001b[0m\u001b[0;34m\u001b[0m\u001b[0m\n\u001b[1;32m    977\u001b[0m             \u001b[0;32mraise\u001b[0m \u001b[0mValueError\u001b[0m\u001b[0;34m(\u001b[0m\u001b[0;34m'Tensor %s may not be fed.'\u001b[0m \u001b[0;34m%\u001b[0m \u001b[0msubfeed_t\u001b[0m\u001b[0;34m)\u001b[0m\u001b[0;34m\u001b[0m\u001b[0m\n",
      "\u001b[0;31mValueError\u001b[0m: Cannot feed value of shape (10000, 28, 28) for Tensor 'Placeholder:0', which has shape '(?, 784)'"
     ]
    }
   ],
   "source": [
    " #SESSION\n",
    "with tf.Session() as sess:\n",
    "    sess.run(init)\n",
    "    \n",
    "    for epoch in range(100):\n",
    "        for i in range(0, 50000, batch_size):\n",
    "            sess.run(optimizer, feed_dict={X:X_train[i:i+batch_size], Y:y_train[i: i+batch_size]})\n",
    "        train_costs.append(sess.run(cost, feed_dict={X:X_train, Y:y_train}))\n",
    "        val_costs.append(sess.run(cost, feed_dict={X:X_val, Y:y_val}))\n",
    "        print(\"Test cost of \" + str(epoch+1)+ \" epochs: \"+ str(train_costs[-1]))\n",
    "\n",
    "    iterations = list(range(100))\n",
    "    plt.plot(iterations, train_costs, label='Train')\n",
    "    plt.plot(iterations, val_costs, label='Test')\n",
    "    plt.ylabel('train cost')\n",
    "    plt.xlabel('iterations')\n",
    "    plt.show()        \n",
    "    \n",
    "    \n",
    "    correct_prediction = tf.equal(tf.argmax(prediction, 1), tf.argmax(Y, 1))\n",
    "\n",
    "    accuracy = tf.reduce_mean(tf.cast(correct_prediction, \"float\"))\n",
    "    train_accuracy = accuracy.eval({X: X_train, Y: y_train})\n",
    "    test_accuracy = accuracy.eval({X: X_test, Y: y_test})\n",
    "    print(\"Train Accuracy:\", train_accuracy)\n",
    "    print(\"Test Accuracy:\", test_accuracy)\n",
    "\n",
    "    \n",
    "    "
   ]
  },
  {
   "cell_type": "code",
   "execution_count": null,
   "metadata": {
    "collapsed": true
   },
   "outputs": [],
   "source": []
  }
 ],
 "metadata": {
  "kernelspec": {
   "display_name": "Python 3",
   "language": "python",
   "name": "python3"
  },
  "language_info": {
   "codemirror_mode": {
    "name": "ipython",
    "version": 3
   },
   "file_extension": ".py",
   "mimetype": "text/x-python",
   "name": "python",
   "nbconvert_exporter": "python",
   "pygments_lexer": "ipython3",
   "version": "3.6.0"
  }
 },
 "nbformat": 4,
 "nbformat_minor": 2
}
